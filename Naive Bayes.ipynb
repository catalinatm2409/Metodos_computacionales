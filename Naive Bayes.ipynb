{
  "nbformat": 4,
  "nbformat_minor": 0,
  "metadata": {
    "colab": {
      "name": "Naive-Bayes.ipynb",
      "provenance": [],
      "collapsed_sections": []
    },
    "kernelspec": {
      "name": "python3",
      "display_name": "Python 3"
    },
    "language_info": {
      "name": "python"
    }
  },
  "cells": [
    {
      "cell_type": "code",
      "source": [
        ""
      ],
      "metadata": {
        "id": "iNRL_1hmLqAf"
      },
      "execution_count": null,
      "outputs": []
    },
    {
      "cell_type": "code",
      "execution_count": null,
      "metadata": {
        "id": "oC2gVQGsLl40"
      },
      "outputs": [],
      "source": [
        "from sklearn.datasets import load_breast_cancer\n",
        "\n",
        "basebc = load_breast_cancer()"
      ]
    },
    {
      "cell_type": "code",
      "source": [
        "basebc.keys()"
      ],
      "metadata": {
        "id": "X-j4hjo3LneY"
      },
      "execution_count": null,
      "outputs": []
    },
    {
      "cell_type": "code",
      "source": [
        "basebc[\"target_names\"]"
      ],
      "metadata": {
        "id": "qt6wWetPLrWW"
      },
      "execution_count": null,
      "outputs": []
    },
    {
      "cell_type": "code",
      "source": [
        "basebc[\"feature_names\"]"
      ],
      "metadata": {
        "id": "mSj525-nLszW"
      },
      "execution_count": null,
      "outputs": []
    },
    {
      "cell_type": "code",
      "source": [
        "import pandas as pd\n",
        "\n",
        "Xdf = pd.DataFrame(basebc[\"data\"], columns = basebc.feature_names)\n",
        "Xdf.head(10)"
      ],
      "metadata": {
        "id": "Li8mJaQ0L8hj"
      },
      "execution_count": null,
      "outputs": []
    },
    {
      "cell_type": "code",
      "source": [
        "from sklearn.model_selection import train_test_split\n",
        "\n",
        "X_train1, X_test1, y_train1, y_test1 = train_test_split(basebc['data'], basebc['target'], random_state = 0)"
      ],
      "metadata": {
        "id": "k78Gcm16Lxr2"
      },
      "execution_count": null,
      "outputs": []
    },
    {
      "cell_type": "code",
      "source": [
        "from sklearn.naive_bayes import GaussianNB\n",
        "\n",
        "bc_bayes = GaussianNB().fit(X_train1, y_train1)\n"
      ],
      "metadata": {
        "id": "5giwP-5kL0fu"
      },
      "execution_count": null,
      "outputs": []
    },
    {
      "cell_type": "code",
      "source": [
        "import matplotlib.pyplot as plt\n",
        "from matplotlib.colors import ListedColormap\n",
        "import seaborn as sns\n",
        "import numpy as np\n",
        "\n",
        "X = basebc[\"data\"][:, :2]\n",
        "y = basebc[\"target\"]\n",
        "\n",
        "cmap_light = ListedColormap([\"red\", \"blue\"])\n",
        "cmap_bold = [\"darkred\", \"darkblue\"]\n",
        "\n",
        "h = 0.04\n",
        "\n",
        "bc_bayes1 = GaussianNB().fit(X, y)\n",
        "\n",
        "plt.figure()\n",
        "x_min, x_max = X[:, 0].min() - 1, X[:, 0].max() + 1\n",
        "y_min, y_max = X[:, 1].min() - 1, X[:, 1].max() + 1\n",
        "xx, yy = np.meshgrid(np.arange(x_min, x_max, h), np.arange(y_min, y_max, h))\n",
        "Z = bc_bayes1.predict(np.c_[xx.ravel(), yy.ravel()])\n",
        "\n",
        "  \n",
        "Z = Z.reshape(xx.shape)\n",
        "plt.figure(figsize=(10, 8))\n",
        "plt.contourf(xx, yy, Z, cmap=cmap_light, alpha=0.75)\n",
        "\n",
        "\n",
        "sns.scatterplot(\n",
        "        x=X[:, 0],\n",
        "        y=X[:, 1],\n",
        "        hue=basebc.target_names[y],\n",
        "        palette=cmap_bold,\n",
        "        alpha=1.0,\n",
        "        edgecolor=\"black\",\n",
        "    )\n",
        "plt.xlim(xx.min(), xx.max())\n",
        "plt.ylim(yy.min(), yy.max())\n",
        "\n",
        "plt.xlabel(basebc.feature_names[0], fontsize=20)\n",
        "plt.ylabel(basebc.feature_names[1], fontsize=20)\n",
        "plt.rc('xtick', labelsize=16) \n",
        "plt.rc('ytick', labelsize=16) \n",
        "\n",
        "plt.show()"
      ],
      "metadata": {
        "id": "YN-ZFWDLL5sD"
      },
      "execution_count": null,
      "outputs": []
    },
    {
      "cell_type": "code",
      "source": [
        "bc_bayes1.score(X,y)"
      ],
      "metadata": {
        "id": "UkgAwQOsMBgB"
      },
      "execution_count": null,
      "outputs": []
    }
  ]
}