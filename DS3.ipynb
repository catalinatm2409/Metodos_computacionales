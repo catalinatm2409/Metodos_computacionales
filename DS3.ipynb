{
  "nbformat": 4,
  "nbformat_minor": 0,
  "metadata": {
    "colab": {
      "name": "DS3.ipynb",
      "provenance": [],
      "collapsed_sections": []
    },
    "kernelspec": {
      "name": "python3",
      "display_name": "Python 3"
    },
    "language_info": {
      "name": "python"
    }
  },
  "cells": [
    {
      "cell_type": "markdown",
      "source": [
        "#Clasificador Naïve-Bayes\n",
        "\n",
        "Probabilidad condicionada.\n",
        "\n",
        "\\begin{equation}\n",
        "P(A|B) = \\frac{P(B|A)P(A)}{P(B)}\n",
        "\\end{equation}\n",
        "\n",
        "\n",
        "\n",
        "![imagen.png](data:image/png;base64,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)\n",
        "\n",
        "Ejemplo: probabilidad de jugar en un día soleado (tomado de https://www.analyticsvidhya.com/blog/2017/09/naive-bayes-explained/).\n",
        "\n",
        "Muestreo total = 14.\n",
        "\n",
        "\\begin{align}\n",
        "&P(\\text{Sí}|\\text{Soleado}) = \\frac{P(\\text{Soleado}|\\text{Sí})*P(\\text{Sí})}{P(\\text{Soleado})} \\\\\n",
        "&P(\\text{Soleado}|\\text{Sí}) = \\frac{3}{9} = \\frac{1}{3} \\\\\n",
        "&P(\\text{Sí}) = 9/14 \\\\\n",
        "&P(\\text{Soleado}) = 5/14 \\\\\n",
        "&P(\\text{Sí}|\\text{Soleado}) = \\frac{1/3*9/14}{5/14} \\\\\n",
        "&P(\\text{Sí}|\\text{Soleado}) = 0.6\n",
        "\\end{align}\n",
        "\n",
        "3 tipos de clasificadores:\n",
        "\n",
        "\n",
        "\n",
        "\n",
        "1.   Multinomial: frecuencia de predictores/features, datos contables.\n",
        "2.   Bernoulli: Predictores tipo Booleano.\n",
        "3.   Gaussiano: Predictores continuos.\n"
      ],
      "metadata": {
        "id": "WRYuVr2SCz4R"
      }
    },
    {
      "cell_type": "code",
      "execution_count": null,
      "metadata": {
        "id": "-PPp9Fg6yMZF"
      },
      "outputs": [],
      "source": [
        "from sklearn.datasets import load_breast_cancer\n",
        "\n",
        "basebc = load_breast_cancer()"
      ]
    },
    {
      "cell_type": "code",
      "source": [
        "basebc.keys()"
      ],
      "metadata": {
        "colab": {
          "base_uri": "https://localhost:8080/"
        },
        "id": "gut5hSGzFMz9",
        "outputId": "26f34f78-73eb-45af-a52c-5f5efa1fe03c"
      },
      "execution_count": null,
      "outputs": [
        {
          "output_type": "execute_result",
          "data": {
            "text/plain": [
              "dict_keys(['data', 'target', 'frame', 'target_names', 'DESCR', 'feature_names', 'filename', 'data_module'])"
            ]
          },
          "metadata": {},
          "execution_count": 3
        }
      ]
    },
    {
      "cell_type": "code",
      "source": [
        "basebc[\"target_names\"]"
      ],
      "metadata": {
        "colab": {
          "base_uri": "https://localhost:8080/"
        },
        "id": "_5LLRgSzFSve",
        "outputId": "7c3b2f28-fc02-4a98-b7aa-e83712f0dbb1"
      },
      "execution_count": null,
      "outputs": [
        {
          "output_type": "execute_result",
          "data": {
            "text/plain": [
              "array(['malignant', 'benign'], dtype='<U9')"
            ]
          },
          "metadata": {},
          "execution_count": 4
        }
      ]
    },
    {
      "cell_type": "code",
      "source": [
        "basebc[\"feature_names\"]"
      ],
      "metadata": {
        "colab": {
          "base_uri": "https://localhost:8080/"
        },
        "id": "C69dS1Y9Fcwx",
        "outputId": "d4d37afd-cbed-4fc7-c849-1fb969bc405a"
      },
      "execution_count": null,
      "outputs": [
        {
          "output_type": "execute_result",
          "data": {
            "text/plain": [
              "array(['mean radius', 'mean texture', 'mean perimeter', 'mean area',\n",
              "       'mean smoothness', 'mean compactness', 'mean concavity',\n",
              "       'mean concave points', 'mean symmetry', 'mean fractal dimension',\n",
              "       'radius error', 'texture error', 'perimeter error', 'area error',\n",
              "       'smoothness error', 'compactness error', 'concavity error',\n",
              "       'concave points error', 'symmetry error',\n",
              "       'fractal dimension error', 'worst radius', 'worst texture',\n",
              "       'worst perimeter', 'worst area', 'worst smoothness',\n",
              "       'worst compactness', 'worst concavity', 'worst concave points',\n",
              "       'worst symmetry', 'worst fractal dimension'], dtype='<U23')"
            ]
          },
          "metadata": {},
          "execution_count": 5
        }
      ]
    },
    {
      "cell_type": "code",
      "source": [
        "basebc[\"data\"]"
      ],
      "metadata": {
        "colab": {
          "base_uri": "https://localhost:8080/"
        },
        "id": "A3kwj8dcFhAQ",
        "outputId": "ce79e00d-e0b8-4290-f041-13f04ac3f09f"
      },
      "execution_count": null,
      "outputs": [
        {
          "output_type": "execute_result",
          "data": {
            "text/plain": [
              "array([[1.799e+01, 1.038e+01, 1.228e+02, ..., 2.654e-01, 4.601e-01,\n",
              "        1.189e-01],\n",
              "       [2.057e+01, 1.777e+01, 1.329e+02, ..., 1.860e-01, 2.750e-01,\n",
              "        8.902e-02],\n",
              "       [1.969e+01, 2.125e+01, 1.300e+02, ..., 2.430e-01, 3.613e-01,\n",
              "        8.758e-02],\n",
              "       ...,\n",
              "       [1.660e+01, 2.808e+01, 1.083e+02, ..., 1.418e-01, 2.218e-01,\n",
              "        7.820e-02],\n",
              "       [2.060e+01, 2.933e+01, 1.401e+02, ..., 2.650e-01, 4.087e-01,\n",
              "        1.240e-01],\n",
              "       [7.760e+00, 2.454e+01, 4.792e+01, ..., 0.000e+00, 2.871e-01,\n",
              "        7.039e-02]])"
            ]
          },
          "metadata": {},
          "execution_count": 6
        }
      ]
    },
    {
      "cell_type": "code",
      "source": [
        "basebc[\"target\"]"
      ],
      "metadata": {
        "colab": {
          "base_uri": "https://localhost:8080/"
        },
        "id": "gkB5IBf7Fn3V",
        "outputId": "54b7a815-1014-41e2-8542-7ad7b329f020"
      },
      "execution_count": null,
      "outputs": [
        {
          "output_type": "execute_result",
          "data": {
            "text/plain": [
              "array([0, 0, 0, 0, 0, 0, 0, 0, 0, 0, 0, 0, 0, 0, 0, 0, 0, 0, 0, 1, 1, 1,\n",
              "       0, 0, 0, 0, 0, 0, 0, 0, 0, 0, 0, 0, 0, 0, 0, 1, 0, 0, 0, 0, 0, 0,\n",
              "       0, 0, 1, 0, 1, 1, 1, 1, 1, 0, 0, 1, 0, 0, 1, 1, 1, 1, 0, 1, 0, 0,\n",
              "       1, 1, 1, 1, 0, 1, 0, 0, 1, 0, 1, 0, 0, 1, 1, 1, 0, 0, 1, 0, 0, 0,\n",
              "       1, 1, 1, 0, 1, 1, 0, 0, 1, 1, 1, 0, 0, 1, 1, 1, 1, 0, 1, 1, 0, 1,\n",
              "       1, 1, 1, 1, 1, 1, 1, 0, 0, 0, 1, 0, 0, 1, 1, 1, 0, 0, 1, 0, 1, 0,\n",
              "       0, 1, 0, 0, 1, 1, 0, 1, 1, 0, 1, 1, 1, 1, 0, 1, 1, 1, 1, 1, 1, 1,\n",
              "       1, 1, 0, 1, 1, 1, 1, 0, 0, 1, 0, 1, 1, 0, 0, 1, 1, 0, 0, 1, 1, 1,\n",
              "       1, 0, 1, 1, 0, 0, 0, 1, 0, 1, 0, 1, 1, 1, 0, 1, 1, 0, 0, 1, 0, 0,\n",
              "       0, 0, 1, 0, 0, 0, 1, 0, 1, 0, 1, 1, 0, 1, 0, 0, 0, 0, 1, 1, 0, 0,\n",
              "       1, 1, 1, 0, 1, 1, 1, 1, 1, 0, 0, 1, 1, 0, 1, 1, 0, 0, 1, 0, 1, 1,\n",
              "       1, 1, 0, 1, 1, 1, 1, 1, 0, 1, 0, 0, 0, 0, 0, 0, 0, 0, 0, 0, 0, 0,\n",
              "       0, 0, 1, 1, 1, 1, 1, 1, 0, 1, 0, 1, 1, 0, 1, 1, 0, 1, 0, 0, 1, 1,\n",
              "       1, 1, 1, 1, 1, 1, 1, 1, 1, 1, 1, 0, 1, 1, 0, 1, 0, 1, 1, 1, 1, 1,\n",
              "       1, 1, 1, 1, 1, 1, 1, 1, 1, 0, 1, 1, 1, 0, 1, 0, 1, 1, 1, 1, 0, 0,\n",
              "       0, 1, 1, 1, 1, 0, 1, 0, 1, 0, 1, 1, 1, 0, 1, 1, 1, 1, 1, 1, 1, 0,\n",
              "       0, 0, 1, 1, 1, 1, 1, 1, 1, 1, 1, 1, 1, 0, 0, 1, 0, 0, 0, 1, 0, 0,\n",
              "       1, 1, 1, 1, 1, 0, 1, 1, 1, 1, 1, 0, 1, 1, 1, 0, 1, 1, 0, 0, 1, 1,\n",
              "       1, 1, 1, 1, 0, 1, 1, 1, 1, 1, 1, 1, 0, 1, 1, 1, 1, 1, 0, 1, 1, 0,\n",
              "       1, 1, 1, 1, 1, 1, 1, 1, 1, 1, 1, 1, 0, 1, 0, 0, 1, 0, 1, 1, 1, 1,\n",
              "       1, 0, 1, 1, 0, 1, 0, 1, 1, 0, 1, 0, 1, 1, 1, 1, 1, 1, 1, 1, 0, 0,\n",
              "       1, 1, 1, 1, 1, 1, 0, 1, 1, 1, 1, 1, 1, 1, 1, 1, 1, 0, 1, 1, 1, 1,\n",
              "       1, 1, 1, 0, 1, 0, 1, 1, 0, 1, 1, 1, 1, 1, 0, 0, 1, 0, 1, 0, 1, 1,\n",
              "       1, 1, 1, 0, 1, 1, 0, 1, 0, 1, 0, 0, 1, 1, 1, 0, 1, 1, 1, 1, 1, 1,\n",
              "       1, 1, 1, 1, 1, 0, 1, 0, 0, 1, 1, 1, 1, 1, 1, 1, 1, 1, 1, 1, 1, 1,\n",
              "       1, 1, 1, 1, 1, 1, 1, 1, 1, 1, 1, 1, 0, 0, 0, 0, 0, 0, 1])"
            ]
          },
          "metadata": {},
          "execution_count": 7
        }
      ]
    },
    {
      "cell_type": "code",
      "source": [
        "from sklearn.model_selection import train_test_split\n",
        "\n",
        "X_train1, X_test1, y_train1, y_test1 = train_test_split(basebc['data'], basebc['target'], random_state = 0)"
      ],
      "metadata": {
        "id": "Jqa3i-7hFtRB"
      },
      "execution_count": null,
      "outputs": []
    },
    {
      "cell_type": "code",
      "source": [
        "from sklearn.naive_bayes import GaussianNB\n",
        "\n",
        "bc_bayes = GaussianNB().fit(X_train1, y_train1)\n",
        "\n",
        "bc_bayes"
      ],
      "metadata": {
        "colab": {
          "base_uri": "https://localhost:8080/"
        },
        "id": "LUKiu3QVF4aw",
        "outputId": "3587f133-cd40-4ea9-a3cb-47bd137ce4d6"
      },
      "execution_count": null,
      "outputs": [
        {
          "output_type": "execute_result",
          "data": {
            "text/plain": [
              "GaussianNB()"
            ]
          },
          "metadata": {},
          "execution_count": 9
        }
      ]
    },
    {
      "cell_type": "code",
      "source": [
        "bc_bayes.score(X_train1, y_train1)"
      ],
      "metadata": {
        "colab": {
          "base_uri": "https://localhost:8080/"
        },
        "id": "eVcrn39rG5Nn",
        "outputId": "cb69ba57-747b-4c58-f5e5-db89261ed321"
      },
      "execution_count": null,
      "outputs": [
        {
          "output_type": "execute_result",
          "data": {
            "text/plain": [
              "0.9507042253521126"
            ]
          },
          "metadata": {},
          "execution_count": 10
        }
      ]
    },
    {
      "cell_type": "code",
      "source": [
        "bc_bayes.score(X_test1, y_test1)"
      ],
      "metadata": {
        "colab": {
          "base_uri": "https://localhost:8080/"
        },
        "id": "taiumFUhGIOZ",
        "outputId": "6b7b6bc6-f349-4326-bb0c-49f1f07aaf26"
      },
      "execution_count": null,
      "outputs": [
        {
          "output_type": "execute_result",
          "data": {
            "text/plain": [
              "0.9370629370629371"
            ]
          },
          "metadata": {},
          "execution_count": 11
        }
      ]
    },
    {
      "cell_type": "code",
      "source": [
        "import matplotlib.pyplot as plt\n",
        "from matplotlib.colors import ListedColormap\n",
        "import seaborn as sns\n",
        "import numpy as np\n",
        "\n",
        "X = basebc[\"data\"][:, :2]\n",
        "y = basebc[\"target\"]\n",
        "\n",
        "cmap_light = ListedColormap([\"red\", \"blue\"])\n",
        "cmap_bold = [\"darkred\", \"darkblue\"]\n",
        "\n",
        "h = 0.04\n",
        "\n",
        "bc_bayes1 = GaussianNB().fit(X, y)\n",
        "\n",
        "plt.figure()\n",
        "x_min, x_max = X[:, 0].min() - 1, X[:, 0].max() + 1\n",
        "y_min, y_max = X[:, 1].min() - 1, X[:, 1].max() + 1\n",
        "xx, yy = np.meshgrid(np.arange(x_min, x_max, h), np.arange(y_min, y_max, h))\n",
        "Z = bc_bayes1.predict(np.c_[xx.ravel(), yy.ravel()])\n",
        "\n",
        "  \n",
        "Z = Z.reshape(xx.shape)\n",
        "plt.figure(figsize=(10, 8))\n",
        "plt.contourf(xx, yy, Z, cmap=cmap_light, alpha=0.75)\n",
        "\n",
        "\n",
        "sns.scatterplot(\n",
        "        x=X[:, 0],\n",
        "        y=X[:, 1],\n",
        "        hue=basebc.target_names[y],\n",
        "        palette=cmap_bold,\n",
        "        alpha=1.0,\n",
        "        edgecolor=\"black\",\n",
        "    )\n",
        "plt.xlim(xx.min(), xx.max())\n",
        "plt.ylim(yy.min(), yy.max())\n",
        "\n",
        "plt.xlabel(basebc.feature_names[0], fontsize=20)\n",
        "plt.ylabel(basebc.feature_names[1], fontsize=20)\n",
        "plt.rc('xtick', labelsize=16) \n",
        "plt.rc('ytick', labelsize=16) \n",
        "\n",
        "plt.show()"
      ],
      "metadata": {
        "colab": {
          "base_uri": "https://localhost:8080/",
          "height": 523
        },
        "id": "s8W8lsiVGkuh",
        "outputId": "3f97aaee-22d7-4d77-88fa-39c98007a633"
      },
      "execution_count": null,
      "outputs": [
        {
          "output_type": "display_data",
          "data": {
            "text/plain": [
              "<Figure size 432x288 with 0 Axes>"
            ]
          },
          "metadata": {}
        },
        {
          "output_type": "display_data",
          "data": {
            "text/plain": [
              "<Figure size 720x576 with 1 Axes>"
            ],
            "image/png": "[encoded data removed]"
          },
          "metadata": {
            "needs_background": "light"
          }
        }
      ]
    },
    {
      "cell_type": "code",
      "source": [
        "type(X)"
      ],
      "metadata": {
        "colab": {
          "base_uri": "https://localhost:8080/"
        },
        "id": "U1pD90AXU_nI",
        "outputId": "baef0a8c-0d01-46e8-ac08-6b1c57b7c765"
      },
      "execution_count": null,
      "outputs": [
        {
          "output_type": "execute_result",
          "data": {
            "text/plain": [
              "numpy.ndarray"
            ]
          },
          "metadata": {},
          "execution_count": 13
        }
      ]
    },
    {
      "cell_type": "code",
      "source": [
        "bc_bayes1.score(X,y)"
      ],
      "metadata": {
        "colab": {
          "base_uri": "https://localhost:8080/"
        },
        "id": "iMSJ-HcyK90_",
        "outputId": "dae6dd5c-f375-4435-9f77-810df84c4a5c"
      },
      "execution_count": null,
      "outputs": [
        {
          "output_type": "execute_result",
          "data": {
            "text/plain": [
              "0.8857644991212654"
            ]
          },
          "metadata": {},
          "execution_count": 14
        }
      ]
    },
    {
      "cell_type": "code",
      "source": [
        "import pandas as pd\n",
        "\n",
        "Xdf = pd.DataFrame(basebc[\"data\"], columns = basebc.feature_names)\n",
        "Xdf.head(10)"
      ],
      "metadata": {
        "colab": {
          "base_uri": "https://localhost:8080/",
          "height": 491
        },
        "id": "OIO3JelsKvu4",
        "outputId": "1715756e-5f4f-4e11-922b-f6b2b83e63bb"
      },
      "execution_count": null,
      "outputs": [
        {
          "output_type": "execute_result",
          "data": {
            "text/plain": [
              "   mean radius  mean texture  mean perimeter  mean area  mean smoothness  \\\n",
              "0        17.99         10.38          122.80     1001.0          0.11840   \n",
              "1        20.57         17.77          132.90     1326.0          0.08474   \n",
              "2        19.69         21.25          130.00     1203.0          0.10960   \n",
              "3        11.42         20.38           77.58      386.1          0.14250   \n",
              "4        20.29         14.34          135.10     1297.0          0.10030   \n",
              "5        12.45         15.70           82.57      477.1          0.12780   \n",
              "6        18.25         19.98          119.60     1040.0          0.09463   \n",
              "7        13.71         20.83           90.20      577.9          0.11890   \n",
              "8        13.00         21.82           87.50      519.8          0.12730   \n",
              "9        12.46         24.04           83.97      475.9          0.11860   \n",
              "\n",
              "   mean compactness  mean concavity  mean concave points  mean symmetry  \\\n",
              "0           0.27760         0.30010              0.14710         0.2419   \n",
              "1           0.07864         0.08690              0.07017         0.1812   \n",
              "2           0.15990         0.19740              0.12790         0.2069   \n",
              "3           0.28390         0.24140              0.10520         0.2597   \n",
              "4           0.13280         0.19800              0.10430         0.1809   \n",
              "5           0.17000         0.15780              0.08089         0.2087   \n",
              "6           0.10900         0.11270              0.07400         0.1794   \n",
              "7           0.16450         0.09366              0.05985         0.2196   \n",
              "8           0.19320         0.18590              0.09353         0.2350   \n",
              "9           0.23960         0.22730              0.08543         0.2030   \n",
              "\n",
              "   mean fractal dimension  ...  worst radius  worst texture  worst perimeter  \\\n",
              "0                 0.07871  ...         25.38          17.33           184.60   \n",
              "1                 0.05667  ...         24.99          23.41           158.80   \n",
              "2                 0.05999  ...         23.57          25.53           152.50   \n",
              "3                 0.09744  ...         14.91          26.50            98.87   \n",
              "4                 0.05883  ...         22.54          16.67           152.20   \n",
              "5                 0.07613  ...         15.47          23.75           103.40   \n",
              "6                 0.05742  ...         22.88          27.66           153.20   \n",
              "7                 0.07451  ...         17.06          28.14           110.60   \n",
              "8                 0.07389  ...         15.49          30.73           106.20   \n",
              "9                 0.08243  ...         15.09          40.68            97.65   \n",
              "\n",
              "   worst area  worst smoothness  worst compactness  worst concavity  \\\n",
              "0      2019.0            0.1622             0.6656           0.7119   \n",
              "1      1956.0            0.1238             0.1866           0.2416   \n",
              "2      1709.0            0.1444             0.4245           0.4504   \n",
              "3       567.7            0.2098             0.8663           0.6869   \n",
              "4      1575.0            0.1374             0.2050           0.4000   \n",
              "5       741.6            0.1791             0.5249           0.5355   \n",
              "6      1606.0            0.1442             0.2576           0.3784   \n",
              "7       897.0            0.1654             0.3682           0.2678   \n",
              "8       739.3            0.1703             0.5401           0.5390   \n",
              "9       711.4            0.1853             1.0580           1.1050   \n",
              "\n",
              "   worst concave points  worst symmetry  worst fractal dimension  \n",
              "0                0.2654          0.4601                  0.11890  \n",
              "1                0.1860          0.2750                  0.08902  \n",
              "2                0.2430          0.3613                  0.08758  \n",
              "3                0.2575          0.6638                  0.17300  \n",
              "4                0.1625          0.2364                  0.07678  \n",
              "5                0.1741          0.3985                  0.12440  \n",
              "6                0.1932          0.3063                  0.08368  \n",
              "7                0.1556          0.3196                  0.11510  \n",
              "8                0.2060          0.4378                  0.10720  \n",
              "9                0.2210          0.4366                  0.20750  \n",
              "\n",
              "[10 rows x 30 columns]"
            ],
            "text/html": [
              "\n",
              "  <div id=\"df-5914312b-625b-4e4c-857d-efbe1d13095f\">\n",
              "    <div class=\"colab-df-container\">\n",
              "      <div>\n",
              "<style scoped>\n",
              "    .dataframe tbody tr th:only-of-type {\n",
              "        vertical-align: middle;\n",
              "    }\n",
              "\n",
              "    .dataframe tbody tr th {\n",
              "        vertical-align: top;\n",
              "    }\n",
              "\n",
              "    .dataframe thead th {\n",
              "        text-align: right;\n",
              "    }\n",
              "</style>\n",
              "<table border=\"1\" class=\"dataframe\">\n",
              "  <thead>\n",
              "    <tr style=\"text-align: right;\">\n",
              "      <th></th>\n",
              "      <th>mean radius</th>\n",
              "      <th>mean texture</th>\n",
              "      <th>mean perimeter</th>\n",
              "      <th>mean area</th>\n",
              "      <th>mean smoothness</th>\n",
              "      <th>mean compactness</th>\n",
              "      <th>mean concavity</th>\n",
              "      <th>mean concave points</th>\n",
              "      <th>mean symmetry</th>\n",
              "      <th>mean fractal dimension</th>\n",
              "      <th>...</th>\n",
              "      <th>worst radius</th>\n",
              "      <th>worst texture</th>\n",
              "      <th>worst perimeter</th>\n",
              "      <th>worst area</th>\n",
              "      <th>worst smoothness</th>\n",
              "      <th>worst compactness</th>\n",
              "      <th>worst concavity</th>\n",
              "      <th>worst concave points</th>\n",
              "      <th>worst symmetry</th>\n",
              "      <th>worst fractal dimension</th>\n",
              "    </tr>\n",
              "  </thead>\n",
              "  <tbody>\n",
              "    <tr>\n",
              "      <th>0</th>\n",
              "      <td>17.99</td>\n",
              "      <td>10.38</td>\n",
              "      <td>122.80</td>\n",
              "      <td>1001.0</td>\n",
              "      <td>0.11840</td>\n",
              "      <td>0.27760</td>\n",
              "      <td>0.30010</td>\n",
              "      <td>0.14710</td>\n",
              "      <td>0.2419</td>\n",
              "      <td>0.07871</td>\n",
              "      <td>...</td>\n",
              "      <td>25.38</td>\n",
              "      <td>17.33</td>\n",
              "      <td>184.60</td>\n",
              "      <td>2019.0</td>\n",
              "      <td>0.1622</td>\n",
              "      <td>0.6656</td>\n",
              "      <td>0.7119</td>\n",
              "      <td>0.2654</td>\n",
              "      <td>0.4601</td>\n",
              "      <td>0.11890</td>\n",
              "    </tr>\n",
              "    <tr>\n",
              "      <th>1</th>\n",
              "      <td>20.57</td>\n",
              "      <td>17.77</td>\n",
              "      <td>132.90</td>\n",
              "      <td>1326.0</td>\n",
              "      <td>0.08474</td>\n",
              "      <td>0.07864</td>\n",
              "      <td>0.08690</td>\n",
              "      <td>0.07017</td>\n",
              "      <td>0.1812</td>\n",
              "      <td>0.05667</td>\n",
              "      <td>...</td>\n",
              "      <td>24.99</td>\n",
              "      <td>23.41</td>\n",
              "      <td>158.80</td>\n",
              "      <td>1956.0</td>\n",
              "      <td>0.1238</td>\n",
              "      <td>0.1866</td>\n",
              "      <td>0.2416</td>\n",
              "      <td>0.1860</td>\n",
              "      <td>0.2750</td>\n",
              "      <td>0.08902</td>\n",
              "    </tr>\n",
              "    <tr>\n",
              "      <th>2</th>\n",
              "      <td>19.69</td>\n",
              "      <td>21.25</td>\n",
              "      <td>130.00</td>\n",
              "      <td>1203.0</td>\n",
              "      <td>0.10960</td>\n",
              "      <td>0.15990</td>\n",
              "      <td>0.19740</td>\n",
              "      <td>0.12790</td>\n",
              "      <td>0.2069</td>\n",
              "      <td>0.05999</td>\n",
              "      <td>...</td>\n",
              "      <td>23.57</td>\n",
              "      <td>25.53</td>\n",
              "      <td>152.50</td>\n",
              "      <td>1709.0</td>\n",
              "      <td>0.1444</td>\n",
              "      <td>0.4245</td>\n",
              "      <td>0.4504</td>\n",
              "      <td>0.2430</td>\n",
              "      <td>0.3613</td>\n",
              "      <td>0.08758</td>\n",
              "    </tr>\n",
              "    <tr>\n",
              "      <th>3</th>\n",
              "      <td>11.42</td>\n",
              "      <td>20.38</td>\n",
              "      <td>77.58</td>\n",
              "      <td>386.1</td>\n",
              "      <td>0.14250</td>\n",
              "      <td>0.28390</td>\n",
              "      <td>0.24140</td>\n",
              "      <td>0.10520</td>\n",
              "      <td>0.2597</td>\n",
              "      <td>0.09744</td>\n",
              "      <td>...</td>\n",
              "      <td>14.91</td>\n",
              "      <td>26.50</td>\n",
              "      <td>98.87</td>\n",
              "      <td>567.7</td>\n",
              "      <td>0.2098</td>\n",
              "      <td>0.8663</td>\n",
              "      <td>0.6869</td>\n",
              "      <td>0.2575</td>\n",
              "      <td>0.6638</td>\n",
              "      <td>0.17300</td>\n",
              "    </tr>\n",
              "    <tr>\n",
              "      <th>4</th>\n",
              "      <td>20.29</td>\n",
              "      <td>14.34</td>\n",
              "      <td>135.10</td>\n",
              "      <td>1297.0</td>\n",
              "      <td>0.10030</td>\n",
              "      <td>0.13280</td>\n",
              "      <td>0.19800</td>\n",
              "      <td>0.10430</td>\n",
              "      <td>0.1809</td>\n",
              "      <td>0.05883</td>\n",
              "      <td>...</td>\n",
              "      <td>22.54</td>\n",
              "      <td>16.67</td>\n",
              "      <td>152.20</td>\n",
              "      <td>1575.0</td>\n",
              "      <td>0.1374</td>\n",
              "      <td>0.2050</td>\n",
              "      <td>0.4000</td>\n",
              "      <td>0.1625</td>\n",
              "      <td>0.2364</td>\n",
              "      <td>0.07678</td>\n",
              "    </tr>\n",
              "    <tr>\n",
              "      <th>5</th>\n",
              "      <td>12.45</td>\n",
              "      <td>15.70</td>\n",
              "      <td>82.57</td>\n",
              "      <td>477.1</td>\n",
              "      <td>0.12780</td>\n",
              "      <td>0.17000</td>\n",
              "      <td>0.15780</td>\n",
              "      <td>0.08089</td>\n",
              "      <td>0.2087</td>\n",
              "      <td>0.07613</td>\n",
              "      <td>...</td>\n",
              "      <td>15.47</td>\n",
              "      <td>23.75</td>\n",
              "      <td>103.40</td>\n",
              "      <td>741.6</td>\n",
              "      <td>0.1791</td>\n",
              "      <td>0.5249</td>\n",
              "      <td>0.5355</td>\n",
              "      <td>0.1741</td>\n",
              "      <td>0.3985</td>\n",
              "      <td>0.12440</td>\n",
              "    </tr>\n",
              "    <tr>\n",
              "      <th>6</th>\n",
              "      <td>18.25</td>\n",
              "      <td>19.98</td>\n",
              "      <td>119.60</td>\n",
              "      <td>1040.0</td>\n",
              "      <td>0.09463</td>\n",
              "      <td>0.10900</td>\n",
              "      <td>0.11270</td>\n",
              "      <td>0.07400</td>\n",
              "      <td>0.1794</td>\n",
              "      <td>0.05742</td>\n",
              "      <td>...</td>\n",
              "      <td>22.88</td>\n",
              "      <td>27.66</td>\n",
              "      <td>153.20</td>\n",
              "      <td>1606.0</td>\n",
              "      <td>0.1442</td>\n",
              "      <td>0.2576</td>\n",
              "      <td>0.3784</td>\n",
              "      <td>0.1932</td>\n",
              "      <td>0.3063</td>\n",
              "      <td>0.08368</td>\n",
              "    </tr>\n",
              "    <tr>\n",
              "      <th>7</th>\n",
              "      <td>13.71</td>\n",
              "      <td>20.83</td>\n",
              "      <td>90.20</td>\n",
              "      <td>577.9</td>\n",
              "      <td>0.11890</td>\n",
              "      <td>0.16450</td>\n",
              "      <td>0.09366</td>\n",
              "      <td>0.05985</td>\n",
              "      <td>0.2196</td>\n",
              "      <td>0.07451</td>\n",
              "      <td>...</td>\n",
              "      <td>17.06</td>\n",
              "      <td>28.14</td>\n",
              "      <td>110.60</td>\n",
              "      <td>897.0</td>\n",
              "      <td>0.1654</td>\n",
              "      <td>0.3682</td>\n",
              "      <td>0.2678</td>\n",
              "      <td>0.1556</td>\n",
              "      <td>0.3196</td>\n",
              "      <td>0.11510</td>\n",
              "    </tr>\n",
              "    <tr>\n",
              "      <th>8</th>\n",
              "      <td>13.00</td>\n",
              "      <td>21.82</td>\n",
              "      <td>87.50</td>\n",
              "      <td>519.8</td>\n",
              "      <td>0.12730</td>\n",
              "      <td>0.19320</td>\n",
              "      <td>0.18590</td>\n",
              "      <td>0.09353</td>\n",
              "      <td>0.2350</td>\n",
              "      <td>0.07389</td>\n",
              "      <td>...</td>\n",
              "      <td>15.49</td>\n",
              "      <td>30.73</td>\n",
              "      <td>106.20</td>\n",
              "      <td>739.3</td>\n",
              "      <td>0.1703</td>\n",
              "      <td>0.5401</td>\n",
              "      <td>0.5390</td>\n",
              "      <td>0.2060</td>\n",
              "      <td>0.4378</td>\n",
              "      <td>0.10720</td>\n",
              "    </tr>\n",
              "    <tr>\n",
              "      <th>9</th>\n",
              "      <td>12.46</td>\n",
              "      <td>24.04</td>\n",
              "      <td>83.97</td>\n",
              "      <td>475.9</td>\n",
              "      <td>0.11860</td>\n",
              "      <td>0.23960</td>\n",
              "      <td>0.22730</td>\n",
              "      <td>0.08543</td>\n",
              "      <td>0.2030</td>\n",
              "      <td>0.08243</td>\n",
              "      <td>...</td>\n",
              "      <td>15.09</td>\n",
              "      <td>40.68</td>\n",
              "      <td>97.65</td>\n",
              "      <td>711.4</td>\n",
              "      <td>0.1853</td>\n",
              "      <td>1.0580</td>\n",
              "      <td>1.1050</td>\n",
              "      <td>0.2210</td>\n",
              "      <td>0.4366</td>\n",
              "      <td>0.20750</td>\n",
              "    </tr>\n",
              "  </tbody>\n",
              "</table>\n",
              "<p>10 rows × 30 columns</p>\n",
              "</div>\n",
              "      <button class=\"colab-df-convert\" onclick=\"convertToInteractive('df-5914312b-625b-4e4c-857d-efbe1d13095f')\"\n",
              "              title=\"Convert this dataframe to an interactive table.\"\n",
              "              style=\"display:none;\">\n",
              "        \n",
              "  <svg xmlns=\"http://www.w3.org/2000/svg\" height=\"24px\"viewBox=\"0 0 24 24\"\n",
              "       width=\"24px\">\n",
              "    <path d=\"M0 0h24v24H0V0z\" fill=\"none\"/>\n",
              "    <path d=\"M18.56 5.44l.94 2.06.94-2.06 2.06-.94-2.06-.94-.94-2.06-.94 2.06-2.06.94zm-11 1L8.5 8.5l.94-2.06 2.06-.94-2.06-.94L8.5 2.5l-.94 2.06-2.06.94zm10 10l.94 2.06.94-2.06 2.06-.94-2.06-.94-.94-2.06-.94 2.06-2.06.94z\"/><path d=\"M17.41 7.96l-1.37-1.37c-.4-.4-.92-.59-1.43-.59-.52 0-1.04.2-1.43.59L10.3 9.45l-7.72 7.72c-.78.78-.78 2.05 0 2.83L4 21.41c.39.39.9.59 1.41.59.51 0 1.02-.2 1.41-.59l7.78-7.78 2.81-2.81c.8-.78.8-2.07 0-2.86zM5.41 20L4 18.59l7.72-7.72 1.47 1.35L5.41 20z\"/>\n",
              "  </svg>\n",
              "      </button>\n",
              "      \n",
              "  <style>\n",
              "    .colab-df-container {\n",
              "      display:flex;\n",
              "      flex-wrap:wrap;\n",
              "      gap: 12px;\n",
              "    }\n",
              "\n",
              "    .colab-df-convert {\n",
              "      background-color: #E8F0FE;\n",
              "      border: none;\n",
              "      border-radius: 50%;\n",
              "      cursor: pointer;\n",
              "      display: none;\n",
              "      fill: #1967D2;\n",
              "      height: 32px;\n",
              "      padding: 0 0 0 0;\n",
              "      width: 32px;\n",
              "    }\n",
              "\n",
              "    .colab-df-convert:hover {\n",
              "      background-color: #E2EBFA;\n",
              "      box-shadow: 0px 1px 2px rgba(60, 64, 67, 0.3), 0px 1px 3px 1px rgba(60, 64, 67, 0.15);\n",
              "      fill: #174EA6;\n",
              "    }\n",
              "\n",
              "    [theme=dark] .colab-df-convert {\n",
              "      background-color: #3B4455;\n",
              "      fill: #D2E3FC;\n",
              "    }\n",
              "\n",
              "    [theme=dark] .colab-df-convert:hover {\n",
              "      background-color: #434B5C;\n",
              "      box-shadow: 0px 1px 3px 1px rgba(0, 0, 0, 0.15);\n",
              "      filter: drop-shadow(0px 1px 2px rgba(0, 0, 0, 0.3));\n",
              "      fill: #FFFFFF;\n",
              "    }\n",
              "  </style>\n",
              "\n",
              "      <script>\n",
              "        const buttonEl =\n",
              "          document.querySelector('#df-5914312b-625b-4e4c-857d-efbe1d13095f button.colab-df-convert');\n",
              "        buttonEl.style.display =\n",
              "          google.colab.kernel.accessAllowed ? 'block' : 'none';\n",
              "\n",
              "        async function convertToInteractive(key) {\n",
              "          const element = document.querySelector('#df-5914312b-625b-4e4c-857d-efbe1d13095f');\n",
              "          const dataTable =\n",
              "            await google.colab.kernel.invokeFunction('convertToInteractive',\n",
              "                                                     [key], {});\n",
              "          if (!dataTable) return;\n",
              "\n",
              "          const docLinkHtml = 'Like what you see? Visit the ' +\n",
              "            '<a target=\"_blank\" href=https://colab.research.google.com/notebooks/data_table.ipynb>data table notebook</a>'\n",
              "            + ' to learn more about interactive tables.';\n",
              "          element.innerHTML = '';\n",
              "          dataTable['output_type'] = 'display_data';\n",
              "          await google.colab.output.renderOutput(dataTable, element);\n",
              "          const docLink = document.createElement('div');\n",
              "          docLink.innerHTML = docLinkHtml;\n",
              "          element.appendChild(docLink);\n",
              "        }\n",
              "      </script>\n",
              "    </div>\n",
              "  </div>\n",
              "  "
            ]
          },
          "metadata": {},
          "execution_count": 15
        }
      ]
    },
    {
      "cell_type": "code",
      "source": [
        "Xdf.iloc[:, [1, 3]]"
      ],
      "metadata": {
        "colab": {
          "base_uri": "https://localhost:8080/",
          "height": 424
        },
        "id": "n-sae0eVMexk",
        "outputId": "f6f2ea8d-09c5-4fed-fbb4-fcff80e6032a"
      },
      "execution_count": null,
      "outputs": [
        {
          "output_type": "execute_result",
          "data": {
            "text/plain": [
              "     mean texture  mean area\n",
              "0           10.38     1001.0\n",
              "1           17.77     1326.0\n",
              "2           21.25     1203.0\n",
              "3           20.38      386.1\n",
              "4           14.34     1297.0\n",
              "..            ...        ...\n",
              "564         22.39     1479.0\n",
              "565         28.25     1261.0\n",
              "566         28.08      858.1\n",
              "567         29.33     1265.0\n",
              "568         24.54      181.0\n",
              "\n",
              "[569 rows x 2 columns]"
            ],
            "text/html": [
              "\n",
              "  <div id=\"df-2e67723c-c2db-4771-aa81-189f4aaf6ce1\">\n",
              "    <div class=\"colab-df-container\">\n",
              "      <div>\n",
              "<style scoped>\n",
              "    .dataframe tbody tr th:only-of-type {\n",
              "        vertical-align: middle;\n",
              "    }\n",
              "\n",
              "    .dataframe tbody tr th {\n",
              "        vertical-align: top;\n",
              "    }\n",
              "\n",
              "    .dataframe thead th {\n",
              "        text-align: right;\n",
              "    }\n",
              "</style>\n",
              "<table border=\"1\" class=\"dataframe\">\n",
              "  <thead>\n",
              "    <tr style=\"text-align: right;\">\n",
              "      <th></th>\n",
              "      <th>mean texture</th>\n",
              "      <th>mean area</th>\n",
              "    </tr>\n",
              "  </thead>\n",
              "  <tbody>\n",
              "    <tr>\n",
              "      <th>0</th>\n",
              "      <td>10.38</td>\n",
              "      <td>1001.0</td>\n",
              "    </tr>\n",
              "    <tr>\n",
              "      <th>1</th>\n",
              "      <td>17.77</td>\n",
              "      <td>1326.0</td>\n",
              "    </tr>\n",
              "    <tr>\n",
              "      <th>2</th>\n",
              "      <td>21.25</td>\n",
              "      <td>1203.0</td>\n",
              "    </tr>\n",
              "    <tr>\n",
              "      <th>3</th>\n",
              "      <td>20.38</td>\n",
              "      <td>386.1</td>\n",
              "    </tr>\n",
              "    <tr>\n",
              "      <th>4</th>\n",
              "      <td>14.34</td>\n",
              "      <td>1297.0</td>\n",
              "    </tr>\n",
              "    <tr>\n",
              "      <th>...</th>\n",
              "      <td>...</td>\n",
              "      <td>...</td>\n",
              "    </tr>\n",
              "    <tr>\n",
              "      <th>564</th>\n",
              "      <td>22.39</td>\n",
              "      <td>1479.0</td>\n",
              "    </tr>\n",
              "    <tr>\n",
              "      <th>565</th>\n",
              "      <td>28.25</td>\n",
              "      <td>1261.0</td>\n",
              "    </tr>\n",
              "    <tr>\n",
              "      <th>566</th>\n",
              "      <td>28.08</td>\n",
              "      <td>858.1</td>\n",
              "    </tr>\n",
              "    <tr>\n",
              "      <th>567</th>\n",
              "      <td>29.33</td>\n",
              "      <td>1265.0</td>\n",
              "    </tr>\n",
              "    <tr>\n",
              "      <th>568</th>\n",
              "      <td>24.54</td>\n",
              "      <td>181.0</td>\n",
              "    </tr>\n",
              "  </tbody>\n",
              "</table>\n",
              "<p>569 rows × 2 columns</p>\n",
              "</div>\n",
              "      <button class=\"colab-df-convert\" onclick=\"convertToInteractive('df-2e67723c-c2db-4771-aa81-189f4aaf6ce1')\"\n",
              "              title=\"Convert this dataframe to an interactive table.\"\n",
              "              style=\"display:none;\">\n",
              "        \n",
              "  <svg xmlns=\"http://www.w3.org/2000/svg\" height=\"24px\"viewBox=\"0 0 24 24\"\n",
              "       width=\"24px\">\n",
              "    <path d=\"M0 0h24v24H0V0z\" fill=\"none\"/>\n",
              "    <path d=\"M18.56 5.44l.94 2.06.94-2.06 2.06-.94-2.06-.94-.94-2.06-.94 2.06-2.06.94zm-11 1L8.5 8.5l.94-2.06 2.06-.94-2.06-.94L8.5 2.5l-.94 2.06-2.06.94zm10 10l.94 2.06.94-2.06 2.06-.94-2.06-.94-.94-2.06-.94 2.06-2.06.94z\"/><path d=\"M17.41 7.96l-1.37-1.37c-.4-.4-.92-.59-1.43-.59-.52 0-1.04.2-1.43.59L10.3 9.45l-7.72 7.72c-.78.78-.78 2.05 0 2.83L4 21.41c.39.39.9.59 1.41.59.51 0 1.02-.2 1.41-.59l7.78-7.78 2.81-2.81c.8-.78.8-2.07 0-2.86zM5.41 20L4 18.59l7.72-7.72 1.47 1.35L5.41 20z\"/>\n",
              "  </svg>\n",
              "      </button>\n",
              "      \n",
              "  <style>\n",
              "    .colab-df-container {\n",
              "      display:flex;\n",
              "      flex-wrap:wrap;\n",
              "      gap: 12px;\n",
              "    }\n",
              "\n",
              "    .colab-df-convert {\n",
              "      background-color: #E8F0FE;\n",
              "      border: none;\n",
              "      border-radius: 50%;\n",
              "      cursor: pointer;\n",
              "      display: none;\n",
              "      fill: #1967D2;\n",
              "      height: 32px;\n",
              "      padding: 0 0 0 0;\n",
              "      width: 32px;\n",
              "    }\n",
              "\n",
              "    .colab-df-convert:hover {\n",
              "      background-color: #E2EBFA;\n",
              "      box-shadow: 0px 1px 2px rgba(60, 64, 67, 0.3), 0px 1px 3px 1px rgba(60, 64, 67, 0.15);\n",
              "      fill: #174EA6;\n",
              "    }\n",
              "\n",
              "    [theme=dark] .colab-df-convert {\n",
              "      background-color: #3B4455;\n",
              "      fill: #D2E3FC;\n",
              "    }\n",
              "\n",
              "    [theme=dark] .colab-df-convert:hover {\n",
              "      background-color: #434B5C;\n",
              "      box-shadow: 0px 1px 3px 1px rgba(0, 0, 0, 0.15);\n",
              "      filter: drop-shadow(0px 1px 2px rgba(0, 0, 0, 0.3));\n",
              "      fill: #FFFFFF;\n",
              "    }\n",
              "  </style>\n",
              "\n",
              "      <script>\n",
              "        const buttonEl =\n",
              "          document.querySelector('#df-2e67723c-c2db-4771-aa81-189f4aaf6ce1 button.colab-df-convert');\n",
              "        buttonEl.style.display =\n",
              "          google.colab.kernel.accessAllowed ? 'block' : 'none';\n",
              "\n",
              "        async function convertToInteractive(key) {\n",
              "          const element = document.querySelector('#df-2e67723c-c2db-4771-aa81-189f4aaf6ce1');\n",
              "          const dataTable =\n",
              "            await google.colab.kernel.invokeFunction('convertToInteractive',\n",
              "                                                     [key], {});\n",
              "          if (!dataTable) return;\n",
              "\n",
              "          const docLinkHtml = 'Like what you see? Visit the ' +\n",
              "            '<a target=\"_blank\" href=https://colab.research.google.com/notebooks/data_table.ipynb>data table notebook</a>'\n",
              "            + ' to learn more about interactive tables.';\n",
              "          element.innerHTML = '';\n",
              "          dataTable['output_type'] = 'display_data';\n",
              "          await google.colab.output.renderOutput(dataTable, element);\n",
              "          const docLink = document.createElement('div');\n",
              "          docLink.innerHTML = docLinkHtml;\n",
              "          element.appendChild(docLink);\n",
              "        }\n",
              "      </script>\n",
              "    </div>\n",
              "  </div>\n",
              "  "
            ]
          },
          "metadata": {},
          "execution_count": 16
        }
      ]
    },
    {
      "cell_type": "code",
      "source": [
        "Xdf.corr()"
      ],
      "metadata": {
        "colab": {
          "base_uri": "https://localhost:8080/",
          "height": 1000
        },
        "id": "-aZnbeL7K396",
        "outputId": "990baea1-2fe3-43cc-80ea-87cf31214ae5"
      },
      "execution_count": null,
      "outputs": [
        {
          "output_type": "execute_result",
          "data": {
            "text/plain": [
              "                         mean radius  mean texture  mean perimeter  mean area  \\\n",
              "mean radius                 1.000000      0.323782        0.997855   0.987357   \n",
              "mean texture                0.323782      1.000000        0.329533   0.321086   \n",
              "mean perimeter              0.997855      0.329533        1.000000   0.986507   \n",
              "mean area                   0.987357      0.321086        0.986507   1.000000   \n",
              "mean smoothness             0.170581     -0.023389        0.207278   0.177028   \n",
              "mean compactness            0.506124      0.236702        0.556936   0.498502   \n",
              "mean concavity              0.676764      0.302418        0.716136   0.685983   \n",
              "mean concave points         0.822529      0.293464        0.850977   0.823269   \n",
              "mean symmetry               0.147741      0.071401        0.183027   0.151293   \n",
              "mean fractal dimension     -0.311631     -0.076437       -0.261477  -0.283110   \n",
              "radius error                0.679090      0.275869        0.691765   0.732562   \n",
              "texture error              -0.097317      0.386358       -0.086761  -0.066280   \n",
              "perimeter error             0.674172      0.281673        0.693135   0.726628   \n",
              "area error                  0.735864      0.259845        0.744983   0.800086   \n",
              "smoothness error           -0.222600      0.006614       -0.202694  -0.166777   \n",
              "compactness error           0.206000      0.191975        0.250744   0.212583   \n",
              "concavity error             0.194204      0.143293        0.228082   0.207660   \n",
              "concave points error        0.376169      0.163851        0.407217   0.372320   \n",
              "symmetry error             -0.104321      0.009127       -0.081629  -0.072497   \n",
              "fractal dimension error    -0.042641      0.054458       -0.005523  -0.019887   \n",
              "worst radius                0.969539      0.352573        0.969476   0.962746   \n",
              "worst texture               0.297008      0.912045        0.303038   0.287489   \n",
              "worst perimeter             0.965137      0.358040        0.970387   0.959120   \n",
              "worst area                  0.941082      0.343546        0.941550   0.959213   \n",
              "worst smoothness            0.119616      0.077503        0.150549   0.123523   \n",
              "worst compactness           0.413463      0.277830        0.455774   0.390410   \n",
              "worst concavity             0.526911      0.301025        0.563879   0.512606   \n",
              "worst concave points        0.744214      0.295316        0.771241   0.722017   \n",
              "worst symmetry              0.163953      0.105008        0.189115   0.143570   \n",
              "worst fractal dimension     0.007066      0.119205        0.051019   0.003738   \n",
              "\n",
              "                         mean smoothness  mean compactness  mean concavity  \\\n",
              "mean radius                     0.170581          0.506124        0.676764   \n",
              "mean texture                   -0.023389          0.236702        0.302418   \n",
              "mean perimeter                  0.207278          0.556936        0.716136   \n",
              "mean area                       0.177028          0.498502        0.685983   \n",
              "mean smoothness                 1.000000          0.659123        0.521984   \n",
              "mean compactness                0.659123          1.000000        0.883121   \n",
              "mean concavity                  0.521984          0.883121        1.000000   \n",
              "mean concave points             0.553695          0.831135        0.921391   \n",
              "mean symmetry                   0.557775          0.602641        0.500667   \n",
              "mean fractal dimension          0.584792          0.565369        0.336783   \n",
              "radius error                    0.301467          0.497473        0.631925   \n",
              "texture error                   0.068406          0.046205        0.076218   \n",
              "perimeter error                 0.296092          0.548905        0.660391   \n",
              "area error                      0.246552          0.455653        0.617427   \n",
              "smoothness error                0.332375          0.135299        0.098564   \n",
              "compactness error               0.318943          0.738722        0.670279   \n",
              "concavity error                 0.248396          0.570517        0.691270   \n",
              "concave points error            0.380676          0.642262        0.683260   \n",
              "symmetry error                  0.200774          0.229977        0.178009   \n",
              "fractal dimension error         0.283607          0.507318        0.449301   \n",
              "worst radius                    0.213120          0.535315        0.688236   \n",
              "worst texture                   0.036072          0.248133        0.299879   \n",
              "worst perimeter                 0.238853          0.590210        0.729565   \n",
              "worst area                      0.206718          0.509604        0.675987   \n",
              "worst smoothness                0.805324          0.565541        0.448822   \n",
              "worst compactness               0.472468          0.865809        0.754968   \n",
              "worst concavity                 0.434926          0.816275        0.884103   \n",
              "worst concave points            0.503053          0.815573        0.861323   \n",
              "worst symmetry                  0.394309          0.510223        0.409464   \n",
              "worst fractal dimension         0.499316          0.687382        0.514930   \n",
              "\n",
              "                         mean concave points  mean symmetry  \\\n",
              "mean radius                         0.822529       0.147741   \n",
              "mean texture                        0.293464       0.071401   \n",
              "mean perimeter                      0.850977       0.183027   \n",
              "mean area                           0.823269       0.151293   \n",
              "mean smoothness                     0.553695       0.557775   \n",
              "mean compactness                    0.831135       0.602641   \n",
              "mean concavity                      0.921391       0.500667   \n",
              "mean concave points                 1.000000       0.462497   \n",
              "mean symmetry                       0.462497       1.000000   \n",
              "mean fractal dimension              0.166917       0.479921   \n",
              "radius error                        0.698050       0.303379   \n",
              "texture error                       0.021480       0.128053   \n",
              "perimeter error                     0.710650       0.313893   \n",
              "area error                          0.690299       0.223970   \n",
              "smoothness error                    0.027653       0.187321   \n",
              "compactness error                   0.490424       0.421659   \n",
              "concavity error                     0.439167       0.342627   \n",
              "concave points error                0.615634       0.393298   \n",
              "symmetry error                      0.095351       0.449137   \n",
              "fractal dimension error             0.257584       0.331786   \n",
              "worst radius                        0.830318       0.185728   \n",
              "worst texture                       0.292752       0.090651   \n",
              "worst perimeter                     0.855923       0.219169   \n",
              "worst area                          0.809630       0.177193   \n",
              "worst smoothness                    0.452753       0.426675   \n",
              "worst compactness                   0.667454       0.473200   \n",
              "worst concavity                     0.752399       0.433721   \n",
              "worst concave points                0.910155       0.430297   \n",
              "worst symmetry                      0.375744       0.699826   \n",
              "worst fractal dimension             0.368661       0.438413   \n",
              "\n",
              "                         mean fractal dimension  ...  worst radius  \\\n",
              "mean radius                           -0.311631  ...      0.969539   \n",
              "mean texture                          -0.076437  ...      0.352573   \n",
              "mean perimeter                        -0.261477  ...      0.969476   \n",
              "mean area                             -0.283110  ...      0.962746   \n",
              "mean smoothness                        0.584792  ...      0.213120   \n",
              "mean compactness                       0.565369  ...      0.535315   \n",
              "mean concavity                         0.336783  ...      0.688236   \n",
              "mean concave points                    0.166917  ...      0.830318   \n",
              "mean symmetry                          0.479921  ...      0.185728   \n",
              "mean fractal dimension                 1.000000  ...     -0.253691   \n",
              "radius error                           0.000111  ...      0.715065   \n",
              "texture error                          0.164174  ...     -0.111690   \n",
              "perimeter error                        0.039830  ...      0.697201   \n",
              "area error                            -0.090170  ...      0.757373   \n",
              "smoothness error                       0.401964  ...     -0.230691   \n",
              "compactness error                      0.559837  ...      0.204607   \n",
              "concavity error                        0.446630  ...      0.186904   \n",
              "concave points error                   0.341198  ...      0.358127   \n",
              "symmetry error                         0.345007  ...     -0.128121   \n",
              "fractal dimension error                0.688132  ...     -0.037488   \n",
              "worst radius                          -0.253691  ...      1.000000   \n",
              "worst texture                         -0.051269  ...      0.359921   \n",
              "worst perimeter                       -0.205151  ...      0.993708   \n",
              "worst area                            -0.231854  ...      0.984015   \n",
              "worst smoothness                       0.504942  ...      0.216574   \n",
              "worst compactness                      0.458798  ...      0.475820   \n",
              "worst concavity                        0.346234  ...      0.573975   \n",
              "worst concave points                   0.175325  ...      0.787424   \n",
              "worst symmetry                         0.334019  ...      0.243529   \n",
              "worst fractal dimension                0.767297  ...      0.093492   \n",
              "\n",
              "                         worst texture  worst perimeter  worst area  \\\n",
              "mean radius                   0.297008         0.965137    0.941082   \n",
              "mean texture                  0.912045         0.358040    0.343546   \n",
              "mean perimeter                0.303038         0.970387    0.941550   \n",
              "mean area                     0.287489         0.959120    0.959213   \n",
              "mean smoothness               0.036072         0.238853    0.206718   \n",
              "mean compactness              0.248133         0.590210    0.509604   \n",
              "mean concavity                0.299879         0.729565    0.675987   \n",
              "mean concave points           0.292752         0.855923    0.809630   \n",
              "mean symmetry                 0.090651         0.219169    0.177193   \n",
              "mean fractal dimension       -0.051269        -0.205151   -0.231854   \n",
              "radius error                  0.194799         0.719684    0.751548   \n",
              "texture error                 0.409003        -0.102242   -0.083195   \n",
              "perimeter error               0.200371         0.721031    0.730713   \n",
              "area error                    0.196497         0.761213    0.811408   \n",
              "smoothness error             -0.074743        -0.217304   -0.182195   \n",
              "compactness error             0.143003         0.260516    0.199371   \n",
              "concavity error               0.100241         0.226680    0.188353   \n",
              "concave points error          0.086741         0.394999    0.342271   \n",
              "symmetry error               -0.077473        -0.103753   -0.110343   \n",
              "fractal dimension error      -0.003195        -0.001000   -0.022736   \n",
              "worst radius                  0.359921         0.993708    0.984015   \n",
              "worst texture                 1.000000         0.365098    0.345842   \n",
              "worst perimeter               0.365098         1.000000    0.977578   \n",
              "worst area                    0.345842         0.977578    1.000000   \n",
              "worst smoothness              0.225429         0.236775    0.209145   \n",
              "worst compactness             0.360832         0.529408    0.438296   \n",
              "worst concavity               0.368366         0.618344    0.543331   \n",
              "worst concave points          0.359755         0.816322    0.747419   \n",
              "worst symmetry                0.233027         0.269493    0.209146   \n",
              "worst fractal dimension       0.219122         0.138957    0.079647   \n",
              "\n",
              "                         worst smoothness  worst compactness  worst concavity  \\\n",
              "mean radius                      0.119616           0.413463         0.526911   \n",
              "mean texture                     0.077503           0.277830         0.301025   \n",
              "mean perimeter                   0.150549           0.455774         0.563879   \n",
              "mean area                        0.123523           0.390410         0.512606   \n",
              "mean smoothness                  0.805324           0.472468         0.434926   \n",
              "mean compactness                 0.565541           0.865809         0.816275   \n",
              "mean concavity                   0.448822           0.754968         0.884103   \n",
              "mean concave points              0.452753           0.667454         0.752399   \n",
              "mean symmetry                    0.426675           0.473200         0.433721   \n",
              "mean fractal dimension           0.504942           0.458798         0.346234   \n",
              "radius error                     0.141919           0.287103         0.380585   \n",
              "texture error                   -0.073658          -0.092439        -0.068956   \n",
              "perimeter error                  0.130054           0.341919         0.418899   \n",
              "area error                       0.125389           0.283257         0.385100   \n",
              "smoothness error                 0.314457          -0.055558        -0.058298   \n",
              "compactness error                0.227394           0.678780         0.639147   \n",
              "concavity error                  0.168481           0.484858         0.662564   \n",
              "concave points error             0.215351           0.452888         0.549592   \n",
              "symmetry error                  -0.012662           0.060255         0.037119   \n",
              "fractal dimension error          0.170568           0.390159         0.379975   \n",
              "worst radius                     0.216574           0.475820         0.573975   \n",
              "worst texture                    0.225429           0.360832         0.368366   \n",
              "worst perimeter                  0.236775           0.529408         0.618344   \n",
              "worst area                       0.209145           0.438296         0.543331   \n",
              "worst smoothness                 1.000000           0.568187         0.518523   \n",
              "worst compactness                0.568187           1.000000         0.892261   \n",
              "worst concavity                  0.518523           0.892261         1.000000   \n",
              "worst concave points             0.547691           0.801080         0.855434   \n",
              "worst symmetry                   0.493838           0.614441         0.532520   \n",
              "worst fractal dimension          0.617624           0.810455         0.686511   \n",
              "\n",
              "                         worst concave points  worst symmetry  \\\n",
              "mean radius                          0.744214        0.163953   \n",
              "mean texture                         0.295316        0.105008   \n",
              "mean perimeter                       0.771241        0.189115   \n",
              "mean area                            0.722017        0.143570   \n",
              "mean smoothness                      0.503053        0.394309   \n",
              "mean compactness                     0.815573        0.510223   \n",
              "mean concavity                       0.861323        0.409464   \n",
              "mean concave points                  0.910155        0.375744   \n",
              "mean symmetry                        0.430297        0.699826   \n",
              "mean fractal dimension               0.175325        0.334019   \n",
              "radius error                         0.531062        0.094543   \n",
              "texture error                       -0.119638       -0.128215   \n",
              "perimeter error                      0.554897        0.109930   \n",
              "area error                           0.538166        0.074126   \n",
              "smoothness error                    -0.102007       -0.107342   \n",
              "compactness error                    0.483208        0.277878   \n",
              "concavity error                      0.440472        0.197788   \n",
              "concave points error                 0.602450        0.143116   \n",
              "symmetry error                      -0.030413        0.389402   \n",
              "fractal dimension error              0.215204        0.111094   \n",
              "worst radius                         0.787424        0.243529   \n",
              "worst texture                        0.359755        0.233027   \n",
              "worst perimeter                      0.816322        0.269493   \n",
              "worst area                           0.747419        0.209146   \n",
              "worst smoothness                     0.547691        0.493838   \n",
              "worst compactness                    0.801080        0.614441   \n",
              "worst concavity                      0.855434        0.532520   \n",
              "worst concave points                 1.000000        0.502528   \n",
              "worst symmetry                       0.502528        1.000000   \n",
              "worst fractal dimension              0.511114        0.537848   \n",
              "\n",
              "                         worst fractal dimension  \n",
              "mean radius                             0.007066  \n",
              "mean texture                            0.119205  \n",
              "mean perimeter                          0.051019  \n",
              "mean area                               0.003738  \n",
              "mean smoothness                         0.499316  \n",
              "mean compactness                        0.687382  \n",
              "mean concavity                          0.514930  \n",
              "mean concave points                     0.368661  \n",
              "mean symmetry                           0.438413  \n",
              "mean fractal dimension                  0.767297  \n",
              "radius error                            0.049559  \n",
              "texture error                          -0.045655  \n",
              "perimeter error                         0.085433  \n",
              "area error                              0.017539  \n",
              "smoothness error                        0.101480  \n",
              "compactness error                       0.590973  \n",
              "concavity error                         0.439329  \n",
              "concave points error                    0.310655  \n",
              "symmetry error                          0.078079  \n",
              "fractal dimension error                 0.591328  \n",
              "worst radius                            0.093492  \n",
              "worst texture                           0.219122  \n",
              "worst perimeter                         0.138957  \n",
              "worst area                              0.079647  \n",
              "worst smoothness                        0.617624  \n",
              "worst compactness                       0.810455  \n",
              "worst concavity                         0.686511  \n",
              "worst concave points                    0.511114  \n",
              "worst symmetry                          0.537848  \n",
              "worst fractal dimension                 1.000000  \n",
              "\n",
              "[30 rows x 30 columns]"
            ],
            "text/html": [
              "\n",
              "  <div id=\"df-62b352a9-20c2-496f-a18f-4b2a78ae5c5b\">\n",
              "    <div class=\"colab-df-container\">\n",
              "      <div>\n",
              "<style scoped>\n",
              "    .dataframe tbody tr th:only-of-type {\n",
              "        vertical-align: middle;\n",
              "    }\n",
              "\n",
              "    .dataframe tbody tr th {\n",
              "        vertical-align: top;\n",
              "    }\n",
              "\n",
              "    .dataframe thead th {\n",
              "        text-align: right;\n",
              "    }\n",
              "</style>\n",
              "<table border=\"1\" class=\"dataframe\">\n",
              "  <thead>\n",
              "    <tr style=\"text-align: right;\">\n",
              "      <th></th>\n",
              "      <th>mean radius</th>\n",
              "      <th>mean texture</th>\n",
              "      <th>mean perimeter</th>\n",
              "      <th>mean area</th>\n",
              "      <th>mean smoothness</th>\n",
              "      <th>mean compactness</th>\n",
              "      <th>mean concavity</th>\n",
              "      <th>mean concave points</th>\n",
              "      <th>mean symmetry</th>\n",
              "      <th>mean fractal dimension</th>\n",
              "      <th>...</th>\n",
              "      <th>worst radius</th>\n",
              "      <th>worst texture</th>\n",
              "      <th>worst perimeter</th>\n",
              "      <th>worst area</th>\n",
              "      <th>worst smoothness</th>\n",
              "      <th>worst compactness</th>\n",
              "      <th>worst concavity</th>\n",
              "      <th>worst concave points</th>\n",
              "      <th>worst symmetry</th>\n",
              "      <th>worst fractal dimension</th>\n",
              "    </tr>\n",
              "  </thead>\n",
              "  <tbody>\n",
              "    <tr>\n",
              "      <th>mean radius</th>\n",
              "      <td>1.000000</td>\n",
              "      <td>0.323782</td>\n",
              "      <td>0.997855</td>\n",
              "      <td>0.987357</td>\n",
              "      <td>0.170581</td>\n",
              "      <td>0.506124</td>\n",
              "      <td>0.676764</td>\n",
              "      <td>0.822529</td>\n",
              "      <td>0.147741</td>\n",
              "      <td>-0.311631</td>\n",
              "      <td>...</td>\n",
              "      <td>0.969539</td>\n",
              "      <td>0.297008</td>\n",
              "      <td>0.965137</td>\n",
              "      <td>0.941082</td>\n",
              "      <td>0.119616</td>\n",
              "      <td>0.413463</td>\n",
              "      <td>0.526911</td>\n",
              "      <td>0.744214</td>\n",
              "      <td>0.163953</td>\n",
              "      <td>0.007066</td>\n",
              "    </tr>\n",
              "    <tr>\n",
              "      <th>mean texture</th>\n",
              "      <td>0.323782</td>\n",
              "      <td>1.000000</td>\n",
              "      <td>0.329533</td>\n",
              "      <td>0.321086</td>\n",
              "      <td>-0.023389</td>\n",
              "      <td>0.236702</td>\n",
              "      <td>0.302418</td>\n",
              "      <td>0.293464</td>\n",
              "      <td>0.071401</td>\n",
              "      <td>-0.076437</td>\n",
              "      <td>...</td>\n",
              "      <td>0.352573</td>\n",
              "      <td>0.912045</td>\n",
              "      <td>0.358040</td>\n",
              "      <td>0.343546</td>\n",
              "      <td>0.077503</td>\n",
              "      <td>0.277830</td>\n",
              "      <td>0.301025</td>\n",
              "      <td>0.295316</td>\n",
              "      <td>0.105008</td>\n",
              "      <td>0.119205</td>\n",
              "    </tr>\n",
              "    <tr>\n",
              "      <th>mean perimeter</th>\n",
              "      <td>0.997855</td>\n",
              "      <td>0.329533</td>\n",
              "      <td>1.000000</td>\n",
              "      <td>0.986507</td>\n",
              "      <td>0.207278</td>\n",
              "      <td>0.556936</td>\n",
              "      <td>0.716136</td>\n",
              "      <td>0.850977</td>\n",
              "      <td>0.183027</td>\n",
              "      <td>-0.261477</td>\n",
              "      <td>...</td>\n",
              "      <td>0.969476</td>\n",
              "      <td>0.303038</td>\n",
              "      <td>0.970387</td>\n",
              "      <td>0.941550</td>\n",
              "      <td>0.150549</td>\n",
              "      <td>0.455774</td>\n",
              "      <td>0.563879</td>\n",
              "      <td>0.771241</td>\n",
              "      <td>0.189115</td>\n",
              "      <td>0.051019</td>\n",
              "    </tr>\n",
              "    <tr>\n",
              "      <th>mean area</th>\n",
              "      <td>0.987357</td>\n",
              "      <td>0.321086</td>\n",
              "      <td>0.986507</td>\n",
              "      <td>1.000000</td>\n",
              "      <td>0.177028</td>\n",
              "      <td>0.498502</td>\n",
              "      <td>0.685983</td>\n",
              "      <td>0.823269</td>\n",
              "      <td>0.151293</td>\n",
              "      <td>-0.283110</td>\n",
              "      <td>...</td>\n",
              "      <td>0.962746</td>\n",
              "      <td>0.287489</td>\n",
              "      <td>0.959120</td>\n",
              "      <td>0.959213</td>\n",
              "      <td>0.123523</td>\n",
              "      <td>0.390410</td>\n",
              "      <td>0.512606</td>\n",
              "      <td>0.722017</td>\n",
              "      <td>0.143570</td>\n",
              "      <td>0.003738</td>\n",
              "    </tr>\n",
              "    <tr>\n",
              "      <th>mean smoothness</th>\n",
              "      <td>0.170581</td>\n",
              "      <td>-0.023389</td>\n",
              "      <td>0.207278</td>\n",
              "      <td>0.177028</td>\n",
              "      <td>1.000000</td>\n",
              "      <td>0.659123</td>\n",
              "      <td>0.521984</td>\n",
              "      <td>0.553695</td>\n",
              "      <td>0.557775</td>\n",
              "      <td>0.584792</td>\n",
              "      <td>...</td>\n",
              "      <td>0.213120</td>\n",
              "      <td>0.036072</td>\n",
              "      <td>0.238853</td>\n",
              "      <td>0.206718</td>\n",
              "      <td>0.805324</td>\n",
              "      <td>0.472468</td>\n",
              "      <td>0.434926</td>\n",
              "      <td>0.503053</td>\n",
              "      <td>0.394309</td>\n",
              "      <td>0.499316</td>\n",
              "    </tr>\n",
              "    <tr>\n",
              "      <th>mean compactness</th>\n",
              "      <td>0.506124</td>\n",
              "      <td>0.236702</td>\n",
              "      <td>0.556936</td>\n",
              "      <td>0.498502</td>\n",
              "      <td>0.659123</td>\n",
              "      <td>1.000000</td>\n",
              "      <td>0.883121</td>\n",
              "      <td>0.831135</td>\n",
              "      <td>0.602641</td>\n",
              "      <td>0.565369</td>\n",
              "      <td>...</td>\n",
              "      <td>0.535315</td>\n",
              "      <td>0.248133</td>\n",
              "      <td>0.590210</td>\n",
              "      <td>0.509604</td>\n",
              "      <td>0.565541</td>\n",
              "      <td>0.865809</td>\n",
              "      <td>0.816275</td>\n",
              "      <td>0.815573</td>\n",
              "      <td>0.510223</td>\n",
              "      <td>0.687382</td>\n",
              "    </tr>\n",
              "    <tr>\n",
              "      <th>mean concavity</th>\n",
              "      <td>0.676764</td>\n",
              "      <td>0.302418</td>\n",
              "      <td>0.716136</td>\n",
              "      <td>0.685983</td>\n",
              "      <td>0.521984</td>\n",
              "      <td>0.883121</td>\n",
              "      <td>1.000000</td>\n",
              "      <td>0.921391</td>\n",
              "      <td>0.500667</td>\n",
              "      <td>0.336783</td>\n",
              "      <td>...</td>\n",
              "      <td>0.688236</td>\n",
              "      <td>0.299879</td>\n",
              "      <td>0.729565</td>\n",
              "      <td>0.675987</td>\n",
              "      <td>0.448822</td>\n",
              "      <td>0.754968</td>\n",
              "      <td>0.884103</td>\n",
              "      <td>0.861323</td>\n",
              "      <td>0.409464</td>\n",
              "      <td>0.514930</td>\n",
              "    </tr>\n",
              "    <tr>\n",
              "      <th>mean concave points</th>\n",
              "      <td>0.822529</td>\n",
              "      <td>0.293464</td>\n",
              "      <td>0.850977</td>\n",
              "      <td>0.823269</td>\n",
              "      <td>0.553695</td>\n",
              "      <td>0.831135</td>\n",
              "      <td>0.921391</td>\n",
              "      <td>1.000000</td>\n",
              "      <td>0.462497</td>\n",
              "      <td>0.166917</td>\n",
              "      <td>...</td>\n",
              "      <td>0.830318</td>\n",
              "      <td>0.292752</td>\n",
              "      <td>0.855923</td>\n",
              "      <td>0.809630</td>\n",
              "      <td>0.452753</td>\n",
              "      <td>0.667454</td>\n",
              "      <td>0.752399</td>\n",
              "      <td>0.910155</td>\n",
              "      <td>0.375744</td>\n",
              "      <td>0.368661</td>\n",
              "    </tr>\n",
              "    <tr>\n",
              "      <th>mean symmetry</th>\n",
              "      <td>0.147741</td>\n",
              "      <td>0.071401</td>\n",
              "      <td>0.183027</td>\n",
              "      <td>0.151293</td>\n",
              "      <td>0.557775</td>\n",
              "      <td>0.602641</td>\n",
              "      <td>0.500667</td>\n",
              "      <td>0.462497</td>\n",
              "      <td>1.000000</td>\n",
              "      <td>0.479921</td>\n",
              "      <td>...</td>\n",
              "      <td>0.185728</td>\n",
              "      <td>0.090651</td>\n",
              "      <td>0.219169</td>\n",
              "      <td>0.177193</td>\n",
              "      <td>0.426675</td>\n",
              "      <td>0.473200</td>\n",
              "      <td>0.433721</td>\n",
              "      <td>0.430297</td>\n",
              "      <td>0.699826</td>\n",
              "      <td>0.438413</td>\n",
              "    </tr>\n",
              "    <tr>\n",
              "      <th>mean fractal dimension</th>\n",
              "      <td>-0.311631</td>\n",
              "      <td>-0.076437</td>\n",
              "      <td>-0.261477</td>\n",
              "      <td>-0.283110</td>\n",
              "      <td>0.584792</td>\n",
              "      <td>0.565369</td>\n",
              "      <td>0.336783</td>\n",
              "      <td>0.166917</td>\n",
              "      <td>0.479921</td>\n",
              "      <td>1.000000</td>\n",
              "      <td>...</td>\n",
              "      <td>-0.253691</td>\n",
              "      <td>-0.051269</td>\n",
              "      <td>-0.205151</td>\n",
              "      <td>-0.231854</td>\n",
              "      <td>0.504942</td>\n",
              "      <td>0.458798</td>\n",
              "      <td>0.346234</td>\n",
              "      <td>0.175325</td>\n",
              "      <td>0.334019</td>\n",
              "      <td>0.767297</td>\n",
              "    </tr>\n",
              "    <tr>\n",
              "      <th>radius error</th>\n",
              "      <td>0.679090</td>\n",
              "      <td>0.275869</td>\n",
              "      <td>0.691765</td>\n",
              "      <td>0.732562</td>\n",
              "      <td>0.301467</td>\n",
              "      <td>0.497473</td>\n",
              "      <td>0.631925</td>\n",
              "      <td>0.698050</td>\n",
              "      <td>0.303379</td>\n",
              "      <td>0.000111</td>\n",
              "      <td>...</td>\n",
              "      <td>0.715065</td>\n",
              "      <td>0.194799</td>\n",
              "      <td>0.719684</td>\n",
              "      <td>0.751548</td>\n",
              "      <td>0.141919</td>\n",
              "      <td>0.287103</td>\n",
              "      <td>0.380585</td>\n",
              "      <td>0.531062</td>\n",
              "      <td>0.094543</td>\n",
              "      <td>0.049559</td>\n",
              "    </tr>\n",
              "    <tr>\n",
              "      <th>texture error</th>\n",
              "      <td>-0.097317</td>\n",
              "      <td>0.386358</td>\n",
              "      <td>-0.086761</td>\n",
              "      <td>-0.066280</td>\n",
              "      <td>0.068406</td>\n",
              "      <td>0.046205</td>\n",
              "      <td>0.076218</td>\n",
              "      <td>0.021480</td>\n",
              "      <td>0.128053</td>\n",
              "      <td>0.164174</td>\n",
              "      <td>...</td>\n",
              "      <td>-0.111690</td>\n",
              "      <td>0.409003</td>\n",
              "      <td>-0.102242</td>\n",
              "      <td>-0.083195</td>\n",
              "      <td>-0.073658</td>\n",
              "      <td>-0.092439</td>\n",
              "      <td>-0.068956</td>\n",
              "      <td>-0.119638</td>\n",
              "      <td>-0.128215</td>\n",
              "      <td>-0.045655</td>\n",
              "    </tr>\n",
              "    <tr>\n",
              "      <th>perimeter error</th>\n",
              "      <td>0.674172</td>\n",
              "      <td>0.281673</td>\n",
              "      <td>0.693135</td>\n",
              "      <td>0.726628</td>\n",
              "      <td>0.296092</td>\n",
              "      <td>0.548905</td>\n",
              "      <td>0.660391</td>\n",
              "      <td>0.710650</td>\n",
              "      <td>0.313893</td>\n",
              "      <td>0.039830</td>\n",
              "      <td>...</td>\n",
              "      <td>0.697201</td>\n",
              "      <td>0.200371</td>\n",
              "      <td>0.721031</td>\n",
              "      <td>0.730713</td>\n",
              "      <td>0.130054</td>\n",
              "      <td>0.341919</td>\n",
              "      <td>0.418899</td>\n",
              "      <td>0.554897</td>\n",
              "      <td>0.109930</td>\n",
              "      <td>0.085433</td>\n",
              "    </tr>\n",
              "    <tr>\n",
              "      <th>area error</th>\n",
              "      <td>0.735864</td>\n",
              "      <td>0.259845</td>\n",
              "      <td>0.744983</td>\n",
              "      <td>0.800086</td>\n",
              "      <td>0.246552</td>\n",
              "      <td>0.455653</td>\n",
              "      <td>0.617427</td>\n",
              "      <td>0.690299</td>\n",
              "      <td>0.223970</td>\n",
              "      <td>-0.090170</td>\n",
              "      <td>...</td>\n",
              "      <td>0.757373</td>\n",
              "      <td>0.196497</td>\n",
              "      <td>0.761213</td>\n",
              "      <td>0.811408</td>\n",
              "      <td>0.125389</td>\n",
              "      <td>0.283257</td>\n",
              "      <td>0.385100</td>\n",
              "      <td>0.538166</td>\n",
              "      <td>0.074126</td>\n",
              "      <td>0.017539</td>\n",
              "    </tr>\n",
              "    <tr>\n",
              "      <th>smoothness error</th>\n",
              "      <td>-0.222600</td>\n",
              "      <td>0.006614</td>\n",
              "      <td>-0.202694</td>\n",
              "      <td>-0.166777</td>\n",
              "      <td>0.332375</td>\n",
              "      <td>0.135299</td>\n",
              "      <td>0.098564</td>\n",
              "      <td>0.027653</td>\n",
              "      <td>0.187321</td>\n",
              "      <td>0.401964</td>\n",
              "      <td>...</td>\n",
              "      <td>-0.230691</td>\n",
              "      <td>-0.074743</td>\n",
              "      <td>-0.217304</td>\n",
              "      <td>-0.182195</td>\n",
              "      <td>0.314457</td>\n",
              "      <td>-0.055558</td>\n",
              "      <td>-0.058298</td>\n",
              "      <td>-0.102007</td>\n",
              "      <td>-0.107342</td>\n",
              "      <td>0.101480</td>\n",
              "    </tr>\n",
              "    <tr>\n",
              "      <th>compactness error</th>\n",
              "      <td>0.206000</td>\n",
              "      <td>0.191975</td>\n",
              "      <td>0.250744</td>\n",
              "      <td>0.212583</td>\n",
              "      <td>0.318943</td>\n",
              "      <td>0.738722</td>\n",
              "      <td>0.670279</td>\n",
              "      <td>0.490424</td>\n",
              "      <td>0.421659</td>\n",
              "      <td>0.559837</td>\n",
              "      <td>...</td>\n",
              "      <td>0.204607</td>\n",
              "      <td>0.143003</td>\n",
              "      <td>0.260516</td>\n",
              "      <td>0.199371</td>\n",
              "      <td>0.227394</td>\n",
              "      <td>0.678780</td>\n",
              "      <td>0.639147</td>\n",
              "      <td>0.483208</td>\n",
              "      <td>0.277878</td>\n",
              "      <td>0.590973</td>\n",
              "    </tr>\n",
              "    <tr>\n",
              "      <th>concavity error</th>\n",
              "      <td>0.194204</td>\n",
              "      <td>0.143293</td>\n",
              "      <td>0.228082</td>\n",
              "      <td>0.207660</td>\n",
              "      <td>0.248396</td>\n",
              "      <td>0.570517</td>\n",
              "      <td>0.691270</td>\n",
              "      <td>0.439167</td>\n",
              "      <td>0.342627</td>\n",
              "      <td>0.446630</td>\n",
              "      <td>...</td>\n",
              "      <td>0.186904</td>\n",
              "      <td>0.100241</td>\n",
              "      <td>0.226680</td>\n",
              "      <td>0.188353</td>\n",
              "      <td>0.168481</td>\n",
              "      <td>0.484858</td>\n",
              "      <td>0.662564</td>\n",
              "      <td>0.440472</td>\n",
              "      <td>0.197788</td>\n",
              "      <td>0.439329</td>\n",
              "    </tr>\n",
              "    <tr>\n",
              "      <th>concave points error</th>\n",
              "      <td>0.376169</td>\n",
              "      <td>0.163851</td>\n",
              "      <td>0.407217</td>\n",
              "      <td>0.372320</td>\n",
              "      <td>0.380676</td>\n",
              "      <td>0.642262</td>\n",
              "      <td>0.683260</td>\n",
              "      <td>0.615634</td>\n",
              "      <td>0.393298</td>\n",
              "      <td>0.341198</td>\n",
              "      <td>...</td>\n",
              "      <td>0.358127</td>\n",
              "      <td>0.086741</td>\n",
              "      <td>0.394999</td>\n",
              "      <td>0.342271</td>\n",
              "      <td>0.215351</td>\n",
              "      <td>0.452888</td>\n",
              "      <td>0.549592</td>\n",
              "      <td>0.602450</td>\n",
              "      <td>0.143116</td>\n",
              "      <td>0.310655</td>\n",
              "    </tr>\n",
              "    <tr>\n",
              "      <th>symmetry error</th>\n",
              "      <td>-0.104321</td>\n",
              "      <td>0.009127</td>\n",
              "      <td>-0.081629</td>\n",
              "      <td>-0.072497</td>\n",
              "      <td>0.200774</td>\n",
              "      <td>0.229977</td>\n",
              "      <td>0.178009</td>\n",
              "      <td>0.095351</td>\n",
              "      <td>0.449137</td>\n",
              "      <td>0.345007</td>\n",
              "      <td>...</td>\n",
              "      <td>-0.128121</td>\n",
              "      <td>-0.077473</td>\n",
              "      <td>-0.103753</td>\n",
              "      <td>-0.110343</td>\n",
              "      <td>-0.012662</td>\n",
              "      <td>0.060255</td>\n",
              "      <td>0.037119</td>\n",
              "      <td>-0.030413</td>\n",
              "      <td>0.389402</td>\n",
              "      <td>0.078079</td>\n",
              "    </tr>\n",
              "    <tr>\n",
              "      <th>fractal dimension error</th>\n",
              "      <td>-0.042641</td>\n",
              "      <td>0.054458</td>\n",
              "      <td>-0.005523</td>\n",
              "      <td>-0.019887</td>\n",
              "      <td>0.283607</td>\n",
              "      <td>0.507318</td>\n",
              "      <td>0.449301</td>\n",
              "      <td>0.257584</td>\n",
              "      <td>0.331786</td>\n",
              "      <td>0.688132</td>\n",
              "      <td>...</td>\n",
              "      <td>-0.037488</td>\n",
              "      <td>-0.003195</td>\n",
              "      <td>-0.001000</td>\n",
              "      <td>-0.022736</td>\n",
              "      <td>0.170568</td>\n",
              "      <td>0.390159</td>\n",
              "      <td>0.379975</td>\n",
              "      <td>0.215204</td>\n",
              "      <td>0.111094</td>\n",
              "      <td>0.591328</td>\n",
              "    </tr>\n",
              "    <tr>\n",
              "      <th>worst radius</th>\n",
              "      <td>0.969539</td>\n",
              "      <td>0.352573</td>\n",
              "      <td>0.969476</td>\n",
              "      <td>0.962746</td>\n",
              "      <td>0.213120</td>\n",
              "      <td>0.535315</td>\n",
              "      <td>0.688236</td>\n",
              "      <td>0.830318</td>\n",
              "      <td>0.185728</td>\n",
              "      <td>-0.253691</td>\n",
              "      <td>...</td>\n",
              "      <td>1.000000</td>\n",
              "      <td>0.359921</td>\n",
              "      <td>0.993708</td>\n",
              "      <td>0.984015</td>\n",
              "      <td>0.216574</td>\n",
              "      <td>0.475820</td>\n",
              "      <td>0.573975</td>\n",
              "      <td>0.787424</td>\n",
              "      <td>0.243529</td>\n",
              "      <td>0.093492</td>\n",
              "    </tr>\n",
              "    <tr>\n",
              "      <th>worst texture</th>\n",
              "      <td>0.297008</td>\n",
              "      <td>0.912045</td>\n",
              "      <td>0.303038</td>\n",
              "      <td>0.287489</td>\n",
              "      <td>0.036072</td>\n",
              "      <td>0.248133</td>\n",
              "      <td>0.299879</td>\n",
              "      <td>0.292752</td>\n",
              "      <td>0.090651</td>\n",
              "      <td>-0.051269</td>\n",
              "      <td>...</td>\n",
              "      <td>0.359921</td>\n",
              "      <td>1.000000</td>\n",
              "      <td>0.365098</td>\n",
              "      <td>0.345842</td>\n",
              "      <td>0.225429</td>\n",
              "      <td>0.360832</td>\n",
              "      <td>0.368366</td>\n",
              "      <td>0.359755</td>\n",
              "      <td>0.233027</td>\n",
              "      <td>0.219122</td>\n",
              "    </tr>\n",
              "    <tr>\n",
              "      <th>worst perimeter</th>\n",
              "      <td>0.965137</td>\n",
              "      <td>0.358040</td>\n",
              "      <td>0.970387</td>\n",
              "      <td>0.959120</td>\n",
              "      <td>0.238853</td>\n",
              "      <td>0.590210</td>\n",
              "      <td>0.729565</td>\n",
              "      <td>0.855923</td>\n",
              "      <td>0.219169</td>\n",
              "      <td>-0.205151</td>\n",
              "      <td>...</td>\n",
              "      <td>0.993708</td>\n",
              "      <td>0.365098</td>\n",
              "      <td>1.000000</td>\n",
              "      <td>0.977578</td>\n",
              "      <td>0.236775</td>\n",
              "      <td>0.529408</td>\n",
              "      <td>0.618344</td>\n",
              "      <td>0.816322</td>\n",
              "      <td>0.269493</td>\n",
              "      <td>0.138957</td>\n",
              "    </tr>\n",
              "    <tr>\n",
              "      <th>worst area</th>\n",
              "      <td>0.941082</td>\n",
              "      <td>0.343546</td>\n",
              "      <td>0.941550</td>\n",
              "      <td>0.959213</td>\n",
              "      <td>0.206718</td>\n",
              "      <td>0.509604</td>\n",
              "      <td>0.675987</td>\n",
              "      <td>0.809630</td>\n",
              "      <td>0.177193</td>\n",
              "      <td>-0.231854</td>\n",
              "      <td>...</td>\n",
              "      <td>0.984015</td>\n",
              "      <td>0.345842</td>\n",
              "      <td>0.977578</td>\n",
              "      <td>1.000000</td>\n",
              "      <td>0.209145</td>\n",
              "      <td>0.438296</td>\n",
              "      <td>0.543331</td>\n",
              "      <td>0.747419</td>\n",
              "      <td>0.209146</td>\n",
              "      <td>0.079647</td>\n",
              "    </tr>\n",
              "    <tr>\n",
              "      <th>worst smoothness</th>\n",
              "      <td>0.119616</td>\n",
              "      <td>0.077503</td>\n",
              "      <td>0.150549</td>\n",
              "      <td>0.123523</td>\n",
              "      <td>0.805324</td>\n",
              "      <td>0.565541</td>\n",
              "      <td>0.448822</td>\n",
              "      <td>0.452753</td>\n",
              "      <td>0.426675</td>\n",
              "      <td>0.504942</td>\n",
              "      <td>...</td>\n",
              "      <td>0.216574</td>\n",
              "      <td>0.225429</td>\n",
              "      <td>0.236775</td>\n",
              "      <td>0.209145</td>\n",
              "      <td>1.000000</td>\n",
              "      <td>0.568187</td>\n",
              "      <td>0.518523</td>\n",
              "      <td>0.547691</td>\n",
              "      <td>0.493838</td>\n",
              "      <td>0.617624</td>\n",
              "    </tr>\n",
              "    <tr>\n",
              "      <th>worst compactness</th>\n",
              "      <td>0.413463</td>\n",
              "      <td>0.277830</td>\n",
              "      <td>0.455774</td>\n",
              "      <td>0.390410</td>\n",
              "      <td>0.472468</td>\n",
              "      <td>0.865809</td>\n",
              "      <td>0.754968</td>\n",
              "      <td>0.667454</td>\n",
              "      <td>0.473200</td>\n",
              "      <td>0.458798</td>\n",
              "      <td>...</td>\n",
              "      <td>0.475820</td>\n",
              "      <td>0.360832</td>\n",
              "      <td>0.529408</td>\n",
              "      <td>0.438296</td>\n",
              "      <td>0.568187</td>\n",
              "      <td>1.000000</td>\n",
              "      <td>0.892261</td>\n",
              "      <td>0.801080</td>\n",
              "      <td>0.614441</td>\n",
              "      <td>0.810455</td>\n",
              "    </tr>\n",
              "    <tr>\n",
              "      <th>worst concavity</th>\n",
              "      <td>0.526911</td>\n",
              "      <td>0.301025</td>\n",
              "      <td>0.563879</td>\n",
              "      <td>0.512606</td>\n",
              "      <td>0.434926</td>\n",
              "      <td>0.816275</td>\n",
              "      <td>0.884103</td>\n",
              "      <td>0.752399</td>\n",
              "      <td>0.433721</td>\n",
              "      <td>0.346234</td>\n",
              "      <td>...</td>\n",
              "      <td>0.573975</td>\n",
              "      <td>0.368366</td>\n",
              "      <td>0.618344</td>\n",
              "      <td>0.543331</td>\n",
              "      <td>0.518523</td>\n",
              "      <td>0.892261</td>\n",
              "      <td>1.000000</td>\n",
              "      <td>0.855434</td>\n",
              "      <td>0.532520</td>\n",
              "      <td>0.686511</td>\n",
              "    </tr>\n",
              "    <tr>\n",
              "      <th>worst concave points</th>\n",
              "      <td>0.744214</td>\n",
              "      <td>0.295316</td>\n",
              "      <td>0.771241</td>\n",
              "      <td>0.722017</td>\n",
              "      <td>0.503053</td>\n",
              "      <td>0.815573</td>\n",
              "      <td>0.861323</td>\n",
              "      <td>0.910155</td>\n",
              "      <td>0.430297</td>\n",
              "      <td>0.175325</td>\n",
              "      <td>...</td>\n",
              "      <td>0.787424</td>\n",
              "      <td>0.359755</td>\n",
              "      <td>0.816322</td>\n",
              "      <td>0.747419</td>\n",
              "      <td>0.547691</td>\n",
              "      <td>0.801080</td>\n",
              "      <td>0.855434</td>\n",
              "      <td>1.000000</td>\n",
              "      <td>0.502528</td>\n",
              "      <td>0.511114</td>\n",
              "    </tr>\n",
              "    <tr>\n",
              "      <th>worst symmetry</th>\n",
              "      <td>0.163953</td>\n",
              "      <td>0.105008</td>\n",
              "      <td>0.189115</td>\n",
              "      <td>0.143570</td>\n",
              "      <td>0.394309</td>\n",
              "      <td>0.510223</td>\n",
              "      <td>0.409464</td>\n",
              "      <td>0.375744</td>\n",
              "      <td>0.699826</td>\n",
              "      <td>0.334019</td>\n",
              "      <td>...</td>\n",
              "      <td>0.243529</td>\n",
              "      <td>0.233027</td>\n",
              "      <td>0.269493</td>\n",
              "      <td>0.209146</td>\n",
              "      <td>0.493838</td>\n",
              "      <td>0.614441</td>\n",
              "      <td>0.532520</td>\n",
              "      <td>0.502528</td>\n",
              "      <td>1.000000</td>\n",
              "      <td>0.537848</td>\n",
              "    </tr>\n",
              "    <tr>\n",
              "      <th>worst fractal dimension</th>\n",
              "      <td>0.007066</td>\n",
              "      <td>0.119205</td>\n",
              "      <td>0.051019</td>\n",
              "      <td>0.003738</td>\n",
              "      <td>0.499316</td>\n",
              "      <td>0.687382</td>\n",
              "      <td>0.514930</td>\n",
              "      <td>0.368661</td>\n",
              "      <td>0.438413</td>\n",
              "      <td>0.767297</td>\n",
              "      <td>...</td>\n",
              "      <td>0.093492</td>\n",
              "      <td>0.219122</td>\n",
              "      <td>0.138957</td>\n",
              "      <td>0.079647</td>\n",
              "      <td>0.617624</td>\n",
              "      <td>0.810455</td>\n",
              "      <td>0.686511</td>\n",
              "      <td>0.511114</td>\n",
              "      <td>0.537848</td>\n",
              "      <td>1.000000</td>\n",
              "    </tr>\n",
              "  </tbody>\n",
              "</table>\n",
              "<p>30 rows × 30 columns</p>\n",
              "</div>\n",
              "      <button class=\"colab-df-convert\" onclick=\"convertToInteractive('df-62b352a9-20c2-496f-a18f-4b2a78ae5c5b')\"\n",
              "              title=\"Convert this dataframe to an interactive table.\"\n",
              "              style=\"display:none;\">\n",
              "        \n",
              "  <svg xmlns=\"http://www.w3.org/2000/svg\" height=\"24px\"viewBox=\"0 0 24 24\"\n",
              "       width=\"24px\">\n",
              "    <path d=\"M0 0h24v24H0V0z\" fill=\"none\"/>\n",
              "    <path d=\"M18.56 5.44l.94 2.06.94-2.06 2.06-.94-2.06-.94-.94-2.06-.94 2.06-2.06.94zm-11 1L8.5 8.5l.94-2.06 2.06-.94-2.06-.94L8.5 2.5l-.94 2.06-2.06.94zm10 10l.94 2.06.94-2.06 2.06-.94-2.06-.94-.94-2.06-.94 2.06-2.06.94z\"/><path d=\"M17.41 7.96l-1.37-1.37c-.4-.4-.92-.59-1.43-.59-.52 0-1.04.2-1.43.59L10.3 9.45l-7.72 7.72c-.78.78-.78 2.05 0 2.83L4 21.41c.39.39.9.59 1.41.59.51 0 1.02-.2 1.41-.59l7.78-7.78 2.81-2.81c.8-.78.8-2.07 0-2.86zM5.41 20L4 18.59l7.72-7.72 1.47 1.35L5.41 20z\"/>\n",
              "  </svg>\n",
              "      </button>\n",
              "      \n",
              "  <style>\n",
              "    .colab-df-container {\n",
              "      display:flex;\n",
              "      flex-wrap:wrap;\n",
              "      gap: 12px;\n",
              "    }\n",
              "\n",
              "    .colab-df-convert {\n",
              "      background-color: #E8F0FE;\n",
              "      border: none;\n",
              "      border-radius: 50%;\n",
              "      cursor: pointer;\n",
              "      display: none;\n",
              "      fill: #1967D2;\n",
              "      height: 32px;\n",
              "      padding: 0 0 0 0;\n",
              "      width: 32px;\n",
              "    }\n",
              "\n",
              "    .colab-df-convert:hover {\n",
              "      background-color: #E2EBFA;\n",
              "      box-shadow: 0px 1px 2px rgba(60, 64, 67, 0.3), 0px 1px 3px 1px rgba(60, 64, 67, 0.15);\n",
              "      fill: #174EA6;\n",
              "    }\n",
              "\n",
              "    [theme=dark] .colab-df-convert {\n",
              "      background-color: #3B4455;\n",
              "      fill: #D2E3FC;\n",
              "    }\n",
              "\n",
              "    [theme=dark] .colab-df-convert:hover {\n",
              "      background-color: #434B5C;\n",
              "      box-shadow: 0px 1px 3px 1px rgba(0, 0, 0, 0.15);\n",
              "      filter: drop-shadow(0px 1px 2px rgba(0, 0, 0, 0.3));\n",
              "      fill: #FFFFFF;\n",
              "    }\n",
              "  </style>\n",
              "\n",
              "      <script>\n",
              "        const buttonEl =\n",
              "          document.querySelector('#df-62b352a9-20c2-496f-a18f-4b2a78ae5c5b button.colab-df-convert');\n",
              "        buttonEl.style.display =\n",
              "          google.colab.kernel.accessAllowed ? 'block' : 'none';\n",
              "\n",
              "        async function convertToInteractive(key) {\n",
              "          const element = document.querySelector('#df-62b352a9-20c2-496f-a18f-4b2a78ae5c5b');\n",
              "          const dataTable =\n",
              "            await google.colab.kernel.invokeFunction('convertToInteractive',\n",
              "                                                     [key], {});\n",
              "          if (!dataTable) return;\n",
              "\n",
              "          const docLinkHtml = 'Like what you see? Visit the ' +\n",
              "            '<a target=\"_blank\" href=https://colab.research.google.com/notebooks/data_table.ipynb>data table notebook</a>'\n",
              "            + ' to learn more about interactive tables.';\n",
              "          element.innerHTML = '';\n",
              "          dataTable['output_type'] = 'display_data';\n",
              "          await google.colab.output.renderOutput(dataTable, element);\n",
              "          const docLink = document.createElement('div');\n",
              "          docLink.innerHTML = docLinkHtml;\n",
              "          element.appendChild(docLink);\n",
              "        }\n",
              "      </script>\n",
              "    </div>\n",
              "  </div>\n",
              "  "
            ]
          },
          "metadata": {},
          "execution_count": 17
        }
      ]
    },
    {
      "cell_type": "code",
      "source": [
        "Xdf.iloc[:, [0, 4]].head()"
      ],
      "metadata": {
        "colab": {
          "base_uri": "https://localhost:8080/",
          "height": 206
        },
        "id": "QdE8dT1dUIJz",
        "outputId": "d97d4a73-98d9-4391-9294-6e087b970a56"
      },
      "execution_count": null,
      "outputs": [
        {
          "output_type": "execute_result",
          "data": {
            "text/plain": [
              "   mean radius  mean smoothness\n",
              "0        17.99          0.11840\n",
              "1        20.57          0.08474\n",
              "2        19.69          0.10960\n",
              "3        11.42          0.14250\n",
              "4        20.29          0.10030"
            ],
            "text/html": [
              "\n",
              "  <div id=\"df-885ffc2c-2428-4a16-930c-c252f6cf31cd\">\n",
              "    <div class=\"colab-df-container\">\n",
              "      <div>\n",
              "<style scoped>\n",
              "    .dataframe tbody tr th:only-of-type {\n",
              "        vertical-align: middle;\n",
              "    }\n",
              "\n",
              "    .dataframe tbody tr th {\n",
              "        vertical-align: top;\n",
              "    }\n",
              "\n",
              "    .dataframe thead th {\n",
              "        text-align: right;\n",
              "    }\n",
              "</style>\n",
              "<table border=\"1\" class=\"dataframe\">\n",
              "  <thead>\n",
              "    <tr style=\"text-align: right;\">\n",
              "      <th></th>\n",
              "      <th>mean radius</th>\n",
              "      <th>mean smoothness</th>\n",
              "    </tr>\n",
              "  </thead>\n",
              "  <tbody>\n",
              "    <tr>\n",
              "      <th>0</th>\n",
              "      <td>17.99</td>\n",
              "      <td>0.11840</td>\n",
              "    </tr>\n",
              "    <tr>\n",
              "      <th>1</th>\n",
              "      <td>20.57</td>\n",
              "      <td>0.08474</td>\n",
              "    </tr>\n",
              "    <tr>\n",
              "      <th>2</th>\n",
              "      <td>19.69</td>\n",
              "      <td>0.10960</td>\n",
              "    </tr>\n",
              "    <tr>\n",
              "      <th>3</th>\n",
              "      <td>11.42</td>\n",
              "      <td>0.14250</td>\n",
              "    </tr>\n",
              "    <tr>\n",
              "      <th>4</th>\n",
              "      <td>20.29</td>\n",
              "      <td>0.10030</td>\n",
              "    </tr>\n",
              "  </tbody>\n",
              "</table>\n",
              "</div>\n",
              "      <button class=\"colab-df-convert\" onclick=\"convertToInteractive('df-885ffc2c-2428-4a16-930c-c252f6cf31cd')\"\n",
              "              title=\"Convert this dataframe to an interactive table.\"\n",
              "              style=\"display:none;\">\n",
              "        \n",
              "  <svg xmlns=\"http://www.w3.org/2000/svg\" height=\"24px\"viewBox=\"0 0 24 24\"\n",
              "       width=\"24px\">\n",
              "    <path d=\"M0 0h24v24H0V0z\" fill=\"none\"/>\n",
              "    <path d=\"M18.56 5.44l.94 2.06.94-2.06 2.06-.94-2.06-.94-.94-2.06-.94 2.06-2.06.94zm-11 1L8.5 8.5l.94-2.06 2.06-.94-2.06-.94L8.5 2.5l-.94 2.06-2.06.94zm10 10l.94 2.06.94-2.06 2.06-.94-2.06-.94-.94-2.06-.94 2.06-2.06.94z\"/><path d=\"M17.41 7.96l-1.37-1.37c-.4-.4-.92-.59-1.43-.59-.52 0-1.04.2-1.43.59L10.3 9.45l-7.72 7.72c-.78.78-.78 2.05 0 2.83L4 21.41c.39.39.9.59 1.41.59.51 0 1.02-.2 1.41-.59l7.78-7.78 2.81-2.81c.8-.78.8-2.07 0-2.86zM5.41 20L4 18.59l7.72-7.72 1.47 1.35L5.41 20z\"/>\n",
              "  </svg>\n",
              "      </button>\n",
              "      \n",
              "  <style>\n",
              "    .colab-df-container {\n",
              "      display:flex;\n",
              "      flex-wrap:wrap;\n",
              "      gap: 12px;\n",
              "    }\n",
              "\n",
              "    .colab-df-convert {\n",
              "      background-color: #E8F0FE;\n",
              "      border: none;\n",
              "      border-radius: 50%;\n",
              "      cursor: pointer;\n",
              "      display: none;\n",
              "      fill: #1967D2;\n",
              "      height: 32px;\n",
              "      padding: 0 0 0 0;\n",
              "      width: 32px;\n",
              "    }\n",
              "\n",
              "    .colab-df-convert:hover {\n",
              "      background-color: #E2EBFA;\n",
              "      box-shadow: 0px 1px 2px rgba(60, 64, 67, 0.3), 0px 1px 3px 1px rgba(60, 64, 67, 0.15);\n",
              "      fill: #174EA6;\n",
              "    }\n",
              "\n",
              "    [theme=dark] .colab-df-convert {\n",
              "      background-color: #3B4455;\n",
              "      fill: #D2E3FC;\n",
              "    }\n",
              "\n",
              "    [theme=dark] .colab-df-convert:hover {\n",
              "      background-color: #434B5C;\n",
              "      box-shadow: 0px 1px 3px 1px rgba(0, 0, 0, 0.15);\n",
              "      filter: drop-shadow(0px 1px 2px rgba(0, 0, 0, 0.3));\n",
              "      fill: #FFFFFF;\n",
              "    }\n",
              "  </style>\n",
              "\n",
              "      <script>\n",
              "        const buttonEl =\n",
              "          document.querySelector('#df-885ffc2c-2428-4a16-930c-c252f6cf31cd button.colab-df-convert');\n",
              "        buttonEl.style.display =\n",
              "          google.colab.kernel.accessAllowed ? 'block' : 'none';\n",
              "\n",
              "        async function convertToInteractive(key) {\n",
              "          const element = document.querySelector('#df-885ffc2c-2428-4a16-930c-c252f6cf31cd');\n",
              "          const dataTable =\n",
              "            await google.colab.kernel.invokeFunction('convertToInteractive',\n",
              "                                                     [key], {});\n",
              "          if (!dataTable) return;\n",
              "\n",
              "          const docLinkHtml = 'Like what you see? Visit the ' +\n",
              "            '<a target=\"_blank\" href=https://colab.research.google.com/notebooks/data_table.ipynb>data table notebook</a>'\n",
              "            + ' to learn more about interactive tables.';\n",
              "          element.innerHTML = '';\n",
              "          dataTable['output_type'] = 'display_data';\n",
              "          await google.colab.output.renderOutput(dataTable, element);\n",
              "          const docLink = document.createElement('div');\n",
              "          docLink.innerHTML = docLinkHtml;\n",
              "          element.appendChild(docLink);\n",
              "        }\n",
              "      </script>\n",
              "    </div>\n",
              "  </div>\n",
              "  "
            ]
          },
          "metadata": {},
          "execution_count": 18
        }
      ]
    },
    {
      "cell_type": "code",
      "source": [
        "basebc[\"data\"][:, 0:6:4]"
      ],
      "metadata": {
        "colab": {
          "base_uri": "https://localhost:8080/"
        },
        "id": "wNAprmK5VWG1",
        "outputId": "ee33662f-fc88-4d34-e294-60b88eddf3ed"
      },
      "execution_count": null,
      "outputs": [
        {
          "output_type": "execute_result",
          "data": {
            "text/plain": [
              "array([[17.99   ,  0.1184 ],\n",
              "       [20.57   ,  0.08474],\n",
              "       [19.69   ,  0.1096 ],\n",
              "       ...,\n",
              "       [16.6    ,  0.08455],\n",
              "       [20.6    ,  0.1178 ],\n",
              "       [ 7.76   ,  0.05263]])"
            ]
          },
          "metadata": {},
          "execution_count": 19
        }
      ]
    },
    {
      "cell_type": "code",
      "source": [
        "import matplotlib.pyplot as plt\n",
        "from matplotlib.colors import ListedColormap\n",
        "import seaborn as sns\n",
        "import numpy as np\n",
        "\n",
        "X = basebc[\"data\"][:, 0:6:4]\n",
        "y = basebc[\"target\"]\n",
        "\n",
        "cmap_light = ListedColormap([\"red\", \"blue\"])\n",
        "cmap_bold = [\"darkred\", \"darkblue\"]\n",
        "\n",
        "h = 0.04\n",
        "\n",
        "bc_bayes2 = GaussianNB().fit(X, y)\n",
        "\n",
        "plt.figure()\n",
        "x_min, x_max = X[:, 0].min() - 1, X[:, 0].max() + 1\n",
        "y_min, y_max = X[:, 1].min() - 1, X[:, 1].max() + 1\n",
        "xx, yy = np.meshgrid(np.arange(x_min, x_max, h), np.arange(y_min, y_max, h))\n",
        "Z = bc_bayes2.predict(np.c_[xx.ravel(), yy.ravel()])\n",
        "\n",
        "  \n",
        "Z = Z.reshape(xx.shape)\n",
        "plt.figure(figsize=(10, 8))\n",
        "plt.contourf(xx, yy, Z, cmap=cmap_light, alpha=0.75)\n",
        "\n",
        "\n",
        "sns.scatterplot(\n",
        "        x=X[:, 0],\n",
        "        y=X[:, 1],\n",
        "        hue=basebc.target_names[y],\n",
        "        palette=cmap_bold,\n",
        "        alpha=1.0,\n",
        "        edgecolor=\"black\",\n",
        "    )\n",
        "plt.xlim(xx.min(), xx.max())\n",
        "plt.ylim(yy.min(), yy.max())\n",
        "\n",
        "plt.xlabel(basebc.feature_names[0], fontsize=20)\n",
        "plt.ylabel(basebc.feature_names[4], fontsize=20)\n",
        "plt.rc('xtick', labelsize=16) \n",
        "plt.rc('ytick', labelsize=16) \n",
        "\n",
        "plt.show()"
      ],
      "metadata": {
        "colab": {
          "base_uri": "https://localhost:8080/",
          "height": 528
        },
        "id": "FPw8KxSvUPdr",
        "outputId": "72820d46-41ab-4d69-968c-ec7643874f89"
      },
      "execution_count": null,
      "outputs": [
        {
          "output_type": "display_data",
          "data": {
            "text/plain": [
              "<Figure size 432x288 with 0 Axes>"
            ]
          },
          "metadata": {}
        },
        {
          "output_type": "display_data",
          "data": {
            "text/plain": [
              "<Figure size 720x576 with 1 Axes>"
            ],
            "image/png": "[encoded data removed]"
          },
          "metadata": {
            "needs_background": "light"
          }
        }
      ]
    },
    {
      "cell_type": "code",
      "source": [
        "basebc[\"data\"][:, 2:4]"
      ],
      "metadata": {
        "colab": {
          "base_uri": "https://localhost:8080/"
        },
        "id": "peCoPYBXQj80",
        "outputId": "b0d4b03b-d858-45a0-a03b-7f9d90bec397"
      },
      "execution_count": null,
      "outputs": [
        {
          "output_type": "execute_result",
          "data": {
            "text/plain": [
              "array([[ 122.8 , 1001.  ],\n",
              "       [ 132.9 , 1326.  ],\n",
              "       [ 130.  , 1203.  ],\n",
              "       ...,\n",
              "       [ 108.3 ,  858.1 ],\n",
              "       [ 140.1 , 1265.  ],\n",
              "       [  47.92,  181.  ]])"
            ]
          },
          "metadata": {},
          "execution_count": 28
        }
      ]
    },
    {
      "cell_type": "code",
      "source": [
        "import matplotlib.pyplot as plt\n",
        "from matplotlib.colors import ListedColormap\n",
        "import seaborn as sns\n",
        "import numpy as np\n",
        "\n",
        "X = basebc[\"data\"][:, 3:11:7]\n",
        "y = basebc[\"target\"]\n",
        "\n",
        "cmap_light = ListedColormap([\"red\", \"blue\"])\n",
        "cmap_bold = [\"darkred\", \"darkblue\"]\n",
        "\n",
        "h = 0.04\n",
        "\n",
        "bc_bayes2 = GaussianNB().fit(X, y)\n",
        "\n",
        "plt.figure()\n",
        "x_min, x_max = X[:, 0].min() - 1, X[:, 0].max() + 1\n",
        "y_min, y_max = X[:, 1].min() - 1, X[:, 1].max() + 1\n",
        "xx, yy = np.meshgrid(np.arange(x_min, x_max, h), np.arange(y_min, y_max, h))\n",
        "Z = bc_bayes2.predict(np.c_[xx.ravel(), yy.ravel()])\n",
        "\n",
        "  \n",
        "Z = Z.reshape(xx.shape)\n",
        "plt.figure(figsize=(10, 8))\n",
        "plt.contourf(xx, yy, Z, cmap=cmap_light, alpha=0.75)\n",
        "\n",
        "\n",
        "sns.scatterplot(\n",
        "        x=X[:, 0],\n",
        "        y=X[:, 1],\n",
        "        hue=basebc.target_names[y],\n",
        "        palette=cmap_bold,\n",
        "        alpha=1.0,\n",
        "        edgecolor=\"black\",\n",
        "    )\n",
        "plt.xlim(xx.min(), xx.max())\n",
        "plt.ylim(yy.min(), yy.max())\n",
        "\n",
        "plt.xlabel(basebc.feature_names[3], fontsize=20)\n",
        "plt.ylabel(basebc.feature_names[10], fontsize=20)\n",
        "plt.rc('xtick', labelsize=16) \n",
        "plt.rc('ytick', labelsize=16) \n",
        "\n",
        "plt.show()"
      ],
      "metadata": {
        "colab": {
          "base_uri": "https://localhost:8080/",
          "height": 528
        },
        "outputId": "fe6ba7f3-1719-4322-bc20-b114f2780cbe",
        "id": "lIjZliTkQkZV"
      },
      "execution_count": null,
      "outputs": [
        {
          "output_type": "display_data",
          "data": {
            "text/plain": [
              "<Figure size 432x288 with 0 Axes>"
            ]
          },
          "metadata": {}
        },
        {
          "output_type": "display_data",
          "data": {
            "text/plain": [
              "<Figure size 720x576 with 1 Axes>"
            ],
            "image/png": "[encoded data removed]"
          },
          "metadata": {
            "needs_background": "light"
          }
        }
      ]
    },
    {
      "cell_type": "code",
      "source": [
        "bc_bayes2.score(X,y)"
      ],
      "metadata": {
        "colab": {
          "base_uri": "https://localhost:8080/"
        },
        "id": "rpeSFnpXYGRA",
        "outputId": "661ec40c-23a7-43f9-fdcb-b2cb93ebf7c9"
      },
      "execution_count": null,
      "outputs": [
        {
          "output_type": "execute_result",
          "data": {
            "text/plain": [
              "0.8769771528998243"
            ]
          },
          "metadata": {},
          "execution_count": 30
        }
      ]
    },
    {
      "cell_type": "code",
      "source": [
        "X_train1a, X_test1a, y_train1a, y_test1a = train_test_split(basebc['data'][:, 0:5], basebc['target'], random_state = 0)"
      ],
      "metadata": {
        "id": "hT1CzdYmU1w7"
      },
      "execution_count": null,
      "outputs": []
    },
    {
      "cell_type": "code",
      "source": [
        "bc_bayes3 = GaussianNB().fit(X_train1a, y_train1a)\n",
        "\n",
        "bc_bayes3.score(X_train1a, y_train1a)"
      ],
      "metadata": {
        "colab": {
          "base_uri": "https://localhost:8080/"
        },
        "id": "pYnTQIw_VEQK",
        "outputId": "a9d0bd44-f43a-4d5f-e102-c80950a9a39d"
      },
      "execution_count": null,
      "outputs": [
        {
          "output_type": "execute_result",
          "data": {
            "text/plain": [
              "0.8990610328638498"
            ]
          },
          "metadata": {},
          "execution_count": 34
        }
      ]
    },
    {
      "cell_type": "code",
      "source": [
        "from sklearn.datasets import load_iris\n",
        "\n",
        "iris_dataset = load_iris()"
      ],
      "metadata": {
        "id": "rtoDFvt_PFgz"
      },
      "execution_count": null,
      "outputs": []
    },
    {
      "cell_type": "code",
      "source": [
        "X_train2, X_test2, y_train2, y_test2 = train_test_split(iris_dataset['data'], iris_dataset['target'], random_state = 0)"
      ],
      "metadata": {
        "id": "UcOYuCO_PIMu"
      },
      "execution_count": null,
      "outputs": []
    },
    {
      "cell_type": "code",
      "source": [
        "iris_bayes = GaussianNB().fit(X_train2, y_train2)\n",
        "\n",
        "print(iris_bayes.score(X_train2, y_train2))\n",
        "print(iris_bayes.score(X_test2, y_test2))"
      ],
      "metadata": {
        "colab": {
          "base_uri": "https://localhost:8080/"
        },
        "id": "TtcMqs0vPRtP",
        "outputId": "61253840-52c8-46ce-e02c-247cb7a840a0"
      },
      "execution_count": null,
      "outputs": [
        {
          "output_type": "stream",
          "name": "stdout",
          "text": [
            "0.9464285714285714\n",
            "1.0\n"
          ]
        }
      ]
    },
    {
      "cell_type": "markdown",
      "source": [
        "#Árboles de decisión\n",
        "\n",
        "\n",
        "\n",
        "1.   Preguntas sí/no\n",
        "2.   Clasificación\n"
      ],
      "metadata": {
        "id": "7s2lHmjrNtrI"
      }
    },
    {
      "cell_type": "code",
      "source": [
        "from sklearn.tree import DecisionTreeClassifier \n",
        "from sklearn import tree"
      ],
      "metadata": {
        "id": "817_WaIxOAjm"
      },
      "execution_count": 1,
      "outputs": []
    },
    {
      "cell_type": "code",
      "source": [
        "from sklearn.model_selection import train_test_split\n",
        "\n",
        "from sklearn.datasets import load_iris\n",
        "\n",
        "iris_dataset = load_iris()\n",
        "\n",
        "X_train2, X_test2, y_train2, y_test2 = train_test_split(iris_dataset['data'], iris_dataset['target'], random_state = 0)"
      ],
      "metadata": {
        "id": "JysnZBmNOcZS"
      },
      "execution_count": 2,
      "outputs": []
    },
    {
      "cell_type": "code",
      "source": [
        "Decision_tree = DecisionTreeClassifier().fit(X_train2, y_train2)\n",
        "\n",
        "Decision_tree.score(X_train2, y_train2)"
      ],
      "metadata": {
        "colab": {
          "base_uri": "https://localhost:8080/"
        },
        "id": "mLuJJyqCO_th",
        "outputId": "57888b41-81cc-43cd-a55e-a6156d12aa57"
      },
      "execution_count": 3,
      "outputs": [
        {
          "output_type": "execute_result",
          "data": {
            "text/plain": [
              "1.0"
            ]
          },
          "metadata": {},
          "execution_count": 3
        }
      ]
    },
    {
      "cell_type": "code",
      "source": [
        "Decision_tree.score(X_test2, y_test2)"
      ],
      "metadata": {
        "colab": {
          "base_uri": "https://localhost:8080/"
        },
        "id": "bmEBkbJHP8zg",
        "outputId": "4ba11233-4451-41f9-9b09-8d3381c9cc64"
      },
      "execution_count": 4,
      "outputs": [
        {
          "output_type": "execute_result",
          "data": {
            "text/plain": [
              "0.9736842105263158"
            ]
          },
          "metadata": {},
          "execution_count": 4
        }
      ]
    },
    {
      "cell_type": "code",
      "source": [
        "import matplotlib.pyplot as plt\n",
        "from matplotlib.colors import ListedColormap\n",
        "import seaborn as sns\n",
        "import numpy as np\n",
        "\n",
        "X = iris_dataset[\"data\"][:, :2]\n",
        "y = iris_dataset[\"target\"]\n",
        "\n",
        "cmap_light = ListedColormap([\"orange\", \"cyan\", \"cornflowerblue\"])\n",
        "cmap_bold = [\"darkorange\", \"c\", \"darkblue\"]\n",
        "\n",
        "h = 0.04\n",
        "\n",
        "Decision_tree1 = DecisionTreeClassifier().fit(X, y)\n",
        "\n",
        "plt.figure()\n",
        "x_min, x_max = X[:, 0].min() - 1, X[:, 0].max() + 1\n",
        "y_min, y_max = X[:, 1].min() - 1, X[:, 1].max() + 1\n",
        "xx, yy = np.meshgrid(np.arange(x_min, x_max, h), np.arange(y_min, y_max, h))\n",
        "Z = Decision_tree1.predict(np.c_[xx.ravel(), yy.ravel()])\n",
        "\n",
        "  \n",
        "Z = Z.reshape(xx.shape)\n",
        "plt.figure(figsize=(10, 8))\n",
        "plt.contourf(xx, yy, Z, cmap=cmap_light)\n",
        "\n",
        "\n",
        "sns.scatterplot(\n",
        "        x=X[:, 0],\n",
        "        y=X[:, 1],\n",
        "        hue=iris_dataset.target_names[y],\n",
        "        palette=cmap_bold,\n",
        "        alpha=1.0,\n",
        "        edgecolor=\"black\",\n",
        "    )\n",
        "plt.xlim(xx.min(), xx.max())\n",
        "plt.ylim(yy.min(), yy.max())\n",
        "\n",
        "plt.xlabel(iris_dataset.feature_names[0], fontsize=20)\n",
        "plt.ylabel(iris_dataset.feature_names[1], fontsize=20)\n",
        "plt.rc('xtick', labelsize=16) \n",
        "plt.rc('ytick', labelsize=16) \n",
        "\n",
        "plt.show()"
      ],
      "metadata": {
        "colab": {
          "base_uri": "https://localhost:8080/",
          "height": 523
        },
        "id": "jI1S8Qu-QXwM",
        "outputId": "7b2b6aa6-9470-470d-c502-996b4e23ac5d"
      },
      "execution_count": 5,
      "outputs": [
        {
          "output_type": "display_data",
          "data": {
            "text/plain": [
              "<Figure size 432x288 with 0 Axes>"
            ]
          },
          "metadata": {}
        },
        {
          "output_type": "display_data",
          "data": {
            "text/plain": [
              "<Figure size 720x576 with 1 Axes>"
            ],
            "image/png": "[encoded data removed]"
          },
          "metadata": {
            "needs_background": "light"
          }
        }
      ]
    },
    {
      "cell_type": "markdown",
      "source": [
        "#Máxima profundidad (Max depth)"
      ],
      "metadata": {
        "id": "gBz_mfGjRsD-"
      }
    },
    {
      "cell_type": "code",
      "source": [
        "listtr1 = []\n",
        "listte1 = []\n",
        "\n",
        "for n in range(2,10):\n",
        "  Decision_tree_n = DecisionTreeClassifier(max_depth=n).fit(X_train2, y_train2)\n",
        "  listtr1.append(Decision_tree_n.score(X_train2, y_train2))\n",
        "  listte1.append(Decision_tree_n.score(X_test2, y_test2))\n",
        "\n",
        "plt.figure()\n",
        "plt.scatter(range(2,10), listtr1, color = 'blue')\n",
        "plt.scatter(range(2,10), listte1, color = 'green')"
      ],
      "metadata": {
        "colab": {
          "base_uri": "https://localhost:8080/",
          "height": 287
        },
        "id": "JhOqOjm5RFHU",
        "outputId": "7c8fe53e-3de5-4795-edfa-099a22ff9c18"
      },
      "execution_count": 6,
      "outputs": [
        {
          "output_type": "execute_result",
          "data": {
            "text/plain": [
              "<matplotlib.collections.PathCollection at 0x7f2efe15d790>"
            ]
          },
          "metadata": {},
          "execution_count": 6
        },
        {
          "output_type": "display_data",
          "data": {
            "text/plain": [
              "<Figure size 432x288 with 1 Axes>"
            ],
            "image/png": "[encoded data removed]"
          },
          "metadata": {
            "needs_background": "light"
          }
        }
      ]
    },
    {
      "cell_type": "code",
      "source": [
        "import matplotlib.pyplot as plt\n",
        "from matplotlib.colors import ListedColormap\n",
        "import seaborn as sns\n",
        "import numpy as np\n",
        "\n",
        "X = iris_dataset[\"data\"][:, :2]\n",
        "y = iris_dataset[\"target\"]\n",
        "\n",
        "cmap_light = ListedColormap([\"orange\", \"cyan\", \"cornflowerblue\"])\n",
        "cmap_bold = [\"darkorange\", \"c\", \"darkblue\"]\n",
        "\n",
        "h = 0.04\n",
        "\n",
        "Decision_tree2 = DecisionTreeClassifier(max_depth = 3).fit(X, y)\n",
        "\n",
        "plt.figure()\n",
        "x_min, x_max = X[:, 0].min() - 1, X[:, 0].max() + 1\n",
        "y_min, y_max = X[:, 1].min() - 1, X[:, 1].max() + 1\n",
        "xx, yy = np.meshgrid(np.arange(x_min, x_max, h), np.arange(y_min, y_max, h))\n",
        "Z = Decision_tree2.predict(np.c_[xx.ravel(), yy.ravel()])\n",
        "\n",
        "  \n",
        "Z = Z.reshape(xx.shape)\n",
        "plt.figure(figsize=(10, 8))\n",
        "plt.contourf(xx, yy, Z, cmap=cmap_light)\n",
        "\n",
        "\n",
        "sns.scatterplot(\n",
        "        x=X[:, 0],\n",
        "        y=X[:, 1],\n",
        "        hue=iris_dataset.target_names[y],\n",
        "        palette=cmap_bold,\n",
        "        alpha=1.0,\n",
        "        edgecolor=\"black\",\n",
        "    )\n",
        "plt.xlim(xx.min(), xx.max())\n",
        "plt.ylim(yy.min(), yy.max())\n",
        "\n",
        "plt.xlabel(iris_dataset.feature_names[0], fontsize=20)\n",
        "plt.ylabel(iris_dataset.feature_names[1], fontsize=20)\n",
        "plt.rc('xtick', labelsize=16) \n",
        "plt.rc('ytick', labelsize=16) \n",
        "\n",
        "plt.show()"
      ],
      "metadata": {
        "colab": {
          "base_uri": "https://localhost:8080/",
          "height": 528
        },
        "id": "kIKcHtxkTorL",
        "outputId": "97aaf4b2-0238-4f52-fc6d-0c039f5dc7ef"
      },
      "execution_count": 7,
      "outputs": [
        {
          "output_type": "display_data",
          "data": {
            "text/plain": [
              "<Figure size 432x288 with 0 Axes>"
            ]
          },
          "metadata": {}
        },
        {
          "output_type": "display_data",
          "data": {
            "text/plain": [
              "<Figure size 720x576 with 1 Axes>"
            ],
            "image/png": "[encoded data removed]"
          },
          "metadata": {
            "needs_background": "light"
          }
        }
      ]
    },
    {
      "cell_type": "code",
      "source": [
        "Decision_tree2.score(X,y)"
      ],
      "metadata": {
        "colab": {
          "base_uri": "https://localhost:8080/"
        },
        "id": "FYbxPgsJWjkp",
        "outputId": "a53863e4-f53f-4a1e-9bde-4389ade3dded"
      },
      "execution_count": 8,
      "outputs": [
        {
          "output_type": "execute_result",
          "data": {
            "text/plain": [
              "0.8133333333333334"
            ]
          },
          "metadata": {},
          "execution_count": 8
        }
      ]
    },
    {
      "cell_type": "markdown",
      "source": [
        "#Matriz de confusión\n",
        "\n",
        "Algoritmo para clasificaciones.\n",
        "\n",
        "Si la clasificación es binaria (clases 0 y 1),\n",
        "\n",
        "\\begin{equation}\n",
        "\\begin{pmatrix}\n",
        "a_{00} & a_{01} \\\\\n",
        "a_{10} & a_{11}\n",
        "\\end{pmatrix}\n",
        "\\end{equation}\n",
        "\n",
        "Filas: clases verdaderas.\n",
        "Columnas: clases predichas.\n",
        "\n",
        "\\begin{align}\n",
        "&a_{00}: \\text{Clase 0, predicho como 0} \\\\\n",
        "&a_{01}: \\text{Clase 0, predicho como 1} \\\\\n",
        "&a_{10}: \\text{Clase 1, predicho como 0} \\\\\n",
        "&a_{11}: \\text{Clase 1, predicho como 1}\n",
        "\\end{align}\n",
        "\n",
        "Conjuntos a utilizar: clases de predicción + clases del conjunto *test*.\n",
        "\n",
        "![imagen.png](data:image/png;base64,iVBORw0KGgoAAAANSUhEUgAAAdwAAAEDCAYAAACfy7UPAAAgAElEQVR4Xu2dB9gUtdqGo9gbioJdsQuC2LsCoiiigKhYUFDkqFhQUezCjx2xgdgRsP5iO4Cox0axYztgB0Gx967Y5feOzvcP+83uZKfszu4+uS4uhc2kPMnkzvsmkyww769gFKSAFJACUkAKSIFUFVhAwE1VXyUuBaSAFJACUsAqIOCqI0gBKSAFpIAUKIECAm4JRFYWUkAKSAEpIAUEXPUBKSAFpIAUkAIlUEDALYHIykIKSAEpIAWkgICrPiAFpIAUkAJSoAQKCLglEFlZSAEpIAWkgBQQcNUHpIAUkAJSQAqUQAEBtwQiKwspIAWkgBSQAgKu+oAUkAJSQApIgRIoIOCWQGRlIQWkgBSQAlJAwFUfkAJSQApIASlQAgUE3BKIrCykgBSQAlJACgi46gNSQApIASkgBUqggIBbApGVhRSQAlJACkgBAVd9QApIASkgBaRACRQQcEsgcqVk8T//8z9m0KBBlVJclVMKSAEpEEmBv+6Bj/Rc3IcE3LgKVtHzAJc/CsUrIO2K14wnFlhgAftguQbAaKXOzlOTJ082bdq0yU6BKqAk9Lly9TcBtwI6SKmKKGhEV1raRdNOwI2mm/eUgFu8fgJu8ZrpiRQUEDSiiyrtomkn4EbTTcCNrpuAG107PZmgAoJGdDFlaUTTTsCNppv31Jw5c0zTpk3jJVJjTwu4NdbgWa2ugJvVlqnecgm41du2Wa2ZgJvVlqmxcgm4NdbgGaiugJuBRqixIgi4NdbgWa2ugJvVllG5pIAUSEoBATcpJZVOLAUE3Fjy6WEpIAUqQAEBtwIaqRaKKODWQiurjlKgthUQcGu7/TNTewE3M02hgkgBKZCSAgJuSsIq2eIUEHCL00uxpYAUqDwFBNzKa7OqLLGAW5XNmulKaZdyppunKgsn4FZls1ZepQTcymuzSi+xgFvpLVh55RdwK6/NqrLEAm5VNmumKyXgZrp5qrJwAm5VNmvlVSoqcDlebu211668ChdZ4tGjR5sePXoUfGrBBRcsKtU+ffqYq666qqhnkop80003mcMOO6xgchxZudNOOyWVZb10BNzUpFXCeRQQcNU1MqFAXOB6g2cmKpNCIUaNGuUEXFcduCJskUUWMW+88YZZa621Uihx4SQ94BYq76RJk2oeuO+++25Z2selQ3CO8ttvv+0Sdb44L730krnyyiuLfq7QA/SjRRdd1P5ZYoklTOPGjc2KK65oVlttNbPFFlvYf8tCEHCz0Aoqg70LN8p9uJ6FW86OnHbzUbdigBt236anFf898MADza233pp2Feqln8/C9ZdNwDXGA67rRKqUDbnmmmtGAu7YsWNN165dS1bUJZdc0rRt29be3du+fXvTokWLkuWdm1E5xyndh1u2Zs9exgJu/jZJA7jkBphxQ//3v/81LVu2LGmnyAJwS1rhiJn5gRs2kYqYRdGPedCIauF6wC3lJMKvXfPmzc0hhxxijjzySLPssssWXf84Dwi4cdTTs4kpIOCWDrjk5Lck99hjD3Pfffcl1pYuCQm4LirNb+FWI3BLVadcuJPvUkstZdjHcPbZZ9v/L0UQcEuhsvIIVSAJ4IZmEiNC2MCQ1mydfJO2cD0Z/NB94oknzHbbbRdDoeIeFXDd9Kp2CzfsvXJTqbhY/neV/FdZZRUzfPhw06VLl+ISihBbwI0gmh5JXoG4wE2+RNlJsRTA3WGHHcyUKVNKVmkB101qV+CmNeErVMq4a7hh8EmqTvmgnrtLvV+/fmbw4MGmQYMGbo0TIVZYnSMk6fyI1nCdpar+iHGAu84666QuUNhMPKnBIV9Fktw05c/Db+VOmDDBdOjQIXUtyUDAdZPZFbhuqSUbK4k13LD3Km6Jc6EalJ4/Trdu3cztt99u9zakEQTcNFRVmkUrEBW4RWcU4QH/Jyz+AcIPq4EDB5oBAwZESD25Rxgkin2h/XVo1aqV4ZONUgQB101lV+CmPeELKi3AnT17tltFfLH8m6YKATeJOnnph4HX/zsbquifaYRi388kyyALN0k1KzwtATd+A7oAN+iF9/8bg2GnTp3iFyYkhSwAN2wQTl0EhwwKAdc/WWrdurWZOHGiQ4rlj1IIuP46FftZ2C+//GLmzp1rfvrpJ/Ppp5/aT6r4c++99xr2KIQF/3vQsWNHM2bMmMS/3xVww1pBv5dEAQE3vsxhwPUPZrmWhffbnnvuacaPHx+/MAJuIhoKuMmcNAZ0e/XqZb7//nvbLoXWdb2NipzuhrWbZBBwk1RTaUVWQMCNLF3dg0HA9UO2Xbt25qmnnjI///xzvUHHs/b4POKzzz6zJ/akGWThuqkr4CYDXNSeOXOm2Wuvvcxbb71VcOnFe2cA9IgRI9wayjGWgOsolKKlq4CAG1/fMOD27NnTLL/88ubSSy8NHHC8wYCdmv37949foAIpCLhu8gq4yQEXxWfMmGG23nrrgpau9x5suOGG5vXXX3drKMdYAq6jUIqWrgICbnx9XYALbDk7Oci15g0GjRo1skf2LbPMMvELlScFAddNWgE3WeCiOoe8dO7cOa+V63l7eJ+++OIL07BhQ7fGcogl4DqIpCjpKyDgxtfYBbgjR4405557rmFXdb6Xn38//fTTzXnnnRe/UBkGbmqVSzBhATd54NI8u+yyi91kVugdYC2XiWGS67gCboIvh5KKroCAG10770lX4P7444/2SkNm74SgT5048J1PPpo0aRK/YAEpZMHCTaViCScq4KYDXK5+3HnnnUOBe+ihhxomqUkFATcpJZVOLAUE3Fjy2YddgUvcYcOGmRNOOKHggHP00Ucnfo2aV0sB1629Bdx0gIv6G2ywgZk1a1a9SSf/4IGxWbNm5rXXXnNrLIdYAq6DSIqSvgICbnyNiwHur7/+agec9957L6+Vy325b775puGAg6SDgOumqICbHnC5LeiGG24ouIGQd4rvehdeeGG3BguJJeAmIqMSiauAgBtXweIsXHJzOUGre/fu5uabb45fuJwUBFw3SQXc9IB7xx13mIMOOij0EyE+I2IJJokg4CahotKIrYCAG1vColzK5Pbnn3+ajTfe2H764B8I/CcwcZD7tGnTzEYbbRS/gL4UBFw3OQXc9IDLPdCbb755KHDZXMVJXkkEATcJFZVGbAUE3NgSFg1ccsx3zJ7/wAwOCyBekiELwNXRjkm2qHtaaR3t6F6Cv2OynMJySSEI8hvl5R1IIgi4SaioNGIrIODGljAScMl1m222Mc8991y9gccPXU6oIl5SQcB1U1IWbnoWLrv1l1566VDgcnvQ/vvv79ZgIbEE3ERkVCJxFRBw4ypY/BqulyMuM75LzB0M/MDdaaedDIfJJxUEXDclBdz0gPvbb7/ZI0zDLNxbbrnFrvUmEQTcJFRUGrEVEHBjSxjZwiXn9u3bm0cffbReIfzQfeCBB8xuu+0Wv6B/pSDgusko4KYH3E8++cSsssoqocC95557TJcuXdwaTBZuIjopkZQVEHDjC1zMZ0G5uX300Udm1113NW+88Ubegqy88srm4YcfTmQDlYDr1t4CbnrAfeaZZ8z2228fCtwnn3zSbLvttm4NJuAmopMSSVkBATe+wHGAS+58c9uiRQt78lTu6VP8zr+tv/76dQe6k1/UkAXgRi17KZ8TcNMD7oABA+zxpWEu5a+++iqx85TlUi7l26O88iog4MbvHHGBSwk222wzM3369Hr3hfpdy9ddd50tbO/evSMXWsB1k07ATQ+47EvAeg2CoPdvjRs3tpfZJxUE3KSUVDqxFBBwY8lnH04CuKeccoq9vs+zaL1S+T+hWW211ew/cyBA1HtzBVy39hZw0wEuSyjcmvX777/X6+v8gwfGjh072tuFkgoCblJKKp1YCgi4seRLDLgPPfSQ6dChQ8FZvwffiy++2Jx00kmRCi7guskm4KYD3BNPPNEMHTo09PKC888/396clVQQcJNSUunEUkDAjSVfYsCdO3euYXPUDz/8UNDK5Ucus+feXL5lLDYIuG6KFQKuWwrJx4p7g065D774+OOPzXrrrWfPSCb49yt4anlgfOWVVxLZJJibbvKtEp7iAn9VdF54NMWoBQUE3PitnIRLmVIMGjTI/im0tkU8fj/zzDPNOeecU3ThBVw3yVyB63kd3FKNF6tnz56xrqwrJ3D59rZNmzaGHcr5rE1PSyaUn332WTyxcp6WhZuonO6JDRkyxGy99daGhXt/YNAcPny44Wq0cgVmsFxJ9fzzz5esCAJufKmTAi7WLYe1f/nll/UsAP/Aznx5qaWWslbuCiusUFQFsgDcSj/asSjBY0b2b5qrVODSX9noN2rUqNCdycRNev3Wm6SWy86saQuX3W/HHXecYWu6P3DEHov5/F6ucNhhh1ngUpZSBQE3vtJJAZeSXHHFFaZfv355rVziMHAwEB977LF2PayYIOC6qeVq4bqlFj1WpQOXT3s4LYrvyMM+A/L69gUXXGBOO+206KIFPCkLN1E53RPLB1z3FNKLKeDOr63LNXYDBw6sN3lKr4WCU04SuNyXyzrXBx98EGrlslOZU3saNmzoXGUB100qATf+pqkXX3zR7LPPPvaygjDg+ScWPLfJJpu4NZRjrLD8HZOJFK3kFi4gefXVV82FF15od1fOnj3bbLrppubee++tsyiZtQ8ePNjceOON5v333zdrrrmmXafq0aPHfJU8++yzzdVXX2323ntvew4ts6c5c+aYNdZYw8ZjZ9v9999v3nnnHbPsssva65343GLFFVe01gP5e64FGoFzanEv+13KrKNde+21hkV+L5AmN1fMmjWr7o7GESNG2DT5t5VWWskcc8wxpn///gUbhYuXr7zySvtpBwMleVNnNsD4gctASv0nT55sy7H66qubbt26Wbj4L2VG05EjR9oBesMNNzTsdm3SpIndds8s8a677rLfs7EuwiH4Y8aMMQsttFBdGWXhRnqH5nsoSeCSMK63ww8/PHQnJ/232OPvBFy39nYFbinWcD2PRiW4lH/55Rfz7LPP2nHr8ssvN99//329iWNuC/hhuPPOOwcederWavlj1RxwOQ921VVXNWeccYZZbLHFLPhOOOEE06dPH6sSsOKwaiwWYPzII48Y1lvHjx9v9thjDxuHBgRo119/veFORX4DNMDVA26vXr3sUXnk9cUXX1jYfvvttxb4QKxZs2Zmv/32qzs8oHnz5nY9zA9cTv7hHlL/fYx0do7f89y9lA0gAjWgzqwMGF522WV514E5XYX64QpknYKdqYCczS/sUPUDl/KOHj3a7LDDDhaWM2fONMBxzz33NNdcc43VgwvKcY/zmQj1eOGFF+zZo7jGSZODEpjEcBUWdacNeNb/DaeAG/dVTuY7XH8puC+Xk6foh/k2UBGfgZi+NGzYMOdKCLhuUrkC1y21ZGKVapcy53tjQLgE+uB3331n9x3gPsaQwEtDcFmr98fBqGAMS2NZr+aAe9ttt9kBhE0hhHHjxpnHHnvMDhZYvBxdx2Bw8MEH17UzkOOZqVOn2ku7+fB/3333rRtggNZ//vOf+YCbO3B51uHjjz9u4ZXPpZy7aQqXxnbbbWet6T/++MNCD1jyHRmzNg7fPvXUU81ZZ51VlyW/Y8F++OGHdZ3N+xHo8wybsoB1UCjkUqYMd955p7V86OBYqcAWkGLF5gascSzefHl58QVcl2GlcJykLVxyw3JlYlhoRyeDHW3MRfauQcB1U8oVuKWwcL0SA1y8YVFDoV3KUdP0P5erRaFNSrkwZlzGwMHQSSPUHHC51xMrzQvMhPi4GSsOSwx4MENafPHF6+Lceuut5ogjjjA///yz4QUA1rhMsWAJPAfA/Bbugw8+aM/pZPMRYCIgNiDE+nUFLq5a3MUAm3JjceC6BvpsAOCQAvJgvc0LTzzxhMElQlmZrfkDEwMmCC+//HLeTpULXPKn3NQPDby6oB1a8PKhG6cUkfYWW2xRB3pc71izTAp2331307Jly8B+DHD9ga37/MlCqMU1XL/uW221lZ3xh0EXFx5xXUIWgOtSznLHqbWDLwqBs9i2cAEtaXqucpYP8fThfUwq4NLmjxdYJqyZXcpBlhsdGpcsUGVXmt9S9IuO9cCiO+u6WJz+BXXWgLECPOAyOBGHhfru3bvbtUwGKz4D8j75cQUun1ysu+66Fq5Yp8APoBK4GNlvied2VuJRDn/Awmc9+vPPPzeNGjUK7Fd+nXCfA1LWpFnnXW655aw7GxciH4XjQqYD4SHAxY4nAFcQbmPqjFsHXXE7ozXWNe74vn37zpe3LNz4r3gaFi6l4to+2jQMuG3btrXeIpcg4LqoZOw7w9JMPpe+BwuWk7DMKiGkbeHm0yCf5cu/c+0kDMg3Jiala81ZuLmfu/iBi9XK2iQzEs/l7BeaDU9Aj5kQVjFWHQH3LsDxgAug7rjjDgtoL0yYMMF06tSpDrisTWA15x4aEPQdLhYx1m2rVq2sK5uBjcD66uabb27XnHfcccd6fQL38yKLLDLfv3vPsMGJyUBQ8AMXi2WDDTaweXjh5JNPtuvYHnD9aWDNM4GhfvzXH/AcMBnBCsaj4M9fwI3/SqcFXEqGp4X2DPukgr5P3LAg4IYp9PfvAq6bTsTyAzXMigSsXLnHuImXMJ/nzT13t5gCrs/CRTI2TbGDloED1yguVCCN+xQLjuBtmsKVPG3aNLsOzHopLweuXtzJgBsrjjXMp59+2s6eSIOdwbif27VrZzdTAWo2S7EGtuSSS863acprQjZkAXncydzk4g+sjQIrvpnEAmWNecaMGXbSgOUdFC666CJryVNXNoJRRyxS0sndNIUrmDKz6WudddYxWMjcsIFb2wPuUUcdZWeG7D5mx7NXHuretWtXOylgAxpuetZ52VWN+5Gbabwg4Lq9sIVipQlc8qUtsU4KbULhN9b48e4UCgKuW3sLuG46BcXKtWgZY/HU7L///nasKkcQcHOASyMAQdYs+cxmmWWWsW5TNgn53bfsBL7qqqustYbbFnh9/fXXNj7hkksusaDCqvM2PbEhywPuSy+9VOeWZZew91lQgwYNrBXs7Zr2OgUzMaAG3HMDrmUmAWxaYec1+dCp2H2dL1A/DitgoxhuYmANCIG/38L98ccf7cTBy5eBtHPnznYi4QGXwZNn2T0NvNGJz5kIgJoJDJMNJgNoiaXEhMQfBNz4r3/awKV9sQT81kOQJcHAxiS10EYeAdetvWsZuMVuBOMzRcY/JvacfIaXDQOIsY3xJo1dx26t+P+xagq4xYrjGp/jwli7wqWsEE0BATeabv6n0gYueTEZA5aE3MHD+7t/c2C+WmUBuC6fi8RvlXgp1Bpw/X0IL13QUlk8Rcv7tIAbQX9m71htWK7s+sXS5RtU1nIVoikg4EbTrdTAZV8CHhQCB8ET/Ae4eH9ndzxejdw9BF55BVy39q5l4HpePzelKiOWgBuhnVi/ZCMTh/uz65Y1TME2gpC+RwTcePrxdCksXPLxlipYeilk5bKsku+9EHDd2lvAjX+0o5vSpYkl4JZGZ+USooCAG7+LlAq4fFJGYBMda/z5rFzW0fisjX0BuUHAdWtvAVfAdesp4bFKfpZyeJEUo1wKCLjxlS8VcL2ScqLZueeeW9DK5eCT3ENNeF7AdWtvAVfAdesp4bEE3HCNaiaGgBu/qUsNXI4W5Xt1duL7dyv7NyNxGQZWLt+E+4OA69beAq6A69ZTwmMJuOEa1UwMATd+U5cauJSYSzI4CCU3+HebHn/88TZe1oAbX/H0UxBwBdykepmAm5SSVZCOgBu/EcsBXK5B4+jRjz76KK+Vy7eRHMbiP9c7CxZufMXTT0HAFXCT6mUCblJKVkE6Am78RiwHcCk1h55wTGkhKzf3hhkB1629BVwB162nhMcScMM1qpkYAm78pi4XcLmykVN9Cq3lco0jN1RxChVBwHVrbwFXwHXrKeGxBNxwjWomhoAbv6nLBVxK3q1bN3t3bu5Rj/613L333tvcfffdAm4RTS3gCrhFdJeCUQXcpJSsgnQE3PiNWE7gcrEHB8CEXSM3depUeymILFy39hZwBVy3nhIeS8AN16hmYgi48Zu6nMDFncytUACiUOAzokceecQ8/vjj9lzm3OC3iNM+2k9nKcfvc1FSKHQfbinbP0rZ4z6jk6biKqjnE1FAwI0vYzmBS+m5cpHzxcOsXCxcrqgUcMPbXBauLNzwXuIWQxaum041EUvAjd/M5QYuNejSpYsZP358KHS51nLChAmycEOaXcAVcOOPDH+nIOAmpWQVpCPgxm/ELACXm7RatWpVt3kq6L7cQm61UroU5VKO3+eipCCX8rwossV+RsCNLWH1JCDgxm/LLACXWvTs2dPccsstgVauV8t80BVw5+8HsnBl4cYfGWThJqVh1aQj4MZvyqwAl+sr+d42975clxqWErgu5Sl3HAFXwE2qD8rCTUrJKkhHwI3fiFkBLjXp27evGT58eEErN6jGAq4sXJYh6Adp71KP/8YVn4J2KRevmZ5IQQEBN76oWQLuZ599Zu/LnTt3rq1Y0FqugBve5rJwZeGG9xK3GLJw3XSqiVgCbvxmzhJwqQ134Z5//vlFWbmycGXhysKNPxYETmb/ErY827XSqY9SjaGAgBtDvH8ezRpwv/vuO3tf7tdff+1s5Qq4Aq6AG38sEHDT0bBqUhVw4zdl1oBLjYYMGWJOPfVUZytXwBVwBdz4Y4GAm46GVZNqpQA3V3BvcBg4cKAZMGBAWdsji8D9+eef7X25H3/8sZOVW0rg6jvc8nRXfYdbHseu1nDL098zmWulADffQQ5ZAm6+SQHfx44cObLk7e+/2MAl81JZOAKuS2skH0fAFXCT71VKsSgFKgW4+SqVFeAWEp1L4MsBXO7LbdasmZk1a5ZznyjFZyGVBtxC4rVu3dpMnDjRWd9yRvQDN6gcpZpwlUMDfRZUDtWVZz0Fsgzc6dOnm3HjxhVstTZt2piddirvJwwNGjQoWEaAe+ONN5al940ZM8YcdNBBznkzMAGQNDWtJOCGCUf/qzTgFqpTKSZcYZqm8buAm4aqSrNoBbIM3KIrowcqQoFKAO4333xjhg4dGqpn06ZN7ZGalRCefPJJp/0OV1xxhdl4440roUrOZRRwnaVSxDQVEHDTVFdpSwEpkAUFBNwstILKYARcdQIpIAWqXQEBt9pbuELqJ+BWSEOpmFJACkRWQMCNLJ0eTFIBATdJNZWWFJACWVRAwM1iq9RgmQTcGmx0VVkK1JgCAm6NNXhWqyvgZrVlVC4pIAWSUkDATUpJpRNLAQE3lnx6OIIClfBZUIRq6ZEMKyDgZrhxaqloAm4ttXY26irgZqMdaqkUAm4ttXaG6yrgZrhxqrRoAm6VNmyGqyXgZrhxaqloAm4ttXY26irgZqMdaqkUAm4ttXaG6yrgZrhxqrRoAm6VNmyGqyXgZrhxaqloAm4ttXY26irgZqMdaqkUAm4ttXaG6yrgZrhxVDQpIAUSUUDATURGJRJXAQE3roJ6XgpIgawrIOBmvYVqpHwCbo00tKopBWpYAQG3hhs/S1UXcLPUGiqLFJACaSgg4KahqtIsWgEBt2jJ9IAUkAIVpoCAW2ENVq3FFXCrtWWzWy/tUs5u21RryQTcam3ZCqsXwB00aFC9Us+bNy+wJt5g6f+xmLgDBw60l97nhqB0iROUdjFxq71+aFSMHvniF9OGxcQNasN85U2ivbNQv2LbpNLarxLrJ+BWGJiqtbjVDqRqr1+xg18WgCTgzj+aCLjhehQzycs3Sc+XRtpj+wJ/ZRxsvqSds9LPnAJyKWeuSaq+QHIpV30TZ66CsnAz1yS1WSABtzbbvZy1FnDLqX5t5i3g1ma7Z67WAm7mmqTqCyTgVn0TZ66CAm7mmqQ2CyTg1ma7q9ZSoJYUEHBrqbUzXFcBN8ONo6JJASmQiAICbiIyKpG4Cgi4cRXU81JACmRdAQE36y1UI+UTcGukoVVNKVDDCgi4Ndz4Waq6gJul1lBZpIAUSEMBATcNVZVm0QoIuEVLpgdiKuCdNBZ04ljMpPW4FAhUQMBVx8iEAgJuJpqhpgqhz4JqqrkzUVkBNxPNoEIIuOoDpVZAwC214spPwFUfyIQCAm4mmqGmCiHg1lRzZ6KyAm4mmkGFEHDVB0qtgIBbasWVn4CrPpAJBQTcTDRDTRVCwK2p5s5EZQXcTDSDCiHgqg9IASlQ7QoIuNXewhVSv1IC99133zVrrbVWJpVp06aNmThxYtFlO+yww8xNN93k/Fzjxo3NO++8Y5ZYYgnnZ5KMuOCCCxZM7tBDDzUjR45MMkulJQXKroCAW/YmUAFQoBzALXQBeblapXXr1rGAW0ydBg0aZM4666yyVBXgFiprz549qw64U6ZMMW3bti2L3qXMdPTo0aZHjx55sxw7dqwZN25cokVq0KCBWXTRRc1iiy1mll56abPSSiuZFVdc0ayzzjqmefPmZqGFFko0v6iJCbhRldNziSpQDuAmWoEYiXkvIf9NArjz5s3LWxr/umXDhg3N7NmzTaNGjWKUPtqjHnD9ZfXrUM3ALWZSFE3d8j41atSogsBlosefUgW8OZ07dzZ4jzp06GCWW265UmVdLx8Bt2zSK2O/AgLuPGvxpQ1cNPeDrV+/fmbIkCEl74y1DtxCk6KSN0YCGfr7lAtwzznnnARydU/C03vhhRc2u+22m+ndu7fp1KmTewIJxRRwExJSycRTQMAtLXBpLQahxRdf3MycOdOsuuqq8RqwyKcF3PxeiCKlzET0KMAt1aQj16Pg5dusWTMD+PfZZ5+SaSjglkxqZVRIgawBt1xuv1JYuLlW7uGHH26uv/76knbQLAC31J8FeWu45Rx002rkLAPXX2f/e+2BF4uX/r/66qunJU9duuVs+wX+qnB1TfNSb67qzSBrwC2X0nF3Kbu+0H7YsJtvw6QAACAASURBVKHktddeM+utt17Jql3rwE1LaJchNa3JJHmTtqtL2WWvQRI65cvH/w6ssMIK5vbbbze77LJLElnmTcP1/UyjEAJuGqpWaJpZA25ag1JY8wDcxx57LCxavd+9z4KKeaH9Vsm+++5rxowZU3S+UR+oZeBG1awSnksKuEnVNcyLkTvxvOOOO0zXrl2Tyr5eOsW8n0kXQsBNWtEKTi8LwE1it3C5miAKcHNdyxdddJHp379/SapQi8CdM2dOUd9KR2kIJk1vvvlmwUeZ1LF0kVbo0qWLadWqVd7k2aHM2mkhC3fZZZc1xx9/vHMRSeunn36yf3744Qfz/vvvG763f++998yvv/4amo737tMve/XqZS6++GJDGZIOAm7Siiq9SAoIuJFkq3vIFbhBL7x/osFnQk2bNo1XGIenaxG4DrLEjrL33nub8ePH14OZv40HDhxoBgwYEDuvqAnkA67f2qQPvv3221GzqHsO+PKJGd/+ei7vQi5mL85OO+1kJk2aFDv/3AQE3MQlVYJRFBBwo6j2/8+4ADefe80/GLN5hE1UaYcsADftOpYjfQG3vuq///676dOnjz1IpRjoTps2zbRs2TLRZhRwE5VTiUVVQMCNqtzfz+UDrh+mHTt2NBMmTKj7DtefoxfvgAMOsJtH0g4CbjoKC7j5dR0xYoQ56qij6qz/IEvXPykdNmyYOfbYYxNtKAE3UTmVWFQFBNyoyrkDlxn7JptsUpdR0ClPTZo0MZ988km8wjg8LeA6iBQhioBbWDT2KZxxxhmBk07vyTQnnwJuhE6tR5JXQMCNp6mLhfvHH3+Ygw8+2FqwhdZyuQThkEMOiVegkKcF3HTkFXDDdWVH/r333psXut67wRnMr776aniCRcQQcIsQS1HTU0DAjaetK3DZiMIJO6xrEYKsXG5SmjFjRqoHvgu48do739MCbriu7BZff/31DRPQ3HeAv3tuZb5P/+677+ylCEkFATcpJZVOLAUE3FjyOa3hegPMMcccY6655pqCM3zWr4iXVhBw01FWwHXTlesfb7755lArd/LkyYYdy0kFATcpJZVOLAUE3FjyFQVc1mi5tuznn3/Oa+VytRnWMGctpxGyANywQxHSqHfaaQq4bgo/88wzZvvttw8F7uDBgxP9Nl3AdWsfxUpZAQE3nsCuLmUvl9NPP90wmOQbAPj3c889124wSSMIuGmoaoyA66YrSypc0zd37tx6k07+wXsvunfvbm655Ra3RB1iCbgOIilK+goIuPE0Lha433zzjVl77bXNt99+m9fK5aQdrNw0TtwRcOO1d76nBVx3XXfffXfz8MMPF9xAuMMOO5jHH3/cPdGQmAJuYlIqoTgKCLhx1HP7Dtdbw/VyyveJhP/b3ZNPPtlawkkHATdpRf9OT8B115WjI6+88sqCwF1zzTXNO++8456ogJuYVkooRQUE3HjiFmvhkhvnzrKW++mnn85n5frXNlnDnTVrlll55ZXjFTDnaQE3UTnrEhNw3XXlPGfGnUKfyOF2/vLLL90TFXAT00oJpaiAgBtP3CjAJUd2K7MbOXfQ8Vu5//rXv8y1114br4ACbqL65UtMwHWX+aqrrjLHHXdcQeDySRAT06SCXMpJKal0Yikg4MaSr6hdyv6c2Dyy4YYb1rnNvO9y/VbuwgsvbF5//XVrDScVsmDhJlWXLKUj4Lq3xg033GCOPPLIgsDlW1yX24ZccxVwXZVSvFQVEHDjyRvVwiXXl19+2bRv39589tln8xXCPzi0aNHCbjBZaaWV4hX0n6cF3ERkrJeIgOuuKzcmnXfeeQWBu/zyy5vPP//cPdGQmAJuYlIqoTgKCLhx1Iu2acqf4/3332/22muveoXwu5bZ1Um8JIKAm4SK9dMQcN11PeiggwwXzhdaw910003Niy++6J6ogJuYVkooRQUE3HjixrFwvZz5BOLpp58uCN0pU6YY4sUNAm5cBYOfF3DddV1jjTXMhx9+aB/IvTnIg3Dnzp3Nv//9b/dEBdzEtFJCKSog4MYTNwngPvHEE6Z169YFgbvddtsZ4sUNAm5cBQXcOAryffm6664betJU//79E/0sTi7lOK2mZxNTQMCNJ2USwKUEHOo+e/bsvDN+Boxx48bZwu65556RC50F4Opox8jNF+vBQYMGGT7JCbIqPWuzadOm9tCVtMKQIUPMqaeeGgrcu+66y+yzzz6JFUPATUxKJRRHgSwAN0754zzLQeojR46Mk0TkXcq5mR599NHmuuuus/8cdJMQ/96yZUv7+/Tp0yOXWcCNLF3BB+VSDtf1l19+MdyIlfv9uf9JD4wffPCBWWWVVcITdYwh4DoKpWjpKpA14HrWT7q1/jv1nj17Zga499xzj9lvv/0KbiTxtOGMWTaeRAkCbhTVwp8RcMM1Gjp0qDnxxBNDrVsOe/HWeMNTdYsh4LrplEgsZlUMZhdffLHBVcHB2Qy2/tC2bVvTuHFjc+eddyaSZ5RERo8ebXr16mWYCfINZilC1oCbdp39u3+zBNyvvvrKfvoTdFdorguWs5i5N7dBgwZFyyXgFi2Z0wMCbmGZXnjhBXvdHmMbIdetzb957+auu+5qHnroISfdXSMJuK5KJRAPFxzfda222moWvBwZNnHixPlSfvPNNy3kkjxkoNii33TTTRa4XN8m4Barnlv8rAKX0h911FHm+uuvL2jlegPT8OHDTZ8+fdwq7Ysl4BYtmdMDAm5+mXAPcyUf/y0EW++3M888096YlWQQcJNUs4i08gG3iCRSiyrgpiZtXcJZBu7HH39sd3Dmuy/XqwTWAW43zlou9t5cATedPibgBus6adIkc+CBB9YdYhFk2fqtW97PCRMmmA4dOiTaUALuX3KOHTvWnH/++eass84yp512mpkzZ47ZYost7Cy/WbNmdYJzpiY723AHc70Zt01w44oXnnzySXt/qLeZBJcbaXq73DyXMp9WdO3atc6CoBEGDhxoOPmkTZs2pkmTJtalzDePuJhfe+21unKQL5eDcwYuViiBzzTOPvts8/zzz9uBj7Qvu+wys9RSS+XtLFw5hRuXZ3AJbrbZZubyyy83rVq1MrnA5e5UDjzg1gyuauPTkUsvvdSWwwvjx4+3Ow+x0BmE2QS044472p9vvPFGWx6eX3LJJQ2nFl199dXzaZs1l3Ip1nB56cknSy5lrz3p5+zkzHcogGcF8DvvDu9NMSELwC2mvJUSV8Ct31KM1+w1+PPPP+2PhWDr/d6oUSPz/vvvFz2RDOsnAu4/wD3iiCPMMsssY4/6WmyxxSz8uCv0rbfeMosssojVkcuImfVceOGF1uXL1WXs6ASg33//veFDajo88WjUV155xaZ5+OGH2+c94AKwfffd16YPOImLm5ndcP41XO/fKRtAJgAydpKyw65hw4bmqaeeMu3atbOQ7dGjh3VTM1hSpnzrwJMnT7ZH+fEcaQNB0tl6663NHnvsUQ+4gJ31jFVXXdV88cUXFraU/dVXX7VlYvs+ExM2InAaEX/Hdc5H44B9l112sbpus8025rvvvjPPPPOMPdWIv3sha8ANe3GS/D1Lu5S9en399df2vlzaK3eQ8k9G6KPcqMLmEt4b1yDguipVXDwB92+9PvnkEzv2PPDAA+bWW2+tg2w+2PKM3+vEPpZDDjmkOPEdYgu4/wAXK5RTdoAO4b333rNQ5UYJoITlttFGG1kYHXzwwTYOVtp9991nHnzwQXv811ZbbWUHKAAWFPybpvK5lHM3TZ1wwgn2DFsOjycANCYAWJQErEhutHj00UfrssR9AuQAfvPmzesVZdttt7WzvalTpwaWs5BLmedwOa6++uq2Q3PqEDtbWfcLOnMUOHN8GpZ0oZA14JbCwvX0ALh4AeKEpL7D9ZfhggsusB6afIOEf4Bicwl9zjUIuK5KFRevWoCLd66Y71+5hIMNf/wBtu+++26dcGHfW/t/5/979+5d92lcceqHxxZw/wEuGz8AiT9ggeH+HDFihLn55pvtt44//vhj3Uwely8f/2Pd4urlsmLcrTQY/8UC9YcowMUaBGrTpk2zEwBcusy+cJHg4saCZuMKeXqBHaZLL720LXfuLI2d0fzGxctYykEhF7hMKLBQcW17Fg8dh9s2sH5nzpxpdaJMWPe4xb3NVo899pjZbbfdTN++fa31j6ZBG7GyAFw/QGi/3A1t4a9T+WKkAVz6Cn3Ou9Sg0EEFuJQBtGsQcF2VKi5eJQO3uJrmj507WQ6zaknJW97p1KmTXTLklqA0goD7D3Bx2eZ+yI/4wIv1Sz7lYa0KV6oX2GKORezt5n3uuefsuigWJs/htgVsgJYQBbg8x6krWNVdunSxIGcAxIr+6KOPrCs63zobO+xYU/YHXH9Yp3fffbd1Q4cBF01wTzPbBKasL5Mf9Qb0HrSBMuvZTBC8m2VWWGEFmzzfaw4bNsz897//teVmEsD6oH+jDbr5A9DmTxqB2a/XJv70Bdz6ahe6M5TYnmbseaD/uwYB11Wp4uJVC3DjephcIIuy/usoDzjgAOvBTBK2LN/xxwucslWobMW1dnGxF/gr43nFPZJObDZNsf6J2xaAEQDrxhtvbHD3IRKWGgDFNcoGIwLQAtRYfv6Ae4N1TDYyvfTSS3YdmOAHLo0LMHHL+kPQd7hY1/369au7KNyD02+//WZ3k/KSsW6bG7BkczdOec9gdbIpLCj4LVy2xuMSxsXuBdaxmYz4gev9xvdtV1xxhXVxP/LII/Mlj8X0xhtv2MkDVjsWshdk4cbr22lYuJSIiSNLKqNGjSroWiYu/cnbrxBWmywA13uPcid7YWXP8u/VAtykNc5nWbJPgbGsW7du8+0pSTp/Lz1ZuH8pAXC9TVNYhWz+AKS4ifnkwds0BSiADa4zb9MUgwxroizOs6EJK5TNU3zrBayAM2ucucAlH6xmFvS9DVPs7s138AVn3LI+Qbr+zSlsdmLtjDVhNmIBWSw4ykM5AXJuYFczm6DIy9s0hWW65ZZb1ts0BThxm+MSZqMT69yUmUmE55ZGA55nfZmNX1hFbLBi/ZbBjHJjrWLxMgHB6h48eLA57rjjBNyE3uy0gEvxmBcz+WRimc+bQhwgihfDO/qxUNWyANywtb2EmqakyVQLcNOwcL006Xt87oORwne5pQwC7j/ABU6AgEbAmgM+11577XybjnAd8zu7f4ExG5rYsUxgHZMNJmxEwuXLaVEACjc0664EZlOAEdiwmxjYsQ7MjlDvsyAgiNt2zJgx8/UDrGU2SgWdX4vVzfPAEIuEtWTgx78B4KDgfUqEW5wJBfc+8lkQA2vuGu4ll1xi4Qo4cS+zWYwJgHfowbPPPmvryWBLHCYATDJYq8Udj8XLJeesdVM21n25hcMfZOHGe+3TBC4lo+8xmSw0YPAbu9zZSBgWBNwwhaL9Xi3AjVb7+Z/yQxsjBcOIMXn//fe3p6mVIwi4PuAWswZVjsaq5jwF3HitmzZwKR2TLSZXhSxDfmMyR9xCQcCN1975nq4W4BZr4RKfrzUAK8tonBGAx5D9LxgxHTt2LNmpeYVaVsAVcNN584tMVcAtUrCc6KUArncQSxhwcdPl7k3IrZ2AG6+9qxG4/n6V9vV86agfnqqAK+CG95ISxBBw44lcCuBSQta+vAPdcwcP/y7vsGPxBNx47S3gpqNf2qkKuGkrrPSdFBBwnWTKG6lUwGWdnk+A/MH/aYX3PSNHhLJBLl/IAnDjKZ7NpyvZpSwLN90+lZnPgtKtplJ3UUDAdVEpf5xSAZcSsOmEwAEBhazc2267zfD5W1AQcOO1tyzcdPRLO1VZuGkrrPSdFBBwnWQqu4VLAbzvyjk2NPdAeL+VwidpfHcddF+ugBuvvQXcdPRLO1UBN22Flb6TAgKuk0yZAK5XCD5r4/jQQlYun5AdeeSR9cot4MZrbwE3Hf3STlXATVthpe+kgIDrJFOmgMsxoeutt57hdDH/oXF+K5eDUGbPnm0/2fAHATdeewu46eiXdqoCbtoKK30nBQRcJ5kyBVwKwwEmnCiWG/w7ljkc5pRTThFw4zWx09PaNOUkU9kiCbhlk14Z+xUQcOP1h1JumvKXlJPFOEGNU8TyWblc5s3Z4txs5YUsWLg62jFen4v6NGfTn3POOfUO8dcu5aiKuj2nXcpuOtVELAE3XjOXC7iUmqsbBwwYUNDK5fo+jv8UcOO1c9jTsnDDFCrv77Jwy6u/cv9HAQE3XlcoJ3C5I5qzabkNKp+Vy7WMrOVyTjhBFm689s73tICbjq5JpSrgJqWk0omlgIAbSz5TTuBS8mOPPdZcc801gW5CD8LbbLONvcWKyzwE3HjtLeCmo1/aqQq4aSus9J0UEHCdZMobqdzAnTZtmr2KMmhA8W+g6t69u+F+ZwE3XnsLuOnol3aqAm7aCit9JwUEXCeZMgtcrFjuwX399dcDv8ul4MThEAyOh+QayELf7/bs2dPeL61QnAJyKRenV6ljC7ilVlz5BSog4MbrGOW2cCn92LFjTdeuXUOtXK5K43IDATdemwc9LeAmr2mSKQq4SaqptCIrIOBGls4+mAXgUg4u+Z46dWrei+oLDTh+17Ms3Gj9QcCNplupnhJwS6W08imogIAbr4NkBbiTJk0y7dq1ywtcaplv0BFw4/UBnhZw42uYZgoCbprqKm1nBQRcZ6kCI2YFuBSuffv25tFHHy0I3aBKCLjx+oCAG1+/tFMQcNNWWOk7KSDgOsmUN1KWgPviiy+aLbfcUsCN16SRnpaFG0m2kj0k4JZMamVUSAEBN17/yBJwqcl+++1n7rnnnqKgW2oLV0c7xutzUZ/W0Y7zokoX6zkd7RhLvup6WMCN155ZA+6MGTNMixYt6t2XW6iWAm68PiCXcnz90k5BFm7aCit9JwUEXCeZKsKl7BWyd+/e9lta10FGwI3XBwTc+PqlnYLru5BGOWThpqFqhaYp4MZruKxZuNTmgw8+sPfl/vrrr7Zy/nOWg2or4MbrAwJufP3STkHATVthpe+kgIDrJFNFWbgU9qSTTjKXX365k5Ur4MbrAwJufP3STkHATVthpe+kQDmA622aCSpg69atzcSJE53KnoVIfgs3tzxYltT1jz/+KHlRv/zyS3tf7g8//OCUt1fWUhx8Uc2bpoLE9rQdOHBg4HWKTg2UQCRtmtKmqQS6kZKIo0A5gFuovG3atKlI4OarU7mAS3m4bJz2LSYceuihOku5GMH+iZvvsyAvKfpBVoCbr3pMDJo2bWrefvvtCApk+xFZuNlun5opXSmB+80335ihQ4cW1JYXHiurUgLnGE+fPj1vcXnRgy6JL0X9WMMdNmyY4d5c17DJJpuYzp07u0ZXvH8UOPvss81TTz1VUA8mMz169CibZvksXH+BBNzkm0ebppLXtGJTLCVwK1YkFVwKVIECU6ZMMfwpFLgzuW/fvlVQ2/mrIAu36pq0Misk4FZmu6nUUkAKuCsg4LprpZgpKiDgpiiukpYCUiATCgi4mWgGFULAVR8otQLVuEu51Boqv+IUEHCL00uxU1JAwE1JWCWbVwEBV52j1AoIuKVWXPkFKiDgqmOUWgEBt9SKKz8BV30gEwoIuJlohpoqhIBbU82dicoKuJloBhVCwFUfKLUCAm6pFVd+Aq76QCYUEHAz0Qw1VQgBt6aaOxOVFXAz0QwqhICrPiAFpEC1KyDgVnsLV0j9BNwKaSgVUwpIgcgKCLiRpdODSSog4CapptKSAlIgiwoIuFlslRosk4Bbg42uKkuBGlNAwK2xBs9qdQXcrLaMyiUFpEBSCgi4SSmpdGIpIODGkk8PR1DAu6O32Lt6I2SlR6SAVUDAVUfIhAICbiaaoaYKoc+Caqq5M1FZATcTzaBCCLjR+8DkyZNNmzZtoidQo08KuPEafs6cOYaL4hXcFRBw3bVSzBQVEHCjiyvtomkn4EbTzXtKE73i9RNwi9dMT6SggKARXVRpF007ATeabgJudN0E3Oja6ckEFRA0oosp7aJpJ+BG003Aja6bgBtdOz2ZoAJAY9CgQQmmqKSkgBSQAtlTYN68eWUp1AJ/ZVyenMtSXWUqBaSAFJACUqA8Cgi45dFduUoBKSAFpECNKSDg1liDq7pSQApIASlQHgUE3PLorlxjKHDmmWeaDTbYwPTo0cOmstZaa5n99tvPXHzxxaGpPv/88+aBBx4wAwcODI3rEmHLLbc0LVu2NCNHjnSJXvY4n3/+ubn66qvNYYcdZtZYYw1bHr7lXHvttc2rr75qmjdvXvYyZr0AP/74o1l66aXN6NGjy94Hr7/+evPss8+Wtf+9++679h2cMGGC2WOPPWzzDRkyxGy99dZmp512qmvOBRdc0AwfPtwcffTRWW/i1Mon4KYmrRJOS4Fc4E6fPt0sv/zyZrXVVgvN8qqrrjJ9+/Y1f/zxR2hclwiVBtzXXnvNThD4ftMbDH/99Vczbdo006pVK7Pooou6VLum4wQBt1x9MAvA9frPhhtuaJZZZhnbNxo3bmyOO+44M2DAgLq+8txzz1kw81utBgG3Vlu+zPX++eefzWKLLRapFLnALSYRZtjHH398zQIXKxawTpo0aT7roxgNqyFunP4XBNxiNEmyD2YBuEF1DwJuMRpVa1wBt1pbtoT16tixozniiCPMaaedZt2TW2yxhWEgaNas2XzupEsvvdS899575rbbbjPLLrusmTlzphk3bpw577zzrDuTf8NNfMEFF5gGDRrUPXvPPfeYM844w7z//vtmq622su7k7bffvqA77/HHHzd85oQLmbQ222wzc+qpp5oOHTrMd3g5xzFOnDjR5kUZiPPEE0/Yv+++++7myiuvNCuuuKL9O9Yh9XzppZesC/aiiy4y55xzTkGXMjP6fffd16y66qqG+jNY77bbbua6666rswZI++uvv7Z5jx8/3iyxxBLmjjvusHX1wjfffGOOOuoo67ZDJ6x0wmeffWbQ55133jE//PCDnUxgvX788cdm9dVXN926dbNWxsILL2w815//O0T+f/bs2fO5lNu2bWutkDvvvHO+XtS/f39z11132TYmPPjgg+bII4+0ZcC6ufDCC62+pQ64x2m7s846K28fxJ0Z1P8oa1gfzO1/pINno5BLOaj/XX755daTQHn9beD1wbD+F9QH0furr74q6FL2+mDDhg0NHh76Ce/ngQceWNdUtOkJJ5xgJ2J8uEKZKO8666xTF+fGG280Z599tvntt99MixYt7NIE73iuS5n8eM+9D2Co69tvv22tW8+lzOeH1157re2n/nD//febvfbay8yaNcv2Sd41xgT+vtJKK5ljjjnG0A8rNQi4ldpyGSo38Pv0008tOLFaGeC//fZb89Zbb5lFFlnElpQBb+WVV7ZWFQPOn3/+aYGAtdWnTx/TuXNnO/AD7X/9619167G8cKwF7bPPPvY5BiWAzGCQbw0X4LRv3960a9fOAnLJJZc0Tz31lOnatau59dZbzWWXXWbXvRgQcIEBC15oJgoMpMDs999/twP4UkstZaZOnWqwiBh8mjRpYkE+d+5c+zuDFxOOfGu4DDLUlXqydvXBBx+YE0880fTs2dMOPgRccttss4357rvv7HfQDH6sR6Mf+RHQ5+mnn7b/zgSAOhCYtCy00EJ2QAN8/L7DDjtYFzu/UdY999zTXHPNNTYf4NG9e3f790033dSmQR7U7ZVXXrFruAyEDGqkt/jii9f1NM7s3X///c3gwYPtvzGJYRLAwDhmzBgLoBdffNFsvPHGJe2d9AsGatoyXx8M6n9MqJhUHHTQQXn7YFD/AzS00ahRowL7IL+tv/769fof/Zg/TNRy+yBtgI75+h+CBvXBU045xey6666hwAWS6623njn55JMt5GjjF154oa7/8Q6wnHDuuefaCSrvMJNAbyLMBGKXXXaxbYzOzzzzjAUj/RbgUvb77rvPruEyqWDSxr6K3r172zw22WQTOzZ4wH3zzTfNRhttZCe7rVu3rusvvBdvvPGGwf1MoI2YeBKHvkW50K5S14EF3JIODdWZGYMIA7m3hgpsWSdkIPQO0mDAY7D+3//93zoR2LjErJuZtRemTJliLUAGf8+SZWZL+l444IAD7IsdBFwGFuDBi8osPjfkW8Nl0sCgd/fdd1vrg4DlwED08MMP2/yxzCkXG2YIWNwAioGlEHDXXXddm4aXLhMGoMWAhi64yG+//XY7AC633HJ2IsCEYZVVVjG33HKLfZb6vPzyy9ayIDAhIFBuNkIBXAITCQYmLGIAi1WO1cwgC4SD1nABhB+4TCYYINEZC55www03mNNPP93Wn4kTf2eSglXrhV69etlJk+chKFVvp5/RPq+//nrePhjU/7788ktD22C1BfXBjz76yE50cvvfv//9bzsBzGfhXnLJJXayE9T/0CSoD2I94r0I6n/0lcMPP9z2k9w+yASViVGhTXveuimTTjwdBCZKeD923nlnW/+bb77ZsA6N94TA5I8JFe8i5SVfPDB4A+gbfg9U0KapIJdy7qYpJn4ffvihtap5N+ibTDjQl3xpz/PPP9++A1646aabrBeHd4+xo9KCgFtpLZbB8gKD//znP/OVrFOnTnadFMuDwMuGexaXkBeY/WIl5J69wsvHS4blgYXFoO4fEBlkAF0QcHmBsZwZuLBoc0M+4GKJU96gsowdO9a6z7AA+H9/wJrDMi4E3Nwd1AwawOn777+37mPg+uijj86XLhoAgxkzZlg4owEQzQ1Y4wzUABerAw8CYOS/wBtL4dhjj62zXl2ASx60C23FYI6HAE0pswdgPAcjRoyoVx4G9F9++aWkvRTgYokCDH/w98Gg/ofHAG9A0FF//BuWGtZVbv9jIrbCCivkBe5JJ51kJ0JB/Y/yBfVBLEu8EUH9D9gCb9zHuX0QTwXLJmHARYuhQ4fWyUOd8IzgyWDySrsBU3/A5YxrfID/CQAABs9JREFUGFATeCfpW/TbQw45xO5E5v2MClz6rDcZxXrmfQek3oSNSejBBx9cry/RNsTZbrvtStrPkshMwE1CxRpPY8cdd6xn1eBqwhrzBuWgTwLYxYhbkxlzbmBWDjD4Ly8+VqEXeI6ZcBBwsc5weTG4+OHuPZsPuFgxDJC4s3MHPaw/gA/8GKT9gecYsOIAF0uSNVjcfP68GVxxu3mA/umnn+pc9F4Z0AaXN4MXVtJjjz1mrWUvYLkAJM9d7Apc4E7dSJPPh1jTA2iehc2kB1c5Zc8NWEalDNSPCV/ueqC/Dwb1P9yaTNzoo0F9kPVJfs/tf95z+SxcLEZvvTFIh6A+iFVMGwb1P+BOG1DP3D7Ic1iCYcBFC793ieUQ6oeVCdBJgwmbP2D9MtnCVewF3i+sXd4HLE3ey6jAJU0mNCy3DBs2zHqYcLd77y1tSl4sweQGvF+UrdKCgFtpLZbB8jLAYgHyUhOYFTNzZWBhACEEDXisxeBWZXafL+D2YjBgLckLzIaBbb41XKwLXK6AKDfgCsWdlgsvBh7WV3FpBwXqx4sPGHH1Epj5M9k49NBDYwGXMgEwBlMG19zgQZL1RjZgESg/AcuTCQaDNRuxcCljnXoB6xkIe8BlXZjBisGM3wi5LmXvWawiJgBrrrmm3Yjlb4NHHnnEei+uuOKKsvdIQMTEgvbI1weD+h91A2S0X74+GNT/cHOylphvDZdJChZpUP9DrKA+iEsc6OTrfzwX1AeBJfUIAy5WKe8lHhUC/Yj1bpZMKCteEPoGbU3AU8REE48G68S5Aa8Wa7J4fIKAyyZB1mP9E+V8YwBxqDvxeQe9TYosTVE/vFXVEgTcamnJMtbD2zTFoMVLyNosFhJrfP5NU7kfvQMSYM1OV9xlxGUNENcWAxBpsR7JGjHWJy+fy6Yp3E1sJGHjhrdpitk7LqtPPvnEWmu41JjBAys2uDDYkM+2225rXaeAj5cfVy+uPm9jkX/TFIMuA1nYpqkwlzIuWDQEomxqwTpi4GWtFCuCwFoiQPE2TbFpjEC5cQeiNRAkHrtoGSyxDp588kkLVA+45NWoUSPTpUsX+50kz7K2G3TwBc+jBWtlxMVy8we8DMAKK5w1P1ywpA+QShn8m6by9cF8hy4wicE9GtQH6YdY9bn9L2zTFABiUpPb/9ALbwj9M7cP0gZsagrqf9SPJQL6R+7GPdZVXTZNMQFlEkz/Ym0abwrvFoG1fqxd3j8Ai1b8l8kw+wZY1+UdwJVO+bHw+WqApQ76RRBw2bD4xRdfWJCy8ZA9Hf5NU17/4B0D8vR54M/k0B94txgjqD8eFSalTP7uvffeUnaxxPIScBOTsnYT4qXAkuXlZxbNwMIL7T+1iE0WAJcdyf7w0EMP2Vkwa3DEYeBn9yPQ5sUnAF/Wjng5SZvBgfUbz8LlGaDm7Z7lGQY1AMFGJAYSXNe4Wpk9Y02yWxn48iJ7nwWx0QVXG39ncGOWzsAB5NgoBeyxjhmo2LFLflgJuFnzWRhBZctdw6W8gBuAM5Cw85nBmrVABmACExi0Y72WAcxzu6E3dUQ/Bk7ieGtxbOwBwOjpAZe0cC2ymQ1rnYGYSY5/05TXPpQDvYAoO0cBgj+gE3pQBiCOW5YBuNSfBgEkJm9AIF8fzNf/qE++PghkWC/M7X94ZnCF+i3c3HYO6n9Mkrwd3EF9MF//ox97XpXcPsi75/pZEH2YyQKfpgV9FtSvXz8LPCxm+h/19D4L8rwZrBczEWQi5n2ek7tLGU3pj97eAdzQeGDQKGgMwEvEUg0eGm9Xs9fP6LfkhZcLYDM5ZvOlf09HJY28Am4ltVZGy8pL722OymgRq65Y3klZwB43qt+NXHWVDamQB1zvU5Jaq39YfYs5+jQsLf0eTwEBN55+evovBQTc9LsB61i4AnHNsbbFOiCBT4ZYt918883TL0RGcxBwCzeMgJudjivgZqctKrYkAm76TcepTrhMcf9i3QJeAq5hvlms5SDgFm79oGWNWu4v5ay7gFtO9ZW3FJACUkAK1IwCAm7NNLUqKgWkgBSQAuVUQMAtp/rKWwpIASkgBWpGAQG3ZppaFZUCUkAKSIFyKiDgllN95S0FpIAUkAI1o4CAWzNNrYpKASkgBaRAORUQcMupvvKWAlJACkiBmlFAwK2ZplZFpYAUkAJSoJwKCLjlVF95SwEpIAWkQM0oIODWTFOrolJACkgBKVBOBQTccqqvvKWAFJACUqBmFBBwa6apVVEpIAWkgBQopwICbjnVV95SQApIASlQMwoIuDXT1KqoFJACUkAKlFMBAbec6itvKSAFpIAUqBkF/g+aT+6pDGK5+gAAAABJRU5ErkJggg==)\n"
      ],
      "metadata": {
        "id": "sqO76Z5eDA48"
      }
    },
    {
      "cell_type": "markdown",
      "source": [
        "#Métricas para la clasificación\n",
        "\n",
        "\\begin{align}\n",
        "&\\text{Accuracy}=\\frac{TP+TN}{TP+TN+FP+FN} \\\\\n",
        "&\\text{Precision}=\\frac{TP}{TP+FP}\\\\\n",
        "&\\text{Recall} = \\frac{TP}{TP+FN} \\\\\n",
        "&F_{1} = \\frac{2*\\text{Precision}}{\\text{Precision} + \\text{Recall}}\n",
        "\\end{align}"
      ],
      "metadata": {
        "id": "CNXVxYMKJ_Q-"
      }
    },
    {
      "cell_type": "code",
      "source": [
        "from sklearn.datasets import load_breast_cancer\n",
        "\n",
        "basebc = load_breast_cancer()\n",
        "\n",
        "X_train1, X_test1, y_train1, y_test1 = train_test_split(basebc['data'], basebc['target'], random_state = 0)"
      ],
      "metadata": {
        "id": "1sLMlWAnIab6"
      },
      "execution_count": 9,
      "outputs": []
    },
    {
      "cell_type": "code",
      "source": [
        "from sklearn.metrics import confusion_matrix\n",
        "\n",
        "Decision_tree_c = DecisionTreeClassifier().fit(X_train1, y_train1)\n",
        "\n",
        "pred_dt_c = Decision_tree_c.predict(X_test1)\n",
        "\n",
        "confusion = confusion_matrix(y_test1, pred_dt_c)\n",
        "\n",
        "print(\"Matriz de confusión\\n{}\".format(confusion))"
      ],
      "metadata": {
        "colab": {
          "base_uri": "https://localhost:8080/"
        },
        "id": "xnAUbdd2Evun",
        "outputId": "bbc592bc-b8aa-4049-e220-3f3c345645ca"
      },
      "execution_count": 10,
      "outputs": [
        {
          "output_type": "stream",
          "name": "stdout",
          "text": [
            "Matriz de confusión\n",
            "[[50  3]\n",
            " [16 74]]\n"
          ]
        }
      ]
    },
    {
      "cell_type": "code",
      "source": [
        "for n in range(1,11):\n",
        "  Decision_tree_cn = DecisionTreeClassifier(max_depth = n).fit(X_train1, y_train1)\n",
        "  pred_dt_cn = Decision_tree_cn.predict(X_test1)\n",
        "\n",
        "  confusion = confusion_matrix(y_test1, pred_dt_cn)\n",
        "\n",
        "  print(\"Matriz de confusión, profundidad {}: \\n{}\".format(n,confusion))"
      ],
      "metadata": {
        "colab": {
          "base_uri": "https://localhost:8080/"
        },
        "id": "xp40Z-uTICS0",
        "outputId": "0f09b652-573b-42d6-8e51-170295a63bf6"
      },
      "execution_count": 11,
      "outputs": [
        {
          "output_type": "stream",
          "name": "stdout",
          "text": [
            "Matriz de confusión, profundidad 1: \n",
            "[[48  5]\n",
            " [12 78]]\n",
            "Matriz de confusión, profundidad 2: \n",
            "[[48  5]\n",
            " [ 4 86]]\n",
            "Matriz de confusión, profundidad 3: \n",
            "[[51  2]\n",
            " [10 80]]\n",
            "Matriz de confusión, profundidad 4: \n",
            "[[51  2]\n",
            " [ 8 82]]\n",
            "Matriz de confusión, profundidad 5: \n",
            "[[52  1]\n",
            " [ 8 82]]\n",
            "Matriz de confusión, profundidad 6: \n",
            "[[50  3]\n",
            " [14 76]]\n",
            "Matriz de confusión, profundidad 7: \n",
            "[[50  3]\n",
            " [10 80]]\n",
            "Matriz de confusión, profundidad 8: \n",
            "[[49  4]\n",
            " [16 74]]\n",
            "Matriz de confusión, profundidad 9: \n",
            "[[49  4]\n",
            " [16 74]]\n",
            "Matriz de confusión, profundidad 10: \n",
            "[[50  3]\n",
            " [14 76]]\n"
          ]
        }
      ]
    },
    {
      "cell_type": "code",
      "source": [
        "print(\"Predicción con Naïve-Bayes\")\n",
        "\n",
        "from sklearn.naive_bayes import GaussianNB\n",
        "bc_bayes_c = GaussianNB().fit(X_train1, y_train1)\n",
        "pred_dt_cb = bc_bayes_c.predict(X_test1)\n",
        "\n",
        "confusion = confusion_matrix(y_test1, pred_dt_cb)\n",
        "\n",
        "print(\"Matriz de confusión: \\n{}\".format(confusion))"
      ],
      "metadata": {
        "colab": {
          "base_uri": "https://localhost:8080/"
        },
        "id": "oACUxMEiJhm_",
        "outputId": "052bf34e-a499-4b4d-878e-a8bcb8086666"
      },
      "execution_count": 12,
      "outputs": [
        {
          "output_type": "stream",
          "name": "stdout",
          "text": [
            "Predicción con Naïve-Bayes\n",
            "Matriz de confusión: \n",
            "[[48  5]\n",
            " [ 4 86]]\n"
          ]
        }
      ]
    },
    {
      "cell_type": "code",
      "source": [
        "from sklearn.metrics import accuracy_score, precision_score, recall_score, f1_score\n",
        "\n",
        "print('Accuracy: {:.2f}'.format(accuracy_score(y_test1, pred_dt_cb)))\n",
        "print('Precision: {:.2f}'.format(precision_score(y_test1, pred_dt_cb)))\n",
        "print('Recall: {:.2f}'.format(recall_score(y_test1, pred_dt_cb)))\n",
        "print('F1: {:.2f}'.format(f1_score(y_test1, pred_dt_cb)))"
      ],
      "metadata": {
        "colab": {
          "base_uri": "https://localhost:8080/"
        },
        "id": "y-9nkC_3LdiD",
        "outputId": "7494a23c-1477-44fa-cbed-59cbe62691bf"
      },
      "execution_count": 13,
      "outputs": [
        {
          "output_type": "stream",
          "name": "stdout",
          "text": [
            "Accuracy: 0.94\n",
            "Precision: 0.95\n",
            "Recall: 0.96\n",
            "F1: 0.95\n"
          ]
        }
      ]
    },
    {
      "cell_type": "code",
      "source": [
        "Decision_tree_c3 = DecisionTreeClassifier(max_depth = 2).fit(X_train1, y_train1)\n",
        "pred_dt_c3 = Decision_tree_c3.predict(X_test1)\n",
        "\n",
        "print('Accuracy: {:.2f}'.format(accuracy_score(y_test1, pred_dt_c3)))\n",
        "print('Precision: {:.2f}'.format(precision_score(y_test1, pred_dt_c3)))\n",
        "print('Recall: {:.2f}'.format(recall_score(y_test1, pred_dt_c3)))\n",
        "print('F1: {:.2f}'.format(f1_score(y_test1, pred_dt_c3)))"
      ],
      "metadata": {
        "colab": {
          "base_uri": "https://localhost:8080/"
        },
        "id": "vIuntgf8MQZy",
        "outputId": "e3506316-245e-4a55-ccb9-c0a057c6a5ff"
      },
      "execution_count": 14,
      "outputs": [
        {
          "output_type": "stream",
          "name": "stdout",
          "text": [
            "Accuracy: 0.92\n",
            "Precision: 0.93\n",
            "Recall: 0.94\n",
            "F1: 0.94\n"
          ]
        }
      ]
    },
    {
      "cell_type": "code",
      "source": [
        "Decision_tree_c3 = DecisionTreeClassifier(max_depth = 8).fit(X_train1, y_train1)\n",
        "pred_dt_c3 = Decision_tree_c3.predict(X_test1)\n",
        "\n",
        "print('Accuracy: {:.2f}'.format(accuracy_score(y_test1, pred_dt_c3)))\n",
        "print('Precision: {:.2f}'.format(precision_score(y_test1, pred_dt_c3)))\n",
        "print('Recall: {:.2f}'.format(recall_score(y_test1, pred_dt_c3)))\n",
        "print('F1: {:.2f}'.format(f1_score(y_test1, pred_dt_c3)))"
      ],
      "metadata": {
        "colab": {
          "base_uri": "https://localhost:8080/"
        },
        "outputId": "a2c9d5f1-01b7-453e-a02c-41bd9a8ca619",
        "id": "XTWAm3WcgOpB"
      },
      "execution_count": 15,
      "outputs": [
        {
          "output_type": "stream",
          "name": "stdout",
          "text": [
            "Accuracy: 0.89\n",
            "Precision: 0.95\n",
            "Recall: 0.87\n",
            "F1: 0.91\n"
          ]
        }
      ]
    },
    {
      "cell_type": "code",
      "source": [
        "basebc[\"data\"][:,0:4]"
      ],
      "metadata": {
        "colab": {
          "base_uri": "https://localhost:8080/"
        },
        "id": "rSuQ782BPvlJ",
        "outputId": "027069c1-db26-4fb0-bc5a-2a4f6c43d4a4"
      },
      "execution_count": 16,
      "outputs": [
        {
          "output_type": "execute_result",
          "data": {
            "text/plain": [
              "array([[  17.99,   10.38,  122.8 , 1001.  ],\n",
              "       [  20.57,   17.77,  132.9 , 1326.  ],\n",
              "       [  19.69,   21.25,  130.  , 1203.  ],\n",
              "       ...,\n",
              "       [  16.6 ,   28.08,  108.3 ,  858.1 ],\n",
              "       [  20.6 ,   29.33,  140.1 , 1265.  ],\n",
              "       [   7.76,   24.54,   47.92,  181.  ]])"
            ]
          },
          "metadata": {},
          "execution_count": 16
        }
      ]
    },
    {
      "cell_type": "code",
      "source": [
        "X_train1b, X_test1b, y_train1b, y_test1b = train_test_split(basebc['data'][:,0:4], basebc['target'], random_state = 0)\n",
        "\n",
        "Decision_tree_c4 = DecisionTreeClassifier(max_depth = 2).fit(X_train1b, y_train1b)\n",
        "pred_dt_c4 = Decision_tree_c4.predict(X_test1b)\n",
        "\n",
        "print('Accuracy: {:.2f}'.format(accuracy_score(y_test1b, pred_dt_c4)))\n",
        "print('Precision: {:.2f}'.format(precision_score(y_test1b, pred_dt_c4)))\n",
        "print('Recall: {:.2f}'.format(recall_score(y_test1b, pred_dt_c4)))\n",
        "print('F1: {:.2f}'.format(f1_score(y_test1b, pred_dt_c4)))"
      ],
      "metadata": {
        "colab": {
          "base_uri": "https://localhost:8080/"
        },
        "id": "u9VtecZuR_2e",
        "outputId": "6e0b650b-c78c-47f3-e30c-a2acf9ad05ad"
      },
      "execution_count": 17,
      "outputs": [
        {
          "output_type": "stream",
          "name": "stdout",
          "text": [
            "Accuracy: 0.90\n",
            "Precision: 0.89\n",
            "Recall: 0.97\n",
            "F1: 0.93\n"
          ]
        }
      ]
    },
    {
      "cell_type": "code",
      "source": [
        "Decision_tree_c4.score(X_test1b, y_test1b)"
      ],
      "metadata": {
        "colab": {
          "base_uri": "https://localhost:8080/"
        },
        "id": "1Rk6fm7og1pI",
        "outputId": "0c5532aa-de91-4448-a0dc-043ad5b2e8be"
      },
      "execution_count": 19,
      "outputs": [
        {
          "output_type": "execute_result",
          "data": {
            "text/plain": [
              "0.9020979020979021"
            ]
          },
          "metadata": {},
          "execution_count": 19
        }
      ]
    },
    {
      "cell_type": "code",
      "source": [
        "from sklearn.linear_model import LogisticRegression\n",
        "\n",
        "X_train1c, X_test1c, y_train1c, y_test1c = train_test_split(basebc['data'][:, :6], basebc['target'], random_state = 0)\n",
        "\n",
        "logreg= LogisticRegression()\n",
        "logreg.fit(X_train1c,y_train1c)\n",
        "y_pred=logreg.predict(X_test1c)\n",
        "\n",
        "print('Accuracy: {:.2f}'.format(accuracy_score(y_test1c, y_pred)))\n",
        "print('Precision: {:.2f}'.format(precision_score(y_test1c, y_pred)))\n",
        "print('Recall: {:.2f}'.format(recall_score(y_test1c, y_pred)))\n",
        "print('F1: {:.2f}'.format(f1_score(y_test1c, y_pred)))"
      ],
      "metadata": {
        "colab": {
          "base_uri": "https://localhost:8080/"
        },
        "id": "zGeRk1m9nc-M",
        "outputId": "3b4bbbd9-2f35-4e97-b4ea-85d12342da99"
      },
      "execution_count": 27,
      "outputs": [
        {
          "output_type": "stream",
          "name": "stdout",
          "text": [
            "Accuracy: 0.91\n",
            "Precision: 0.94\n",
            "Recall: 0.91\n",
            "F1: 0.93\n"
          ]
        }
      ]
    },
    {
      "cell_type": "code",
      "source": [
        "confusion = confusion_matrix(y_test1c, y_pred)\n",
        "\n",
        "print(\"Matriz de confusión: \\n{}\".format(confusion))"
      ],
      "metadata": {
        "colab": {
          "base_uri": "https://localhost:8080/"
        },
        "id": "y3ibyDpPod_d",
        "outputId": "1dfdc056-2f58-490a-b123-8ad09046e2d5"
      },
      "execution_count": 28,
      "outputs": [
        {
          "output_type": "stream",
          "name": "stdout",
          "text": [
            "Matriz de confusión: \n",
            "[[48  5]\n",
            " [ 8 82]]\n"
          ]
        }
      ]
    },
    {
      "cell_type": "markdown",
      "source": [
        "#Ejercicio:\n",
        "\n",
        "Tomando el siguiente resultado de un muestreo\n",
        "\n",
        "\\begin{align}\n",
        "&TP = 30\\\\\n",
        "&TN = 930\\\\\n",
        "&FN = 10\\\\\n",
        "&FP = 30\n",
        "\\end{align},\n",
        "\n",
        "calcule Accuracy, Precision y Recall."
      ],
      "metadata": {
        "id": "cDO_7qVabDV0"
      }
    },
    {
      "cell_type": "code",
      "source": [
        ""
      ],
      "metadata": {
        "id": "nz8xi6ZRSkVX"
      },
      "execution_count": null,
      "outputs": []
    }
  ]
}