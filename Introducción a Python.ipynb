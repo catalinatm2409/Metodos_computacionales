{
  "cells": [
    {
      "cell_type": "markdown",
      "metadata": {
        "id": "AgRS35KLK67b"
      },
      "source": [
        "# Variables numéricas"
      ]
    },
    {
      "cell_type": "code",
      "execution_count": null,
      "metadata": {
        "id": "Jtw_nMpfK67h",
        "outputId": "521aeee8-dc81-4c43-9b50-3e5df77467cd",
        "colab": {
          "base_uri": "https://localhost:8080/"
        }
      },
      "outputs": [
        {
          "output_type": "execute_result",
          "data": {
            "text/plain": [
              "2"
            ]
          },
          "metadata": {},
          "execution_count": 1
        }
      ],
      "source": [
        "x = 2\n",
        "x"
      ]
    },
    {
      "cell_type": "code",
      "execution_count": null,
      "metadata": {
        "id": "ux9BWT6KK67k",
        "outputId": "77169ef5-a471-421f-b0ac-7d6dcdecc2fa",
        "colab": {
          "base_uri": "https://localhost:8080/"
        }
      },
      "outputs": [
        {
          "output_type": "execute_result",
          "data": {
            "text/plain": [
              "4"
            ]
          },
          "metadata": {},
          "execution_count": 2
        }
      ],
      "source": [
        "2*x"
      ]
    },
    {
      "cell_type": "code",
      "execution_count": null,
      "metadata": {
        "id": "axRnyBPeK67l",
        "outputId": "70776251-6afe-47c2-8f63-4b13dca69e19",
        "colab": {
          "base_uri": "https://localhost:8080/"
        }
      },
      "outputs": [
        {
          "output_type": "execute_result",
          "data": {
            "text/plain": [
              "8"
            ]
          },
          "metadata": {},
          "execution_count": 3
        }
      ],
      "source": [
        "pow(x,3)"
      ]
    },
    {
      "cell_type": "code",
      "execution_count": null,
      "metadata": {
        "id": "9RYghPqPK67m",
        "outputId": "a1a052ef-ebdd-435e-b49b-d30b2a67dfd1",
        "colab": {
          "base_uri": "https://localhost:8080/"
        }
      },
      "outputs": [
        {
          "output_type": "execute_result",
          "data": {
            "text/plain": [
              "8"
            ]
          },
          "metadata": {},
          "execution_count": 4
        }
      ],
      "source": [
        "x**3"
      ]
    },
    {
      "cell_type": "code",
      "execution_count": null,
      "metadata": {
        "id": "O2QVcLbcK67o",
        "outputId": "519fe603-d6d2-4f76-cedb-b7e4261458c8",
        "colab": {
          "base_uri": "https://localhost:8080/"
        }
      },
      "outputs": [
        {
          "output_type": "execute_result",
          "data": {
            "text/plain": [
              "int"
            ]
          },
          "metadata": {},
          "execution_count": 5
        }
      ],
      "source": [
        "type(2)"
      ]
    },
    {
      "cell_type": "code",
      "execution_count": null,
      "metadata": {
        "id": "GZABHw1VK67p",
        "outputId": "d809da49-be59-4e48-eb0b-144e9deec364",
        "colab": {
          "base_uri": "https://localhost:8080/"
        }
      },
      "outputs": [
        {
          "output_type": "execute_result",
          "data": {
            "text/plain": [
              "float"
            ]
          },
          "metadata": {},
          "execution_count": 6
        }
      ],
      "source": [
        "type(2.0)"
      ]
    },
    {
      "cell_type": "code",
      "execution_count": null,
      "metadata": {
        "id": "pR8AEsTqK67q",
        "colab": {
          "base_uri": "https://localhost:8080/"
        },
        "outputId": "90b4d17d-459b-463b-f571-c30d228586fe"
      },
      "outputs": [
        {
          "output_type": "execute_result",
          "data": {
            "text/plain": [
              "1.5"
            ]
          },
          "metadata": {},
          "execution_count": 7
        }
      ],
      "source": [
        "3/2"
      ]
    },
    {
      "cell_type": "code",
      "execution_count": null,
      "metadata": {
        "id": "QAMgZBy7K67r",
        "colab": {
          "base_uri": "https://localhost:8080/"
        },
        "outputId": "1116f864-3683-457b-9202-9a2a64be686e"
      },
      "outputs": [
        {
          "output_type": "execute_result",
          "data": {
            "text/plain": [
              "1.5"
            ]
          },
          "metadata": {},
          "execution_count": 8
        }
      ],
      "source": [
        "3.0/2.0"
      ]
    },
    {
      "cell_type": "code",
      "execution_count": null,
      "metadata": {
        "id": "ve3WOUTYK67t",
        "colab": {
          "base_uri": "https://localhost:8080/"
        },
        "outputId": "61e2aa7a-79b9-4e48-85d3-ee3e8847726d"
      },
      "outputs": [
        {
          "output_type": "execute_result",
          "data": {
            "text/plain": [
              "0.6666666666666666"
            ]
          },
          "metadata": {},
          "execution_count": 9
        }
      ],
      "source": [
        "2/3"
      ]
    },
    {
      "cell_type": "code",
      "execution_count": null,
      "metadata": {
        "id": "syS5DB4FK67u",
        "colab": {
          "base_uri": "https://localhost:8080/"
        },
        "outputId": "68482a48-d5ff-4fed-a444-56b8a3101020"
      },
      "outputs": [
        {
          "output_type": "execute_result",
          "data": {
            "text/plain": [
              "0.667"
            ]
          },
          "metadata": {},
          "execution_count": 10
        }
      ],
      "source": [
        "round(2/3,3)"
      ]
    },
    {
      "cell_type": "code",
      "execution_count": null,
      "metadata": {
        "id": "xSJKJSKmK67v",
        "colab": {
          "base_uri": "https://localhost:8080/"
        },
        "outputId": "342c85dc-240d-42fe-ef31-71517cf0500d"
      },
      "outputs": [
        {
          "output_type": "execute_result",
          "data": {
            "text/plain": [
              "-15"
            ]
          },
          "metadata": {},
          "execution_count": 11
        }
      ],
      "source": [
        "5*-3"
      ]
    },
    {
      "cell_type": "code",
      "execution_count": null,
      "metadata": {
        "id": "lQi8Wo47K67w"
      },
      "outputs": [],
      "source": [
        ""
      ]
    },
    {
      "cell_type": "markdown",
      "metadata": {
        "id": "Vc9mUdHLK67y"
      },
      "source": [
        "# Strings"
      ]
    },
    {
      "cell_type": "code",
      "execution_count": null,
      "metadata": {
        "id": "vleIvTFgK67z",
        "colab": {
          "base_uri": "https://localhost:8080/",
          "height": 36
        },
        "outputId": "95e3713e-3dfd-446f-aef3-980e95107f28"
      },
      "outputs": [
        {
          "output_type": "execute_result",
          "data": {
            "application/vnd.google.colaboratory.intrinsic+json": {
              "type": "string"
            },
            "text/plain": [
              "'lorem ipsum'"
            ]
          },
          "metadata": {},
          "execution_count": 12
        }
      ],
      "source": [
        "S = \"lorem ipsum\"\n",
        "S"
      ]
    },
    {
      "cell_type": "code",
      "execution_count": null,
      "metadata": {
        "id": "n1FWwvnvK670",
        "colab": {
          "base_uri": "https://localhost:8080/"
        },
        "outputId": "19b2570a-09f6-4316-9fe4-0614c0d6f4db"
      },
      "outputs": [
        {
          "output_type": "stream",
          "name": "stdout",
          "text": [
            "lorem ipsum\n"
          ]
        }
      ],
      "source": [
        "print(S)"
      ]
    },
    {
      "cell_type": "code",
      "execution_count": null,
      "metadata": {
        "id": "S8KLdZkFK671",
        "colab": {
          "base_uri": "https://localhost:8080/"
        },
        "outputId": "20faa102-4d7b-4a23-f438-4fee6d93d7eb"
      },
      "outputs": [
        {
          "output_type": "execute_result",
          "data": {
            "text/plain": [
              "str"
            ]
          },
          "metadata": {},
          "execution_count": 14
        }
      ],
      "source": [
        "type(S)"
      ]
    },
    {
      "cell_type": "code",
      "execution_count": null,
      "metadata": {
        "id": "XRFwf7yBK673",
        "colab": {
          "base_uri": "https://localhost:8080/",
          "height": 36
        },
        "outputId": "64096688-730e-41ee-e242-faad5e5895cc"
      },
      "outputs": [
        {
          "output_type": "execute_result",
          "data": {
            "application/vnd.google.colaboratory.intrinsic+json": {
              "type": "string"
            },
            "text/plain": [
              "'ad hominem'"
            ]
          },
          "metadata": {},
          "execution_count": 15
        }
      ],
      "source": [
        "S2 = \"ad hominem\"\n",
        "S2"
      ]
    },
    {
      "cell_type": "code",
      "execution_count": null,
      "metadata": {
        "id": "od0l7TM8K674",
        "colab": {
          "base_uri": "https://localhost:8080/",
          "height": 36
        },
        "outputId": "e954ff00-ecfe-4f38-c6e0-40090dd8393d"
      },
      "outputs": [
        {
          "output_type": "execute_result",
          "data": {
            "application/vnd.google.colaboratory.intrinsic+json": {
              "type": "string"
            },
            "text/plain": [
              "'ad hominem'"
            ]
          },
          "metadata": {},
          "execution_count": 16
        }
      ],
      "source": [
        "S\n",
        "S2"
      ]
    },
    {
      "cell_type": "code",
      "execution_count": null,
      "metadata": {
        "id": "zPJpTWIgK675",
        "colab": {
          "base_uri": "https://localhost:8080/"
        },
        "outputId": "a40702c2-4387-4517-8bb2-0dd81911c3e6"
      },
      "outputs": [
        {
          "output_type": "stream",
          "name": "stdout",
          "text": [
            "lorem ipsum\n",
            "ad hominem\n"
          ]
        }
      ],
      "source": [
        "print(S)\n",
        "print(S2)"
      ]
    },
    {
      "cell_type": "code",
      "execution_count": null,
      "metadata": {
        "id": "NkauShgMK676",
        "colab": {
          "base_uri": "https://localhost:8080/"
        },
        "outputId": "ff5693aa-319b-4d48-cc25-41de6925fb6d"
      },
      "outputs": [
        {
          "output_type": "stream",
          "name": "stdout",
          "text": [
            "arriba \n",
            " y abajo\n"
          ]
        }
      ],
      "source": [
        "print(\"arriba \\n y abajo\")"
      ]
    },
    {
      "cell_type": "code",
      "execution_count": null,
      "metadata": {
        "id": "mm1ziXtuK676",
        "colab": {
          "base_uri": "https://localhost:8080/"
        },
        "outputId": "2e4cafd7-fd1a-45eb-d73b-bb8c0df46d46"
      },
      "outputs": [
        {
          "output_type": "stream",
          "name": "stdout",
          "text": [
            "arriba \n",
            "y abajo\n"
          ]
        }
      ],
      "source": [
        "print(\"arriba \\ny abajo\")"
      ]
    },
    {
      "cell_type": "code",
      "execution_count": null,
      "metadata": {
        "id": "DGFPgrYEK677",
        "colab": {
          "base_uri": "https://localhost:8080/"
        },
        "outputId": "d868ca08-d583-4a90-f28d-905b36442416"
      },
      "outputs": [
        {
          "output_type": "execute_result",
          "data": {
            "text/plain": [
              "11"
            ]
          },
          "metadata": {},
          "execution_count": 20
        }
      ],
      "source": [
        "len(S)"
      ]
    },
    {
      "cell_type": "code",
      "execution_count": null,
      "metadata": {
        "id": "sb25YxfKK677",
        "colab": {
          "base_uri": "https://localhost:8080/"
        },
        "outputId": "169e2384-4215-493e-b1ac-193a12f54282"
      },
      "outputs": [
        {
          "output_type": "stream",
          "name": "stdout",
          "text": [
            "l\n",
            "o\n",
            "r\n",
            "e\n",
            "m\n",
            " \n",
            "i\n",
            "p\n",
            "s\n",
            "u\n",
            "m\n"
          ]
        }
      ],
      "source": [
        "for let in S:\n",
        "    print(let)"
      ]
    },
    {
      "cell_type": "code",
      "execution_count": null,
      "metadata": {
        "id": "RKqJufdUK678",
        "colab": {
          "base_uri": "https://localhost:8080/",
          "height": 36
        },
        "outputId": "11d1efda-88c8-406d-e08b-45b8d3c9a8b3"
      },
      "outputs": [
        {
          "output_type": "execute_result",
          "data": {
            "application/vnd.google.colaboratory.intrinsic+json": {
              "type": "string"
            },
            "text/plain": [
              "'o'"
            ]
          },
          "metadata": {},
          "execution_count": 22
        }
      ],
      "source": [
        "S[1]"
      ]
    },
    {
      "cell_type": "code",
      "execution_count": null,
      "metadata": {
        "id": "4vJSdg9QK679",
        "colab": {
          "base_uri": "https://localhost:8080/",
          "height": 36
        },
        "outputId": "64c0bc71-d8be-4cf7-defc-64e66b2fb656"
      },
      "outputs": [
        {
          "output_type": "execute_result",
          "data": {
            "application/vnd.google.colaboratory.intrinsic+json": {
              "type": "string"
            },
            "text/plain": [
              "'m'"
            ]
          },
          "metadata": {},
          "execution_count": 23
        }
      ],
      "source": [
        "S[-1]"
      ]
    },
    {
      "cell_type": "code",
      "execution_count": null,
      "metadata": {
        "id": "m1TEWLEbK67-",
        "colab": {
          "base_uri": "https://localhost:8080/",
          "height": 36
        },
        "outputId": "2821e262-a054-4d19-dc2f-b416482ad1ce"
      },
      "outputs": [
        {
          "output_type": "execute_result",
          "data": {
            "application/vnd.google.colaboratory.intrinsic+json": {
              "type": "string"
            },
            "text/plain": [
              "'orem ipsum'"
            ]
          },
          "metadata": {},
          "execution_count": 24
        }
      ],
      "source": [
        "S[1:]"
      ]
    },
    {
      "cell_type": "code",
      "execution_count": null,
      "metadata": {
        "id": "8bpZpBzXK67_",
        "colab": {
          "base_uri": "https://localhost:8080/",
          "height": 36
        },
        "outputId": "91138c45-d6d5-46d9-8307-ff5654e8a997"
      },
      "outputs": [
        {
          "output_type": "execute_result",
          "data": {
            "application/vnd.google.colaboratory.intrinsic+json": {
              "type": "string"
            },
            "text/plain": [
              "'orem ips'"
            ]
          },
          "metadata": {},
          "execution_count": 25
        }
      ],
      "source": [
        "S[1:9]"
      ]
    },
    {
      "cell_type": "code",
      "execution_count": null,
      "metadata": {
        "id": "5sjXqz9fK68A",
        "colab": {
          "base_uri": "https://localhost:8080/",
          "height": 36
        },
        "outputId": "865a78d5-a011-49ce-89fd-45764c006741"
      },
      "outputs": [
        {
          "output_type": "execute_result",
          "data": {
            "application/vnd.google.colaboratory.intrinsic+json": {
              "type": "string"
            },
            "text/plain": [
              "'lrmism'"
            ]
          },
          "metadata": {},
          "execution_count": 26
        }
      ],
      "source": [
        "S[::2]"
      ]
    },
    {
      "cell_type": "code",
      "execution_count": null,
      "metadata": {
        "id": "-yPWiQnlK68A",
        "colab": {
          "base_uri": "https://localhost:8080/",
          "height": 36
        },
        "outputId": "f562d2e5-ea36-4d3c-f936-75d7f416f166"
      },
      "outputs": [
        {
          "output_type": "execute_result",
          "data": {
            "application/vnd.google.colaboratory.intrinsic+json": {
              "type": "string"
            },
            "text/plain": [
              "'leiu'"
            ]
          },
          "metadata": {},
          "execution_count": 27
        }
      ],
      "source": [
        "S[::3]"
      ]
    },
    {
      "cell_type": "code",
      "execution_count": null,
      "metadata": {
        "id": "rZLkpvTPK68B",
        "colab": {
          "base_uri": "https://localhost:8080/",
          "height": 36
        },
        "outputId": "1dc1efc2-7f6c-437c-8815-efeb4df7176f"
      },
      "outputs": [
        {
          "output_type": "execute_result",
          "data": {
            "application/vnd.google.colaboratory.intrinsic+json": {
              "type": "string"
            },
            "text/plain": [
              "'oe p'"
            ]
          },
          "metadata": {},
          "execution_count": 28
        }
      ],
      "source": [
        "S[1:9:2]"
      ]
    },
    {
      "cell_type": "code",
      "execution_count": null,
      "metadata": {
        "id": "Va_5PfW0K68B",
        "colab": {
          "base_uri": "https://localhost:8080/",
          "height": 36
        },
        "outputId": "c48880ac-53c6-4290-e1fa-03e41ae73f34"
      },
      "outputs": [
        {
          "output_type": "execute_result",
          "data": {
            "application/vnd.google.colaboratory.intrinsic+json": {
              "type": "string"
            },
            "text/plain": [
              "'muspi merol'"
            ]
          },
          "metadata": {},
          "execution_count": 29
        }
      ],
      "source": [
        "S[::-1]"
      ]
    },
    {
      "cell_type": "code",
      "execution_count": null,
      "metadata": {
        "id": "fw5FDMMEK68C"
      },
      "outputs": [],
      "source": [
        ""
      ]
    },
    {
      "cell_type": "markdown",
      "metadata": {
        "id": "JBYPmAWzK68C"
      },
      "source": [
        "# Listas"
      ]
    },
    {
      "cell_type": "code",
      "execution_count": null,
      "metadata": {
        "id": "bQ8HDcSsK68E",
        "colab": {
          "base_uri": "https://localhost:8080/"
        },
        "outputId": "223b0d1d-92c2-4fe5-b306-143f97bdcf08"
      },
      "outputs": [
        {
          "output_type": "execute_result",
          "data": {
            "text/plain": [
              "[2, 4, 6, 8]"
            ]
          },
          "metadata": {},
          "execution_count": 30
        }
      ],
      "source": [
        "lista1 = [2,4,6,8]\n",
        "lista1"
      ]
    },
    {
      "cell_type": "code",
      "execution_count": null,
      "metadata": {
        "id": "9RqG-FPjK68F",
        "colab": {
          "base_uri": "https://localhost:8080/"
        },
        "outputId": "83bdda84-6323-46df-d6dc-243828d75939"
      },
      "outputs": [
        {
          "output_type": "execute_result",
          "data": {
            "text/plain": [
              "['primero', 'segundo']"
            ]
          },
          "metadata": {},
          "execution_count": 31
        }
      ],
      "source": [
        "lista2 = [\"primero\", \"segundo\"]\n",
        "lista2"
      ]
    },
    {
      "cell_type": "code",
      "execution_count": null,
      "metadata": {
        "id": "LwB9-vPzK68F"
      },
      "outputs": [],
      "source": [
        "lista3 = [\"cero\", 1, 2, \"3\"]"
      ]
    },
    {
      "cell_type": "code",
      "execution_count": null,
      "metadata": {
        "id": "zqCOpzfbK68G",
        "colab": {
          "base_uri": "https://localhost:8080/"
        },
        "outputId": "a994a809-36b3-4ca4-c3c1-8f8db549ccb9"
      },
      "outputs": [
        {
          "output_type": "execute_result",
          "data": {
            "text/plain": [
              "['cero', 1, 2, '3']"
            ]
          },
          "metadata": {},
          "execution_count": 33
        }
      ],
      "source": [
        "lista3"
      ]
    },
    {
      "cell_type": "code",
      "execution_count": null,
      "metadata": {
        "id": "CJUFMQLQK68G",
        "colab": {
          "base_uri": "https://localhost:8080/"
        },
        "outputId": "e6f35744-dfa0-49e6-d169-a712f09b108b"
      },
      "outputs": [
        {
          "output_type": "stream",
          "name": "stdout",
          "text": [
            "cero\n",
            "1\n",
            "2\n",
            "3\n"
          ]
        }
      ],
      "source": [
        "for el in lista3:\n",
        "    print(el)"
      ]
    },
    {
      "cell_type": "code",
      "execution_count": null,
      "metadata": {
        "id": "T-AsosjgK68H",
        "colab": {
          "base_uri": "https://localhost:8080/"
        },
        "outputId": "c4da7df7-30c3-46eb-c476-4e6336013a88"
      },
      "outputs": [
        {
          "output_type": "stream",
          "name": "stdout",
          "text": [
            "<class 'str'>\n",
            "<class 'int'>\n",
            "<class 'int'>\n",
            "<class 'str'>\n"
          ]
        }
      ],
      "source": [
        "for el in lista3:\n",
        "    print(type(el))"
      ]
    },
    {
      "cell_type": "code",
      "execution_count": null,
      "metadata": {
        "id": "QKeQnEGVK68H",
        "colab": {
          "base_uri": "https://localhost:8080/",
          "height": 167
        },
        "outputId": "490f2596-7185-4e6d-8503-b0ddeb2914c5"
      },
      "outputs": [
        {
          "output_type": "execute_result",
          "data": {
            "application/vnd.google.colaboratory.intrinsic+json": {
              "type": "string"
            },
            "text/plain": [
              "'cero'"
            ]
          },
          "metadata": {},
          "execution_count": 36
        }
      ],
      "source": [
        "lista3[0]"
      ]
    },
    {
      "cell_type": "code",
      "execution_count": null,
      "metadata": {
        "id": "M94mvp7mK68I",
        "colab": {
          "base_uri": "https://localhost:8080/",
          "height": 111
        },
        "outputId": "f9de784b-c551-4ff0-a6ff-4faf4e6c17cd"
      },
      "outputs": [
        {
          "output_type": "execute_result",
          "data": {
            "application/vnd.google.colaboratory.intrinsic+json": {
              "type": "string"
            },
            "text/plain": [
              "'3'"
            ]
          },
          "metadata": {},
          "execution_count": 37
        }
      ],
      "source": [
        "lista3[-1]"
      ]
    },
    {
      "cell_type": "code",
      "execution_count": null,
      "metadata": {
        "id": "icjJDsFbK68J",
        "colab": {
          "base_uri": "https://localhost:8080/"
        },
        "outputId": "01e635dd-0704-4aad-9cde-81130aa49b8b"
      },
      "outputs": [
        {
          "output_type": "execute_result",
          "data": {
            "text/plain": [
              "[2, 4, 6, 8, 'cero', 1, 2, '3']"
            ]
          },
          "metadata": {},
          "execution_count": 38
        }
      ],
      "source": [
        "lista4 = lista1 + lista3\n",
        "lista4"
      ]
    },
    {
      "cell_type": "code",
      "execution_count": null,
      "metadata": {
        "id": "MRHf35E1K68K",
        "colab": {
          "base_uri": "https://localhost:8080/"
        },
        "outputId": "cc434d47-763a-48d7-fb4e-72ba7f09c4a7"
      },
      "outputs": [
        {
          "output_type": "execute_result",
          "data": {
            "text/plain": [
              "4"
            ]
          },
          "metadata": {},
          "execution_count": 39
        }
      ],
      "source": [
        "lista4[1]"
      ]
    },
    {
      "cell_type": "code",
      "execution_count": null,
      "metadata": {
        "id": "0WCaBuJOK68M",
        "colab": {
          "base_uri": "https://localhost:8080/"
        },
        "outputId": "ab1801ba-ce6c-4e78-a1b5-cb4f26bfb991"
      },
      "outputs": [
        {
          "output_type": "execute_result",
          "data": {
            "text/plain": [
              "[2, -6, 6, 8, 'cero', 1, 2, '3']"
            ]
          },
          "metadata": {},
          "execution_count": 40
        }
      ],
      "source": [
        "lista4[1] = -6\n",
        "lista4"
      ]
    },
    {
      "cell_type": "code",
      "execution_count": null,
      "metadata": {
        "id": "FhfHcdU1K68O",
        "colab": {
          "base_uri": "https://localhost:8080/"
        },
        "outputId": "41662203-2420-4457-8d90-07f9b1d645d2"
      },
      "outputs": [
        {
          "output_type": "execute_result",
          "data": {
            "text/plain": [
              "[2, -6, 6, 8, 'cero', 1, 2, '3', 'al final']"
            ]
          },
          "metadata": {},
          "execution_count": 41
        }
      ],
      "source": [
        "lista4.append(\"al final\")\n",
        "lista4"
      ]
    },
    {
      "cell_type": "code",
      "execution_count": null,
      "metadata": {
        "id": "eLZ0p5CaK68O",
        "colab": {
          "base_uri": "https://localhost:8080/"
        },
        "outputId": "acbf2d5f-1099-4cc5-95b9-d007e2f804dd"
      },
      "outputs": [
        {
          "output_type": "execute_result",
          "data": {
            "text/plain": [
              "[2, -6, 6, 8, 'cero', 1, 2, '3']"
            ]
          },
          "metadata": {},
          "execution_count": 42
        }
      ],
      "source": [
        "lista4.pop()\n",
        "lista4"
      ]
    },
    {
      "cell_type": "code",
      "execution_count": null,
      "metadata": {
        "id": "mj5q_0jKK68P",
        "colab": {
          "base_uri": "https://localhost:8080/"
        },
        "outputId": "81e119ca-c33a-4629-af09-af4aeb5604d1"
      },
      "outputs": [
        {
          "output_type": "execute_result",
          "data": {
            "text/plain": [
              "8"
            ]
          },
          "metadata": {},
          "execution_count": 43
        }
      ],
      "source": [
        "lista4.pop(3)"
      ]
    },
    {
      "cell_type": "code",
      "execution_count": null,
      "metadata": {
        "id": "pfuMpCCkK68Q",
        "colab": {
          "base_uri": "https://localhost:8080/"
        },
        "outputId": "faa48bc4-b8e1-4d72-84c7-aafab3f6421c"
      },
      "outputs": [
        {
          "output_type": "execute_result",
          "data": {
            "text/plain": [
              "[2, -6, 6, 'cero', 1, 2, '3']"
            ]
          },
          "metadata": {},
          "execution_count": 44
        }
      ],
      "source": [
        "lista4"
      ]
    },
    {
      "cell_type": "code",
      "execution_count": null,
      "metadata": {
        "id": "ew_uWWmJK68Q",
        "colab": {
          "base_uri": "https://localhost:8080/"
        },
        "outputId": "31c1fc4b-b6b2-492d-964c-d6c9e6329291"
      },
      "outputs": [
        {
          "output_type": "execute_result",
          "data": {
            "text/plain": [
              "7"
            ]
          },
          "metadata": {},
          "execution_count": 45
        }
      ],
      "source": [
        "len(lista4)"
      ]
    },
    {
      "cell_type": "code",
      "execution_count": null,
      "metadata": {
        "id": "AWLrjJLdK68S",
        "colab": {
          "base_uri": "https://localhost:8080/"
        },
        "outputId": "cd344681-8820-446e-d8a0-2291f522ea3c"
      },
      "outputs": [
        {
          "output_type": "execute_result",
          "data": {
            "text/plain": [
              "['b', 'c', 'p', 'a', 'd']"
            ]
          },
          "metadata": {},
          "execution_count": 46
        }
      ],
      "source": [
        "lista5 = [\"b\", \"c\", \"p\", \"a\", \"d\"]\n",
        "lista5"
      ]
    },
    {
      "cell_type": "code",
      "execution_count": null,
      "metadata": {
        "id": "gVNJFhUiK68T"
      },
      "outputs": [],
      "source": [
        "lista5.sort()"
      ]
    },
    {
      "cell_type": "code",
      "execution_count": null,
      "metadata": {
        "id": "9O9zbscpK68U",
        "colab": {
          "base_uri": "https://localhost:8080/"
        },
        "outputId": "e3da302a-59cf-427a-939a-f9d28dc87796"
      },
      "outputs": [
        {
          "output_type": "execute_result",
          "data": {
            "text/plain": [
              "['a', 'b', 'c', 'd', 'p']"
            ]
          },
          "metadata": {},
          "execution_count": 48
        }
      ],
      "source": [
        "lista5"
      ]
    },
    {
      "cell_type": "code",
      "execution_count": null,
      "metadata": {
        "id": "0cuIuJrnK68V",
        "colab": {
          "base_uri": "https://localhost:8080/"
        },
        "outputId": "5d158d21-0c3f-46fa-dd4b-dd538f41cfe2"
      },
      "outputs": [
        {
          "output_type": "execute_result",
          "data": {
            "text/plain": [
              "[-6, 9, 10, -5, 0]"
            ]
          },
          "metadata": {},
          "execution_count": 49
        }
      ],
      "source": [
        "lista6 = [-6,9,10,-5,0]\n",
        "lista6"
      ]
    },
    {
      "cell_type": "code",
      "execution_count": null,
      "metadata": {
        "id": "84FOnQo4K68X"
      },
      "outputs": [],
      "source": [
        "lista6.sort()"
      ]
    },
    {
      "cell_type": "code",
      "execution_count": null,
      "metadata": {
        "id": "2xifgaBQK68X",
        "colab": {
          "base_uri": "https://localhost:8080/"
        },
        "outputId": "3675c7b0-aa49-48d3-8ed9-fb00f9d6d1eb"
      },
      "outputs": [
        {
          "output_type": "execute_result",
          "data": {
            "text/plain": [
              "[-6, -5, 0, 9, 10]"
            ]
          },
          "metadata": {},
          "execution_count": 51
        }
      ],
      "source": [
        "lista6"
      ]
    },
    {
      "cell_type": "code",
      "execution_count": null,
      "metadata": {
        "id": "B5peLfAgK68Y",
        "colab": {
          "base_uri": "https://localhost:8080/"
        },
        "outputId": "be2b92d6-a559-48f3-d91e-cc8ecbea6ad3"
      },
      "outputs": [
        {
          "output_type": "execute_result",
          "data": {
            "text/plain": [
              "[10, 9, 0, -5, -6]"
            ]
          },
          "metadata": {},
          "execution_count": 52
        }
      ],
      "source": [
        "lista6[::-1]"
      ]
    },
    {
      "cell_type": "code",
      "execution_count": null,
      "metadata": {
        "id": "E70ZO37qK68Y",
        "colab": {
          "base_uri": "https://localhost:8080/"
        },
        "outputId": "59cb8273-3516-462d-9fc8-564aaa1b6756"
      },
      "outputs": [
        {
          "output_type": "execute_result",
          "data": {
            "text/plain": [
              "[-5, 0, 9]"
            ]
          },
          "metadata": {},
          "execution_count": 53
        }
      ],
      "source": [
        "lista6[1:4]"
      ]
    },
    {
      "cell_type": "code",
      "execution_count": null,
      "metadata": {
        "id": "6rZKLeSPK68Z",
        "colab": {
          "base_uri": "https://localhost:8080/"
        },
        "outputId": "bf78311f-6844-426d-bc92-b94c0386669c"
      },
      "outputs": [
        {
          "output_type": "execute_result",
          "data": {
            "text/plain": [
              "[-5, 9]"
            ]
          },
          "metadata": {},
          "execution_count": 54
        }
      ],
      "source": [
        "lista6[1:4:2]"
      ]
    },
    {
      "cell_type": "code",
      "execution_count": null,
      "metadata": {
        "id": "hEZWrPhbK68a"
      },
      "outputs": [],
      "source": [
        ""
      ]
    },
    {
      "cell_type": "markdown",
      "metadata": {
        "id": "LLOQDvgjK68b"
      },
      "source": [
        "# Tuples"
      ]
    },
    {
      "cell_type": "code",
      "execution_count": null,
      "metadata": {
        "id": "eOSmW_eUK68c",
        "colab": {
          "base_uri": "https://localhost:8080/"
        },
        "outputId": "4d8ac3c7-0627-4e78-9955-4f143bc065ab"
      },
      "outputs": [
        {
          "output_type": "execute_result",
          "data": {
            "text/plain": [
              "(2, 4, 6, 8)"
            ]
          },
          "metadata": {},
          "execution_count": 55
        }
      ],
      "source": [
        "tup1 = (2,4,6,8)\n",
        "tup1"
      ]
    },
    {
      "cell_type": "code",
      "execution_count": null,
      "metadata": {
        "id": "BJdaTqzKK68d",
        "colab": {
          "base_uri": "https://localhost:8080/"
        },
        "outputId": "575a9911-0ab2-4567-f7b2-bfa0822781e9"
      },
      "outputs": [
        {
          "output_type": "execute_result",
          "data": {
            "text/plain": [
              "[2, 4, 6, 8]"
            ]
          },
          "metadata": {},
          "execution_count": 56
        }
      ],
      "source": [
        "lista1"
      ]
    },
    {
      "cell_type": "code",
      "execution_count": null,
      "metadata": {
        "id": "mNH4cSzeK68d",
        "colab": {
          "base_uri": "https://localhost:8080/"
        },
        "outputId": "4fd5fa4d-ce83-4034-93a0-02df81c3d36e"
      },
      "outputs": [
        {
          "output_type": "execute_result",
          "data": {
            "text/plain": [
              "tuple"
            ]
          },
          "metadata": {},
          "execution_count": 57
        }
      ],
      "source": [
        "type(tup1)"
      ]
    },
    {
      "cell_type": "code",
      "execution_count": null,
      "metadata": {
        "id": "JDMVkFDHK68e",
        "colab": {
          "base_uri": "https://localhost:8080/"
        },
        "outputId": "30106ff7-bcf1-4c49-d004-9783cd089ee2"
      },
      "outputs": [
        {
          "output_type": "execute_result",
          "data": {
            "text/plain": [
              "list"
            ]
          },
          "metadata": {},
          "execution_count": 58
        }
      ],
      "source": [
        "type(lista1)"
      ]
    },
    {
      "cell_type": "code",
      "execution_count": null,
      "metadata": {
        "id": "divBGOBfK68f",
        "colab": {
          "base_uri": "https://localhost:8080/"
        },
        "outputId": "e24045be-91c3-4a2b-d1ea-21e4bc260ce0"
      },
      "outputs": [
        {
          "output_type": "execute_result",
          "data": {
            "text/plain": [
              "1"
            ]
          },
          "metadata": {},
          "execution_count": 59
        }
      ],
      "source": [
        "lista1.index(4)"
      ]
    },
    {
      "cell_type": "code",
      "execution_count": null,
      "metadata": {
        "id": "3jUGoNDzK68f",
        "colab": {
          "base_uri": "https://localhost:8080/"
        },
        "outputId": "0e22d2f2-cf39-4ff8-de8e-cd374b2f8fb9"
      },
      "outputs": [
        {
          "output_type": "execute_result",
          "data": {
            "text/plain": [
              "1"
            ]
          },
          "metadata": {},
          "execution_count": 60
        }
      ],
      "source": [
        "tup1.index(4)"
      ]
    },
    {
      "cell_type": "code",
      "execution_count": null,
      "metadata": {
        "id": "6kQXLb5BK68g",
        "colab": {
          "base_uri": "https://localhost:8080/"
        },
        "outputId": "a3689431-6e74-4aa0-b00e-9502846ad170"
      },
      "outputs": [
        {
          "output_type": "execute_result",
          "data": {
            "text/plain": [
              "[2, 4, 6, -9]"
            ]
          },
          "metadata": {},
          "execution_count": 61
        }
      ],
      "source": [
        "lista1[-1]=-9\n",
        "lista1"
      ]
    },
    {
      "cell_type": "code",
      "execution_count": null,
      "metadata": {
        "id": "bi8KmhBfK68h",
        "colab": {
          "base_uri": "https://localhost:8080/",
          "height": 193
        },
        "outputId": "74b2ecf2-0a41-46ee-9b23-d6c43a968166"
      },
      "outputs": [
        {
          "output_type": "error",
          "ename": "TypeError",
          "evalue": "ignored",
          "traceback": [
            "\u001b[0;31m---------------------------------------------------------------------------\u001b[0m",
            "\u001b[0;31mTypeError\u001b[0m                                 Traceback (most recent call last)",
            "\u001b[0;32m<ipython-input-62-bd9884d5446f>\u001b[0m in \u001b[0;36m<module>\u001b[0;34m()\u001b[0m\n\u001b[0;32m----> 1\u001b[0;31m \u001b[0mtup1\u001b[0m\u001b[0;34m[\u001b[0m\u001b[0;34m-\u001b[0m\u001b[0;36m1\u001b[0m\u001b[0;34m]\u001b[0m\u001b[0;34m=\u001b[0m\u001b[0;34m-\u001b[0m\u001b[0;36m9\u001b[0m\u001b[0;34m\u001b[0m\u001b[0;34m\u001b[0m\u001b[0m\n\u001b[0m\u001b[1;32m      2\u001b[0m \u001b[0mtup1\u001b[0m\u001b[0;34m\u001b[0m\u001b[0;34m\u001b[0m\u001b[0m\n",
            "\u001b[0;31mTypeError\u001b[0m: 'tuple' object does not support item assignment"
          ]
        }
      ],
      "source": [
        "tup1[-1]=-9\n",
        "tup1"
      ]
    },
    {
      "cell_type": "code",
      "execution_count": null,
      "metadata": {
        "id": "1gVMHDNsK68i",
        "colab": {
          "base_uri": "https://localhost:8080/"
        },
        "outputId": "5e5b84fd-0371-47dd-b9b1-4e520a6bd900"
      },
      "outputs": [
        {
          "output_type": "execute_result",
          "data": {
            "text/plain": [
              "(['cero', 0], ['uno', 1], ['dos', 2])"
            ]
          },
          "metadata": {},
          "execution_count": 63
        }
      ],
      "source": [
        "tuplista = ([\"cero\",0], [\"uno\",1], [\"dos\",2])\n",
        "tuplista"
      ]
    },
    {
      "cell_type": "code",
      "execution_count": null,
      "metadata": {
        "id": "COrNocr2K68j",
        "colab": {
          "base_uri": "https://localhost:8080/"
        },
        "outputId": "fbf0be5d-5329-4c14-ef75-7eb99364be0a"
      },
      "outputs": [
        {
          "output_type": "execute_result",
          "data": {
            "text/plain": [
              "['cero', 0]"
            ]
          },
          "metadata": {},
          "execution_count": 64
        }
      ],
      "source": [
        "tuplista[0]"
      ]
    },
    {
      "cell_type": "code",
      "execution_count": null,
      "metadata": {
        "id": "rgZz1GvOK68j",
        "colab": {
          "base_uri": "https://localhost:8080/"
        },
        "outputId": "b5a010ea-6234-480f-d39f-f3909348ccea"
      },
      "outputs": [
        {
          "output_type": "execute_result",
          "data": {
            "text/plain": [
              "0"
            ]
          },
          "metadata": {},
          "execution_count": 65
        }
      ],
      "source": [
        "tuplista[0][1]"
      ]
    },
    {
      "cell_type": "code",
      "execution_count": null,
      "metadata": {
        "id": "4CoTwNwUK68k",
        "colab": {
          "base_uri": "https://localhost:8080/"
        },
        "outputId": "34bf25db-c24c-4563-d81d-b614e072add2"
      },
      "outputs": [
        {
          "output_type": "execute_result",
          "data": {
            "text/plain": [
              "(0, 1, 1, 3)"
            ]
          },
          "metadata": {},
          "execution_count": 66
        }
      ],
      "source": [
        "tup2 = (0,1,1,3)\n",
        "tup2"
      ]
    },
    {
      "cell_type": "code",
      "execution_count": null,
      "metadata": {
        "id": "xIvl0ZUWK68k",
        "colab": {
          "base_uri": "https://localhost:8080/"
        },
        "outputId": "30ce42c8-16aa-4e08-d4fc-19f73ca2856d"
      },
      "outputs": [
        {
          "output_type": "execute_result",
          "data": {
            "text/plain": [
              "[0, 1, 1, 3]"
            ]
          },
          "metadata": {},
          "execution_count": 67
        }
      ],
      "source": [
        "lis2 = [0,1,1,3]\n",
        "lis2"
      ]
    },
    {
      "cell_type": "code",
      "execution_count": null,
      "metadata": {
        "id": "z2YWSimrK68l",
        "colab": {
          "base_uri": "https://localhost:8080/"
        },
        "outputId": "bd65ca6e-df39-409f-966c-d120b6b7b9cc"
      },
      "outputs": [
        {
          "output_type": "execute_result",
          "data": {
            "text/plain": [
              "2"
            ]
          },
          "metadata": {},
          "execution_count": 68
        }
      ],
      "source": [
        "lis2.count(1)"
      ]
    },
    {
      "cell_type": "code",
      "execution_count": null,
      "metadata": {
        "id": "buXpjFOnK68m",
        "colab": {
          "base_uri": "https://localhost:8080/"
        },
        "outputId": "79deece0-d863-4c7d-9036-dd393ff04c63"
      },
      "outputs": [
        {
          "output_type": "stream",
          "name": "stdout",
          "text": [
            "0 1\n",
            "1 2\n",
            "1 2\n",
            "3 1\n"
          ]
        }
      ],
      "source": [
        "for el in lis2:\n",
        "    print(el,lis2.count(el))"
      ]
    },
    {
      "cell_type": "code",
      "execution_count": null,
      "metadata": {
        "id": "wV5nb73iK68m"
      },
      "outputs": [],
      "source": [
        ""
      ]
    },
    {
      "cell_type": "markdown",
      "metadata": {
        "id": "R1aBfPMuK68n"
      },
      "source": [
        "# Listas dinámicas"
      ]
    },
    {
      "cell_type": "code",
      "execution_count": null,
      "metadata": {
        "id": "lI2uLK-MK68o"
      },
      "outputs": [],
      "source": [
        "pal = \"buenas\""
      ]
    },
    {
      "cell_type": "code",
      "execution_count": null,
      "metadata": {
        "id": "Nn2RaBAzK68o"
      },
      "outputs": [],
      "source": [
        "lispal = []\n",
        "\n",
        "for let in pal:\n",
        "    lispal.append(let)"
      ]
    },
    {
      "cell_type": "code",
      "execution_count": null,
      "metadata": {
        "id": "s0x8EQfGK68p"
      },
      "outputs": [],
      "source": [
        "lispal"
      ]
    },
    {
      "cell_type": "code",
      "execution_count": null,
      "metadata": {
        "id": "DPy77LcNK68q"
      },
      "outputs": [],
      "source": [
        "lispal1 = [let for let in pal]\n",
        "lispal1"
      ]
    },
    {
      "cell_type": "code",
      "execution_count": null,
      "metadata": {
        "id": "8B246OMuK68s"
      },
      "outputs": [],
      "source": [
        "lispal2 = [let for let in \"enunciado\"]\n",
        "lispal2"
      ]
    },
    {
      "cell_type": "markdown",
      "metadata": {
        "id": "87JMCpgvK68s"
      },
      "source": [
        "Intervalos numéricos:\n",
        "\n",
        "range(a,b,c)\n",
        "\n",
        "Comienza en a (cerrado), termina en b(abierto), pasos de c.\n",
        "\n",
        "Nota: c=1 por defecto."
      ]
    },
    {
      "cell_type": "code",
      "execution_count": null,
      "metadata": {
        "id": "dzQv5x4rK68t",
        "colab": {
          "base_uri": "https://localhost:8080/"
        },
        "outputId": "7503b64e-0698-4d90-b27b-ab12defbe161"
      },
      "outputs": [
        {
          "output_type": "stream",
          "name": "stdout",
          "text": [
            "0\n",
            "1\n",
            "2\n",
            "3\n",
            "4\n",
            "5\n",
            "6\n",
            "7\n",
            "8\n",
            "9\n",
            "10\n"
          ]
        }
      ],
      "source": [
        "ran = range(0,11)\n",
        "\n",
        "for num in ran:\n",
        "    print(num)"
      ]
    },
    {
      "cell_type": "code",
      "execution_count": null,
      "metadata": {
        "id": "ZqLEEzkVK68u"
      },
      "outputs": [],
      "source": [
        "ran1 = range(0,11,2)\n",
        "\n",
        "for num in ran1:\n",
        "    print(num)"
      ]
    },
    {
      "cell_type": "code",
      "execution_count": null,
      "metadata": {
        "id": "PAXEWzJvK68v"
      },
      "outputs": [],
      "source": [
        "lisnum = [x for x in range(0,21)]\n",
        "lisnum"
      ]
    },
    {
      "cell_type": "code",
      "execution_count": null,
      "metadata": {
        "id": "kSG4jodCK68w"
      },
      "outputs": [],
      "source": [
        "lisnum1 = [x**2 for x in range(0,11)]\n",
        "lisnum1"
      ]
    },
    {
      "cell_type": "code",
      "execution_count": null,
      "metadata": {
        "id": "HpI8ShpOK68x"
      },
      "outputs": [],
      "source": [
        "lisnum2 = [pow(x,3) for x in range(0,11)]\n",
        "lisnum2"
      ]
    },
    {
      "cell_type": "code",
      "execution_count": null,
      "metadata": {
        "id": "BA78eEfaK68y"
      },
      "outputs": [],
      "source": [
        "celsius = [0,10,20,34.5]\n",
        "\n",
        "fahrenheit = [( (9/5)*temp + 32) for temp in celsius]\n",
        "\n",
        "fahrenheit"
      ]
    },
    {
      "cell_type": "code",
      "execution_count": null,
      "metadata": {
        "id": "IHc9GxUrK68z"
      },
      "outputs": [],
      "source": [
        "lisnum3 = []\n",
        "\n",
        "for num in range(0,15):\n",
        "    if num%2 == 0:\n",
        "        lisnum3.append(num)\n",
        "    else:\n",
        "        lisnum3.append(\"impar\")"
      ]
    },
    {
      "cell_type": "code",
      "execution_count": null,
      "metadata": {
        "id": "oDFLwVe-K680"
      },
      "outputs": [],
      "source": [
        "lisnum3"
      ]
    },
    {
      "cell_type": "code",
      "execution_count": null,
      "metadata": {
        "id": "RMYfSPztK680"
      },
      "outputs": [],
      "source": [
        "lisnum4 = [x if x%2 ==0 else \"impar\" for x in range(0,15)]"
      ]
    },
    {
      "cell_type": "code",
      "execution_count": null,
      "metadata": {
        "id": "c4q_GCb2K681"
      },
      "outputs": [],
      "source": [
        "lisnum4"
      ]
    },
    {
      "cell_type": "code",
      "execution_count": null,
      "metadata": {
        "id": "HDu9OSXGK682"
      },
      "outputs": [],
      "source": [
        "lisnum5 = []\n",
        "\n",
        "for x in [2,4,6]:\n",
        "    for y in [1,10,1000]:\n",
        "        lisnum5.append(x*y)"
      ]
    },
    {
      "cell_type": "code",
      "execution_count": null,
      "metadata": {
        "id": "Qr8d91M-K683"
      },
      "outputs": [],
      "source": [
        "lisnum5"
      ]
    },
    {
      "cell_type": "code",
      "execution_count": null,
      "metadata": {
        "id": "5EBvmzXOK684"
      },
      "outputs": [],
      "source": [
        ""
      ]
    },
    {
      "cell_type": "markdown",
      "metadata": {
        "id": "Tb0n-RFjK685"
      },
      "source": [
        "# Conjuntos"
      ]
    },
    {
      "cell_type": "code",
      "execution_count": null,
      "metadata": {
        "id": "D9DCFKXMK688",
        "colab": {
          "base_uri": "https://localhost:8080/"
        },
        "outputId": "934ab17d-1c60-4344-fc83-2c2e853560a6"
      },
      "outputs": [
        {
          "output_type": "execute_result",
          "data": {
            "text/plain": [
              "{1, 2, 3, 4, 5, 6}"
            ]
          },
          "metadata": {},
          "execution_count": 70
        }
      ],
      "source": [
        "{3, 3, 2, 3, 1, 4, 5, 6, 4, 2}"
      ]
    },
    {
      "cell_type": "code",
      "execution_count": null,
      "metadata": {
        "id": "1-bpTVRBK68_",
        "colab": {
          "base_uri": "https://localhost:8080/"
        },
        "outputId": "edb599f3-a153-4223-d78e-479b54a40e9d"
      },
      "outputs": [
        {
          "output_type": "execute_result",
          "data": {
            "text/plain": [
              "{1, 2, 3}"
            ]
          },
          "metadata": {},
          "execution_count": 71
        }
      ],
      "source": [
        "conjunto1 = set([1, 2, 2, 3, 2, 1, 2])\n",
        "conjunto1"
      ]
    },
    {
      "cell_type": "code",
      "execution_count": null,
      "metadata": {
        "id": "faDsJQgPK69A",
        "colab": {
          "base_uri": "https://localhost:8080/"
        },
        "outputId": "ce27ed98-a88e-4a3f-9c68-89091ac70b16"
      },
      "outputs": [
        {
          "output_type": "execute_result",
          "data": {
            "text/plain": [
              "{'c', 'e', 'n', 'o', 'r'}"
            ]
          },
          "metadata": {},
          "execution_count": 72
        }
      ],
      "source": [
        "conpal = \"reconocer\"\n",
        "set(conpal)"
      ]
    },
    {
      "cell_type": "code",
      "execution_count": null,
      "metadata": {
        "id": "p8q_Ol6-K69B",
        "colab": {
          "base_uri": "https://localhost:8080/",
          "height": 174
        },
        "outputId": "8d069e58-ea4d-4a8c-d779-3fd2d61b7c7f"
      },
      "outputs": [
        {
          "output_type": "error",
          "ename": "TypeError",
          "evalue": "ignored",
          "traceback": [
            "\u001b[0;31m---------------------------------------------------------------------------\u001b[0m",
            "\u001b[0;31mTypeError\u001b[0m                                 Traceback (most recent call last)",
            "\u001b[0;32m<ipython-input-73-876b843842d8>\u001b[0m in \u001b[0;36m<module>\u001b[0;34m()\u001b[0m\n\u001b[0;32m----> 1\u001b[0;31m \u001b[0mset\u001b[0m\u001b[0;34m(\u001b[0m\u001b[0mconpal\u001b[0m\u001b[0;34m)\u001b[0m\u001b[0;34m[\u001b[0m\u001b[0;34m-\u001b[0m\u001b[0;36m1\u001b[0m\u001b[0;34m]\u001b[0m\u001b[0;34m\u001b[0m\u001b[0;34m\u001b[0m\u001b[0m\n\u001b[0m",
            "\u001b[0;31mTypeError\u001b[0m: 'set' object is not subscriptable"
          ]
        }
      ],
      "source": [
        "set(conpal)[-1]"
      ]
    },
    {
      "cell_type": "code",
      "execution_count": null,
      "metadata": {
        "id": "E2WnuDqnK69C",
        "colab": {
          "base_uri": "https://localhost:8080/",
          "height": 174
        },
        "outputId": "8de4204f-bbd0-41ba-ec87-1ac3b49a7e8c"
      },
      "outputs": [
        {
          "output_type": "error",
          "ename": "TypeError",
          "evalue": "ignored",
          "traceback": [
            "\u001b[0;31m---------------------------------------------------------------------------\u001b[0m",
            "\u001b[0;31mTypeError\u001b[0m                                 Traceback (most recent call last)",
            "\u001b[0;32m<ipython-input-74-18d03ef07241>\u001b[0m in \u001b[0;36m<module>\u001b[0;34m()\u001b[0m\n\u001b[0;32m----> 1\u001b[0;31m \u001b[0mconjunto1\u001b[0m\u001b[0;34m[\u001b[0m\u001b[0;36m0\u001b[0m\u001b[0;34m]\u001b[0m\u001b[0;34m\u001b[0m\u001b[0;34m\u001b[0m\u001b[0m\n\u001b[0m",
            "\u001b[0;31mTypeError\u001b[0m: 'set' object is not subscriptable"
          ]
        }
      ],
      "source": [
        "conjunto1[0]"
      ]
    },
    {
      "cell_type": "code",
      "execution_count": null,
      "metadata": {
        "id": "rzHD5DOTK69D"
      },
      "outputs": [],
      "source": [
        "conjunto2 = set([1,3,7,8,9])"
      ]
    },
    {
      "cell_type": "code",
      "execution_count": null,
      "metadata": {
        "id": "qcrMoT5yK69D",
        "colab": {
          "base_uri": "https://localhost:8080/"
        },
        "outputId": "81605536-605f-4f37-90fa-ae19ca877da2"
      },
      "outputs": [
        {
          "output_type": "execute_result",
          "data": {
            "text/plain": [
              "{1, 2, 3, 7, 8, 9}"
            ]
          },
          "metadata": {},
          "execution_count": 76
        }
      ],
      "source": [
        "conjunto1.union(conjunto2)"
      ]
    },
    {
      "cell_type": "code",
      "execution_count": null,
      "metadata": {
        "id": "IeuzJuFPK69F",
        "colab": {
          "base_uri": "https://localhost:8080/"
        },
        "outputId": "2711f90d-c411-439f-a6ba-90cb1103609b"
      },
      "outputs": [
        {
          "output_type": "execute_result",
          "data": {
            "text/plain": [
              "{1, 3}"
            ]
          },
          "metadata": {},
          "execution_count": 77
        }
      ],
      "source": [
        "conjunto1.intersection(conjunto2)"
      ]
    },
    {
      "cell_type": "code",
      "execution_count": null,
      "metadata": {
        "id": "EAUnURTmK69G"
      },
      "outputs": [],
      "source": [
        "conjunto3 = set([3,2])"
      ]
    },
    {
      "cell_type": "code",
      "execution_count": null,
      "metadata": {
        "id": "dEuLQ0V3K69H",
        "colab": {
          "base_uri": "https://localhost:8080/"
        },
        "outputId": "11443c9f-0c2d-437f-b9be-9db6392cc169"
      },
      "outputs": [
        {
          "output_type": "execute_result",
          "data": {
            "text/plain": [
              "False"
            ]
          },
          "metadata": {},
          "execution_count": 79
        }
      ],
      "source": [
        "conjunto3.issubset(conjunto2)"
      ]
    },
    {
      "cell_type": "code",
      "execution_count": null,
      "metadata": {
        "id": "rvATc-96K69I",
        "colab": {
          "base_uri": "https://localhost:8080/"
        },
        "outputId": "8b61c73b-7620-4fa5-e602-9d25e7a82ccf"
      },
      "outputs": [
        {
          "output_type": "execute_result",
          "data": {
            "text/plain": [
              "True"
            ]
          },
          "metadata": {},
          "execution_count": 80
        }
      ],
      "source": [
        "conjunto3.issubset(conjunto1)"
      ]
    },
    {
      "cell_type": "code",
      "execution_count": null,
      "metadata": {
        "id": "Uq9WUj56K69I"
      },
      "outputs": [],
      "source": [
        ""
      ]
    },
    {
      "cell_type": "markdown",
      "metadata": {
        "id": "xZSEiy5CK69J"
      },
      "source": [
        "# Diccionarios"
      ]
    },
    {
      "cell_type": "code",
      "execution_count": null,
      "metadata": {
        "id": "MtqGsqSMK69K"
      },
      "outputs": [],
      "source": [
        "precios = {\"manzana\": 1500, \"naranja\": 2000, \"leche\": 3000}"
      ]
    },
    {
      "cell_type": "code",
      "execution_count": null,
      "metadata": {
        "id": "OTP-mb0sK69K",
        "colab": {
          "base_uri": "https://localhost:8080/"
        },
        "outputId": "d1e565a3-06ae-47d3-dd12-fb592406450a"
      },
      "outputs": [
        {
          "output_type": "execute_result",
          "data": {
            "text/plain": [
              "dict"
            ]
          },
          "metadata": {},
          "execution_count": 82
        }
      ],
      "source": [
        "type(precios)"
      ]
    },
    {
      "cell_type": "code",
      "execution_count": null,
      "metadata": {
        "id": "EU2ROLlFK69L",
        "colab": {
          "base_uri": "https://localhost:8080/"
        },
        "outputId": "b359ef79-00f6-40d5-ceaa-a4734d1aa7ba"
      },
      "outputs": [
        {
          "output_type": "execute_result",
          "data": {
            "text/plain": [
              "3000"
            ]
          },
          "metadata": {},
          "execution_count": 83
        }
      ],
      "source": [
        "precios[\"leche\"]"
      ]
    },
    {
      "cell_type": "code",
      "execution_count": null,
      "metadata": {
        "id": "duoEGInUK69N"
      },
      "outputs": [],
      "source": [
        "d1 = {\"k1\":123, \"k2\": [0,1,2], \"k3\": {\"clave\":100}}"
      ]
    },
    {
      "cell_type": "code",
      "execution_count": null,
      "metadata": {
        "id": "hSkRsL4BK69N",
        "colab": {
          "base_uri": "https://localhost:8080/"
        },
        "outputId": "e02845b9-8812-40b3-9314-c3df7b06c406"
      },
      "outputs": [
        {
          "output_type": "execute_result",
          "data": {
            "text/plain": [
              "[0, 1, 2]"
            ]
          },
          "metadata": {},
          "execution_count": 85
        }
      ],
      "source": [
        "d1[\"k2\"]"
      ]
    },
    {
      "cell_type": "code",
      "execution_count": null,
      "metadata": {
        "id": "J5DaHruQK69O",
        "colab": {
          "base_uri": "https://localhost:8080/"
        },
        "outputId": "9651f756-0ad0-4984-d1e8-d510a39fbe7d"
      },
      "outputs": [
        {
          "output_type": "execute_result",
          "data": {
            "text/plain": [
              "1"
            ]
          },
          "metadata": {},
          "execution_count": 86
        }
      ],
      "source": [
        "d1[\"k2\"][1]"
      ]
    },
    {
      "cell_type": "code",
      "execution_count": null,
      "metadata": {
        "id": "_bvdQOC6K69P",
        "colab": {
          "base_uri": "https://localhost:8080/"
        },
        "outputId": "cc0221cc-a82c-42db-ae16-1d503a201128"
      },
      "outputs": [
        {
          "output_type": "execute_result",
          "data": {
            "text/plain": [
              "{'clave': 100}"
            ]
          },
          "metadata": {},
          "execution_count": 87
        }
      ],
      "source": [
        "d1[\"k3\"]"
      ]
    },
    {
      "cell_type": "code",
      "execution_count": null,
      "metadata": {
        "id": "5oUcBmd2K69R",
        "colab": {
          "base_uri": "https://localhost:8080/"
        },
        "outputId": "0ed50197-0ff0-4c48-e0a8-1f53464c904a"
      },
      "outputs": [
        {
          "output_type": "execute_result",
          "data": {
            "text/plain": [
              "100"
            ]
          },
          "metadata": {},
          "execution_count": 88
        }
      ],
      "source": [
        "d1[\"k3\"][\"clave\"]"
      ]
    },
    {
      "cell_type": "code",
      "execution_count": null,
      "metadata": {
        "id": "Dlq87MYCK69S"
      },
      "outputs": [],
      "source": [
        "d2 = {\"clave1\": [\"a\", \"b\", \"c\"]}"
      ]
    },
    {
      "cell_type": "code",
      "execution_count": null,
      "metadata": {
        "id": "gHh6863tK69T",
        "colab": {
          "base_uri": "https://localhost:8080/"
        },
        "outputId": "75cf74d8-d5d9-4dc0-8014-bf484ee9d193"
      },
      "outputs": [
        {
          "output_type": "execute_result",
          "data": {
            "text/plain": [
              "['a', 'b', 'c']"
            ]
          },
          "metadata": {},
          "execution_count": 90
        }
      ],
      "source": [
        "listad2 = d2[\"clave1\"]\n",
        "listad2"
      ]
    },
    {
      "cell_type": "code",
      "execution_count": null,
      "metadata": {
        "id": "9As3cVM0K69U"
      },
      "outputs": [],
      "source": [
        "d3 = {\"k1\":100, \"k2\": 200}"
      ]
    },
    {
      "cell_type": "code",
      "execution_count": null,
      "metadata": {
        "id": "xTShSEUQK69U"
      },
      "outputs": [],
      "source": [
        "d3[\"k3\"]=300"
      ]
    },
    {
      "cell_type": "code",
      "execution_count": null,
      "metadata": {
        "id": "koKBYKKrK69V",
        "colab": {
          "base_uri": "https://localhost:8080/"
        },
        "outputId": "9c8a343d-cf2f-421b-f2d0-3f1430af0a06"
      },
      "outputs": [
        {
          "output_type": "execute_result",
          "data": {
            "text/plain": [
              "{'k1': 100, 'k2': 200, 'k3': 300}"
            ]
          },
          "metadata": {},
          "execution_count": 93
        }
      ],
      "source": [
        "d3"
      ]
    },
    {
      "cell_type": "code",
      "execution_count": null,
      "metadata": {
        "id": "1WQtdutmK69W"
      },
      "outputs": [],
      "source": [
        "d3[\"k1\"] = \"precio nuevo\""
      ]
    },
    {
      "cell_type": "code",
      "execution_count": null,
      "metadata": {
        "id": "ZRnTn5hkK69X",
        "colab": {
          "base_uri": "https://localhost:8080/"
        },
        "outputId": "8ea9ace7-600d-45b8-b0db-425670e98347"
      },
      "outputs": [
        {
          "output_type": "execute_result",
          "data": {
            "text/plain": [
              "{'k1': 'precio nuevo', 'k2': 200, 'k3': 300}"
            ]
          },
          "metadata": {},
          "execution_count": 95
        }
      ],
      "source": [
        "d3"
      ]
    },
    {
      "cell_type": "code",
      "execution_count": null,
      "metadata": {
        "id": "WlPO1CpFK69X",
        "colab": {
          "base_uri": "https://localhost:8080/"
        },
        "outputId": "8b863e3d-78b9-4a7f-a22f-c7294d6d8a21"
      },
      "outputs": [
        {
          "output_type": "execute_result",
          "data": {
            "text/plain": [
              "dict_keys(['k1', 'k2', 'k3'])"
            ]
          },
          "metadata": {},
          "execution_count": 96
        }
      ],
      "source": [
        "d3.keys()"
      ]
    },
    {
      "cell_type": "code",
      "execution_count": null,
      "metadata": {
        "id": "_eurG8pVK69Y",
        "colab": {
          "base_uri": "https://localhost:8080/"
        },
        "outputId": "06eb0888-80b2-4214-fbea-6971a0d29a55"
      },
      "outputs": [
        {
          "output_type": "execute_result",
          "data": {
            "text/plain": [
              "dict_values(['precio nuevo', 200, 300])"
            ]
          },
          "metadata": {},
          "execution_count": 97
        }
      ],
      "source": [
        "d3.values()"
      ]
    },
    {
      "cell_type": "code",
      "execution_count": null,
      "metadata": {
        "id": "fbLFnK4zK69Z"
      },
      "outputs": [],
      "source": [
        ""
      ]
    },
    {
      "cell_type": "markdown",
      "metadata": {
        "id": "HdpL0j7dK69Z"
      },
      "source": [
        "# Funciones matemáticas"
      ]
    },
    {
      "cell_type": "code",
      "execution_count": null,
      "metadata": {
        "id": "tMdCroZBK69a"
      },
      "outputs": [],
      "source": [
        "import math"
      ]
    },
    {
      "cell_type": "code",
      "execution_count": null,
      "metadata": {
        "id": "Mze9Fyh0K69a",
        "colab": {
          "base_uri": "https://localhost:8080/"
        },
        "outputId": "0d674fa7-930a-47c4-8583-ed091b50447e"
      },
      "outputs": [
        {
          "output_type": "execute_result",
          "data": {
            "text/plain": [
              "3.141592653589793"
            ]
          },
          "metadata": {},
          "execution_count": 99
        }
      ],
      "source": [
        "math.pi"
      ]
    },
    {
      "cell_type": "code",
      "execution_count": null,
      "metadata": {
        "id": "jcezgs9pK69b"
      },
      "outputs": [],
      "source": [
        "from math import pi"
      ]
    },
    {
      "cell_type": "code",
      "execution_count": null,
      "metadata": {
        "id": "_dwtjEE9K69c",
        "colab": {
          "base_uri": "https://localhost:8080/"
        },
        "outputId": "0d66c082-faf2-4b0d-c227-fad4618f256c"
      },
      "outputs": [
        {
          "output_type": "execute_result",
          "data": {
            "text/plain": [
              "3.141592653589793"
            ]
          },
          "metadata": {},
          "execution_count": 101
        }
      ],
      "source": [
        "pi"
      ]
    },
    {
      "cell_type": "code",
      "execution_count": null,
      "metadata": {
        "id": "EtGLL37XK69e",
        "colab": {
          "base_uri": "https://localhost:8080/"
        },
        "outputId": "d769c03f-9eb8-48df-eda8-d837f977fb7b"
      },
      "outputs": [
        {
          "output_type": "execute_result",
          "data": {
            "text/plain": [
              "2.718281828459045"
            ]
          },
          "metadata": {},
          "execution_count": 102
        }
      ],
      "source": [
        "math.e"
      ]
    },
    {
      "cell_type": "code",
      "execution_count": null,
      "metadata": {
        "id": "my5yrDILK69f",
        "colab": {
          "base_uri": "https://localhost:8080/"
        },
        "outputId": "c784a613-0c17-45c8-aa0d-54e8cc2211b7"
      },
      "outputs": [
        {
          "output_type": "execute_result",
          "data": {
            "text/plain": [
              "0.0"
            ]
          },
          "metadata": {},
          "execution_count": 103
        }
      ],
      "source": [
        "math.log(1)"
      ]
    },
    {
      "cell_type": "code",
      "execution_count": null,
      "metadata": {
        "id": "uJfHn65WK69f",
        "colab": {
          "base_uri": "https://localhost:8080/"
        },
        "outputId": "d6ac765f-f50c-41b3-c3f6-94346a5d88c7"
      },
      "outputs": [
        {
          "output_type": "stream",
          "name": "stdout",
          "text": [
            "0.0\n",
            "0.6931471805599453\n",
            "1.0986122886681098\n",
            "1.3862943611198906\n",
            "1.6094379124341003\n",
            "1.791759469228055\n",
            "1.9459101490553132\n",
            "2.0794415416798357\n",
            "2.1972245773362196\n",
            "2.302585092994046\n"
          ]
        }
      ],
      "source": [
        "for i in range (1,11):\n",
        "    print(math.log(i))"
      ]
    },
    {
      "cell_type": "code",
      "execution_count": null,
      "metadata": {
        "id": "VAvniJFIK69g",
        "colab": {
          "base_uri": "https://localhost:8080/"
        },
        "outputId": "6fc71836-b1ab-4261-d481-e4b838af99a1"
      },
      "outputs": [
        {
          "output_type": "execute_result",
          "data": {
            "text/plain": [
              "1.0"
            ]
          },
          "metadata": {},
          "execution_count": 105
        }
      ],
      "source": [
        "math.log(10,10)"
      ]
    },
    {
      "cell_type": "code",
      "execution_count": null,
      "metadata": {
        "id": "tYHCkK88K69g",
        "colab": {
          "base_uri": "https://localhost:8080/"
        },
        "outputId": "aae8176e-300e-45d9-f391-57faf9c5f9b3"
      },
      "outputs": [
        {
          "output_type": "stream",
          "name": "stdout",
          "text": [
            "0.0\n",
            "0.30102999566398114\n",
            "0.47712125471966244\n",
            "0.6020599913279623\n",
            "0.6989700043360187\n",
            "0.7781512503836435\n",
            "0.8450980400142567\n",
            "0.9030899869919434\n",
            "0.9542425094393249\n",
            "1.0\n"
          ]
        }
      ],
      "source": [
        "for i in range (1,11):\n",
        "    print(math.log(i,10))"
      ]
    },
    {
      "cell_type": "code",
      "execution_count": null,
      "metadata": {
        "id": "F6H5pPIuK69h",
        "colab": {
          "base_uri": "https://localhost:8080/"
        },
        "outputId": "b34a97c6-85da-4730-8408-84f206cad551"
      },
      "outputs": [
        {
          "output_type": "execute_result",
          "data": {
            "text/plain": [
              "0.0"
            ]
          },
          "metadata": {},
          "execution_count": 107
        }
      ],
      "source": [
        "math.sin(0)"
      ]
    },
    {
      "cell_type": "code",
      "execution_count": null,
      "metadata": {
        "id": "tItriVPjK69h",
        "colab": {
          "base_uri": "https://localhost:8080/"
        },
        "outputId": "2dfb699f-70f1-4c42-ab3e-9a208fefadc6"
      },
      "outputs": [
        {
          "output_type": "execute_result",
          "data": {
            "text/plain": [
              "0.8939966636005579"
            ]
          },
          "metadata": {},
          "execution_count": 108
        }
      ],
      "source": [
        "math.sin(90)"
      ]
    },
    {
      "cell_type": "code",
      "execution_count": null,
      "metadata": {
        "id": "fcsPlbFqK69j",
        "colab": {
          "base_uri": "https://localhost:8080/"
        },
        "outputId": "6a864354-09ba-4a17-ddaa-42876f60169b"
      },
      "outputs": [
        {
          "output_type": "execute_result",
          "data": {
            "text/plain": [
              "1.5707963267948966"
            ]
          },
          "metadata": {},
          "execution_count": 109
        }
      ],
      "source": [
        "math.radians(90)"
      ]
    },
    {
      "cell_type": "code",
      "execution_count": null,
      "metadata": {
        "id": "Jaq4VfjfK69j",
        "colab": {
          "base_uri": "https://localhost:8080/"
        },
        "outputId": "5dd0f59e-5207-4d4e-b43a-36ec941a696c"
      },
      "outputs": [
        {
          "output_type": "execute_result",
          "data": {
            "text/plain": [
              "1.0"
            ]
          },
          "metadata": {},
          "execution_count": 110
        }
      ],
      "source": [
        "math.sin(math.radians(90))"
      ]
    },
    {
      "cell_type": "code",
      "execution_count": null,
      "metadata": {
        "id": "em6aqpmDK69j",
        "colab": {
          "base_uri": "https://localhost:8080/"
        },
        "outputId": "f3259029-c4be-470c-c33c-4b32c11779e4"
      },
      "outputs": [
        {
          "output_type": "stream",
          "name": "stdout",
          "text": [
            "Help on built-in module math:\n",
            "\n",
            "NAME\n",
            "    math\n",
            "\n",
            "DESCRIPTION\n",
            "    This module provides access to the mathematical functions\n",
            "    defined by the C standard.\n",
            "\n",
            "FUNCTIONS\n",
            "    acos(x, /)\n",
            "        Return the arc cosine (measured in radians) of x.\n",
            "    \n",
            "    acosh(x, /)\n",
            "        Return the inverse hyperbolic cosine of x.\n",
            "    \n",
            "    asin(x, /)\n",
            "        Return the arc sine (measured in radians) of x.\n",
            "    \n",
            "    asinh(x, /)\n",
            "        Return the inverse hyperbolic sine of x.\n",
            "    \n",
            "    atan(x, /)\n",
            "        Return the arc tangent (measured in radians) of x.\n",
            "    \n",
            "    atan2(y, x, /)\n",
            "        Return the arc tangent (measured in radians) of y/x.\n",
            "        \n",
            "        Unlike atan(y/x), the signs of both x and y are considered.\n",
            "    \n",
            "    atanh(x, /)\n",
            "        Return the inverse hyperbolic tangent of x.\n",
            "    \n",
            "    ceil(x, /)\n",
            "        Return the ceiling of x as an Integral.\n",
            "        \n",
            "        This is the smallest integer >= x.\n",
            "    \n",
            "    copysign(x, y, /)\n",
            "        Return a float with the magnitude (absolute value) of x but the sign of y.\n",
            "        \n",
            "        On platforms that support signed zeros, copysign(1.0, -0.0)\n",
            "        returns -1.0.\n",
            "    \n",
            "    cos(x, /)\n",
            "        Return the cosine of x (measured in radians).\n",
            "    \n",
            "    cosh(x, /)\n",
            "        Return the hyperbolic cosine of x.\n",
            "    \n",
            "    degrees(x, /)\n",
            "        Convert angle x from radians to degrees.\n",
            "    \n",
            "    erf(x, /)\n",
            "        Error function at x.\n",
            "    \n",
            "    erfc(x, /)\n",
            "        Complementary error function at x.\n",
            "    \n",
            "    exp(x, /)\n",
            "        Return e raised to the power of x.\n",
            "    \n",
            "    expm1(x, /)\n",
            "        Return exp(x)-1.\n",
            "        \n",
            "        This function avoids the loss of precision involved in the direct evaluation of exp(x)-1 for small x.\n",
            "    \n",
            "    fabs(x, /)\n",
            "        Return the absolute value of the float x.\n",
            "    \n",
            "    factorial(x, /)\n",
            "        Find x!.\n",
            "        \n",
            "        Raise a ValueError if x is negative or non-integral.\n",
            "    \n",
            "    floor(x, /)\n",
            "        Return the floor of x as an Integral.\n",
            "        \n",
            "        This is the largest integer <= x.\n",
            "    \n",
            "    fmod(x, y, /)\n",
            "        Return fmod(x, y), according to platform C.\n",
            "        \n",
            "        x % y may differ.\n",
            "    \n",
            "    frexp(x, /)\n",
            "        Return the mantissa and exponent of x, as pair (m, e).\n",
            "        \n",
            "        m is a float and e is an int, such that x = m * 2.**e.\n",
            "        If x is 0, m and e are both 0.  Else 0.5 <= abs(m) < 1.0.\n",
            "    \n",
            "    fsum(seq, /)\n",
            "        Return an accurate floating point sum of values in the iterable seq.\n",
            "        \n",
            "        Assumes IEEE-754 floating point arithmetic.\n",
            "    \n",
            "    gamma(x, /)\n",
            "        Gamma function at x.\n",
            "    \n",
            "    gcd(x, y, /)\n",
            "        greatest common divisor of x and y\n",
            "    \n",
            "    hypot(x, y, /)\n",
            "        Return the Euclidean distance, sqrt(x*x + y*y).\n",
            "    \n",
            "    isclose(a, b, *, rel_tol=1e-09, abs_tol=0.0)\n",
            "        Determine whether two floating point numbers are close in value.\n",
            "        \n",
            "          rel_tol\n",
            "            maximum difference for being considered \"close\", relative to the\n",
            "            magnitude of the input values\n",
            "          abs_tol\n",
            "            maximum difference for being considered \"close\", regardless of the\n",
            "            magnitude of the input values\n",
            "        \n",
            "        Return True if a is close in value to b, and False otherwise.\n",
            "        \n",
            "        For the values to be considered close, the difference between them\n",
            "        must be smaller than at least one of the tolerances.\n",
            "        \n",
            "        -inf, inf and NaN behave similarly to the IEEE 754 Standard.  That\n",
            "        is, NaN is not close to anything, even itself.  inf and -inf are\n",
            "        only close to themselves.\n",
            "    \n",
            "    isfinite(x, /)\n",
            "        Return True if x is neither an infinity nor a NaN, and False otherwise.\n",
            "    \n",
            "    isinf(x, /)\n",
            "        Return True if x is a positive or negative infinity, and False otherwise.\n",
            "    \n",
            "    isnan(x, /)\n",
            "        Return True if x is a NaN (not a number), and False otherwise.\n",
            "    \n",
            "    ldexp(x, i, /)\n",
            "        Return x * (2**i).\n",
            "        \n",
            "        This is essentially the inverse of frexp().\n",
            "    \n",
            "    lgamma(x, /)\n",
            "        Natural logarithm of absolute value of Gamma function at x.\n",
            "    \n",
            "    log(...)\n",
            "        log(x, [base=math.e])\n",
            "        Return the logarithm of x to the given base.\n",
            "        \n",
            "        If the base not specified, returns the natural logarithm (base e) of x.\n",
            "    \n",
            "    log10(x, /)\n",
            "        Return the base 10 logarithm of x.\n",
            "    \n",
            "    log1p(x, /)\n",
            "        Return the natural logarithm of 1+x (base e).\n",
            "        \n",
            "        The result is computed in a way which is accurate for x near zero.\n",
            "    \n",
            "    log2(x, /)\n",
            "        Return the base 2 logarithm of x.\n",
            "    \n",
            "    modf(x, /)\n",
            "        Return the fractional and integer parts of x.\n",
            "        \n",
            "        Both results carry the sign of x and are floats.\n",
            "    \n",
            "    pow(x, y, /)\n",
            "        Return x**y (x to the power of y).\n",
            "    \n",
            "    radians(x, /)\n",
            "        Convert angle x from degrees to radians.\n",
            "    \n",
            "    remainder(x, y, /)\n",
            "        Difference between x and the closest integer multiple of y.\n",
            "        \n",
            "        Return x - n*y where n*y is the closest integer multiple of y.\n",
            "        In the case where x is exactly halfway between two multiples of\n",
            "        y, the nearest even value of n is used. The result is always exact.\n",
            "    \n",
            "    sin(x, /)\n",
            "        Return the sine of x (measured in radians).\n",
            "    \n",
            "    sinh(x, /)\n",
            "        Return the hyperbolic sine of x.\n",
            "    \n",
            "    sqrt(x, /)\n",
            "        Return the square root of x.\n",
            "    \n",
            "    tan(x, /)\n",
            "        Return the tangent of x (measured in radians).\n",
            "    \n",
            "    tanh(x, /)\n",
            "        Return the hyperbolic tangent of x.\n",
            "    \n",
            "    trunc(x, /)\n",
            "        Truncates the Real x to the nearest Integral toward 0.\n",
            "        \n",
            "        Uses the __trunc__ magic method.\n",
            "\n",
            "DATA\n",
            "    e = 2.718281828459045\n",
            "    inf = inf\n",
            "    nan = nan\n",
            "    pi = 3.141592653589793\n",
            "    tau = 6.283185307179586\n",
            "\n",
            "FILE\n",
            "    (built-in)\n",
            "\n",
            "\n"
          ]
        }
      ],
      "source": [
        "help(math)"
      ]
    },
    {
      "cell_type": "code",
      "execution_count": null,
      "metadata": {
        "id": "Pcw5iZoEK69j",
        "colab": {
          "base_uri": "https://localhost:8080/",
          "height": 174
        },
        "outputId": "1f3f8c83-95ff-4ff2-c99c-05c3263547b7"
      },
      "outputs": [
        {
          "output_type": "error",
          "ename": "NameError",
          "evalue": "ignored",
          "traceback": [
            "\u001b[0;31m---------------------------------------------------------------------------\u001b[0m",
            "\u001b[0;31mNameError\u001b[0m                                 Traceback (most recent call last)",
            "\u001b[0;32m<ipython-input-112-9b5f292adb7d>\u001b[0m in \u001b[0;36m<module>\u001b[0;34m()\u001b[0m\n\u001b[0;32m----> 1\u001b[0;31m \u001b[0msin\u001b[0m\u001b[0;34m(\u001b[0m\u001b[0mmath\u001b[0m\u001b[0;34m.\u001b[0m\u001b[0mradians\u001b[0m\u001b[0;34m(\u001b[0m\u001b[0;36m90\u001b[0m\u001b[0;34m)\u001b[0m\u001b[0;34m)\u001b[0m\u001b[0;34m\u001b[0m\u001b[0;34m\u001b[0m\u001b[0m\n\u001b[0m",
            "\u001b[0;31mNameError\u001b[0m: name 'sin' is not defined"
          ]
        }
      ],
      "source": [
        "sin(math.radians(90))"
      ]
    },
    {
      "cell_type": "code",
      "execution_count": null,
      "metadata": {
        "id": "fS_wlF-3K69k"
      },
      "outputs": [],
      "source": [
        ""
      ]
    },
    {
      "cell_type": "markdown",
      "metadata": {
        "id": "z3JdfjlQK69k"
      },
      "source": [
        "# Arreglos (arrays) de numpy"
      ]
    },
    {
      "cell_type": "code",
      "execution_count": 1,
      "metadata": {
        "id": "mymO3vYYK69m"
      },
      "outputs": [],
      "source": [
        "import numpy as np"
      ]
    },
    {
      "cell_type": "markdown",
      "metadata": {
        "id": "-oRaxZ1xK69m"
      },
      "source": [
        "Vectores: $\\vec{x} = (4, -5, -3)$\n",
        "\n",
        "Matrices: $M = \\begin{bmatrix} \n",
        "\t1 & 3 & 5 \\\\\n",
        "\t-2 & -4 & -6\\\\\n",
        "\t0.2 & -0.3 & 0.6 \\\\\n",
        "\t\\end{bmatrix}$"
      ]
    },
    {
      "cell_type": "code",
      "execution_count": 2,
      "metadata": {
        "id": "iCBsYydGK69n",
        "colab": {
          "base_uri": "https://localhost:8080/"
        },
        "outputId": "48d3d456-4203-4649-9cf7-3099052f3747"
      },
      "outputs": [
        {
          "output_type": "execute_result",
          "data": {
            "text/plain": [
              "array([[ 4, -5,  3]])"
            ]
          },
          "metadata": {},
          "execution_count": 2
        }
      ],
      "source": [
        "x = np.array([[4,-5,3]])\n",
        "x"
      ]
    },
    {
      "cell_type": "code",
      "source": [
        "arr1 = np.array([1, 2, 3, 4])\n",
        "arr1"
      ],
      "metadata": {
        "colab": {
          "base_uri": "https://localhost:8080/"
        },
        "id": "p9TLcGbjWSU3",
        "outputId": "d5df43f7-369f-4599-9a62-9569f4fce46e"
      },
      "execution_count": 3,
      "outputs": [
        {
          "output_type": "execute_result",
          "data": {
            "text/plain": [
              "array([1, 2, 3, 4])"
            ]
          },
          "metadata": {},
          "execution_count": 3
        }
      ]
    },
    {
      "cell_type": "code",
      "execution_count": 4,
      "metadata": {
        "id": "ZcpppeHFK69o",
        "colab": {
          "base_uri": "https://localhost:8080/"
        },
        "outputId": "cfff6942-c0cf-4f74-9288-fc8728ca7b34"
      },
      "outputs": [
        {
          "output_type": "execute_result",
          "data": {
            "text/plain": [
              "array([[ 1. ,  3. ,  5. ],\n",
              "       [-2. , -4. , -6. ],\n",
              "       [ 0.2, -0.3,  0.6]])"
            ]
          },
          "metadata": {},
          "execution_count": 4
        }
      ],
      "source": [
        "M = np.array([[1,3,5], [-2,-4,-6], [0.2, -0.3, 0.6]])\n",
        "M"
      ]
    },
    {
      "cell_type": "code",
      "source": [
        ""
      ],
      "metadata": {
        "id": "Fpt0weAqWkNK"
      },
      "execution_count": null,
      "outputs": []
    },
    {
      "cell_type": "code",
      "source": [
        "x.shape"
      ],
      "metadata": {
        "colab": {
          "base_uri": "https://localhost:8080/"
        },
        "id": "NF0TiwZcWkE2",
        "outputId": "79b5b930-14fa-41c3-9a1d-f7a7595ba6c9"
      },
      "execution_count": 5,
      "outputs": [
        {
          "output_type": "execute_result",
          "data": {
            "text/plain": [
              "(1, 3)"
            ]
          },
          "metadata": {},
          "execution_count": 5
        }
      ]
    },
    {
      "cell_type": "code",
      "execution_count": 6,
      "metadata": {
        "id": "dHDWAjryK69o",
        "colab": {
          "base_uri": "https://localhost:8080/"
        },
        "outputId": "a8a8237e-ca50-4555-e1fd-ada3818a8b64"
      },
      "outputs": [
        {
          "output_type": "execute_result",
          "data": {
            "text/plain": [
              "(3, 3)"
            ]
          },
          "metadata": {},
          "execution_count": 6
        }
      ],
      "source": [
        "M.shape"
      ]
    },
    {
      "cell_type": "code",
      "execution_count": 7,
      "metadata": {
        "id": "4ZCamo1OK69p",
        "colab": {
          "base_uri": "https://localhost:8080/"
        },
        "outputId": "abb2d87e-6a92-4e4a-8679-2219e1156a24"
      },
      "outputs": [
        {
          "output_type": "execute_result",
          "data": {
            "text/plain": [
              "array([[0, 3, 6]])"
            ]
          },
          "metadata": {},
          "execution_count": 7
        }
      ],
      "source": [
        "z = np.array([[x for x in np.arange(0,9,3)]])\n",
        "z"
      ]
    },
    {
      "cell_type": "code",
      "source": [
        "z.shape"
      ],
      "metadata": {
        "colab": {
          "base_uri": "https://localhost:8080/"
        },
        "id": "Xd4ezUllWzDb",
        "outputId": "eac5b162-0f97-474c-bcd0-9ec1a917e65a"
      },
      "execution_count": 8,
      "outputs": [
        {
          "output_type": "execute_result",
          "data": {
            "text/plain": [
              "(1, 3)"
            ]
          },
          "metadata": {},
          "execution_count": 8
        }
      ]
    },
    {
      "cell_type": "code",
      "source": [
        "arr1.shape"
      ],
      "metadata": {
        "colab": {
          "base_uri": "https://localhost:8080/"
        },
        "id": "oRXJQXSKXhNv",
        "outputId": "cf6bc46e-d93c-48c7-8fab-a30feda36f3f"
      },
      "execution_count": 9,
      "outputs": [
        {
          "output_type": "execute_result",
          "data": {
            "text/plain": [
              "(4,)"
            ]
          },
          "metadata": {},
          "execution_count": 9
        }
      ]
    },
    {
      "cell_type": "code",
      "execution_count": 10,
      "metadata": {
        "id": "FcxLXjbwK69q",
        "colab": {
          "base_uri": "https://localhost:8080/"
        },
        "outputId": "3951fb98-5542-47f4-9493-6e2dca5c76df"
      },
      "outputs": [
        {
          "output_type": "execute_result",
          "data": {
            "text/plain": [
              "array([2.        , 2.33333333, 2.66666667, 3.        , 3.33333333,\n",
              "       3.66666667, 4.        , 4.33333333, 4.66666667, 5.        ])"
            ]
          },
          "metadata": {},
          "execution_count": 10
        }
      ],
      "source": [
        "w = np.linspace(2,5,10)\n",
        "w"
      ]
    },
    {
      "cell_type": "code",
      "source": [
        "len(x)"
      ],
      "metadata": {
        "colab": {
          "base_uri": "https://localhost:8080/"
        },
        "id": "LTwadAxkXUpU",
        "outputId": "2c9e6886-3a4b-44ce-9f8a-92063a4aec95"
      },
      "execution_count": 11,
      "outputs": [
        {
          "output_type": "execute_result",
          "data": {
            "text/plain": [
              "1"
            ]
          },
          "metadata": {},
          "execution_count": 11
        }
      ]
    },
    {
      "cell_type": "code",
      "execution_count": 12,
      "metadata": {
        "id": "v6zsHmVfK69q",
        "colab": {
          "base_uri": "https://localhost:8080/"
        },
        "outputId": "ce8c71f4-43f0-41b5-daec-609077108fc1"
      },
      "outputs": [
        {
          "output_type": "stream",
          "name": "stdout",
          "text": [
            "[[ 4 -5  3]]\n",
            "4\n",
            "-5\n",
            "3\n"
          ]
        }
      ],
      "source": [
        "print(x)\n",
        "\n",
        "for i in range(0,3):\n",
        "  print(x[0][i])"
      ]
    },
    {
      "cell_type": "code",
      "source": [
        "len(x[0]) #número de componentes del vector"
      ],
      "metadata": {
        "colab": {
          "base_uri": "https://localhost:8080/"
        },
        "id": "xJ2B0B7hke1X",
        "outputId": "5c91bad6-e3de-4270-ee70-18025cffd17e"
      },
      "execution_count": 13,
      "outputs": [
        {
          "output_type": "execute_result",
          "data": {
            "text/plain": [
              "3"
            ]
          },
          "metadata": {},
          "execution_count": 13
        }
      ]
    },
    {
      "cell_type": "code",
      "source": [
        "x[0][2]"
      ],
      "metadata": {
        "colab": {
          "base_uri": "https://localhost:8080/"
        },
        "id": "XWfZu7SSYV-j",
        "outputId": "9627f126-58c5-464c-ed07-55f0ceccfeb6"
      },
      "execution_count": 14,
      "outputs": [
        {
          "output_type": "execute_result",
          "data": {
            "text/plain": [
              "3"
            ]
          },
          "metadata": {},
          "execution_count": 14
        }
      ]
    },
    {
      "cell_type": "code",
      "execution_count": 15,
      "metadata": {
        "id": "25LAhNWtK69r",
        "colab": {
          "base_uri": "https://localhost:8080/"
        },
        "outputId": "e97798ef-30f3-44d2-ffce-b615bce40f36"
      },
      "outputs": [
        {
          "output_type": "execute_result",
          "data": {
            "text/plain": [
              "array([1., 3., 5.])"
            ]
          },
          "metadata": {},
          "execution_count": 15
        }
      ],
      "source": [
        "M[0]"
      ]
    },
    {
      "cell_type": "code",
      "execution_count": 16,
      "metadata": {
        "id": "tpcKjxbkK69s",
        "colab": {
          "base_uri": "https://localhost:8080/"
        },
        "outputId": "ed4815f7-ff42-4779-cd36-a0addecfd546"
      },
      "outputs": [
        {
          "output_type": "execute_result",
          "data": {
            "text/plain": [
              "array([-2., -4., -6.])"
            ]
          },
          "metadata": {},
          "execution_count": 16
        }
      ],
      "source": [
        "M[1]"
      ]
    },
    {
      "cell_type": "code",
      "execution_count": 18,
      "metadata": {
        "id": "-3ZZj0DRK69t",
        "colab": {
          "base_uri": "https://localhost:8080/"
        },
        "outputId": "d582dda7-00c9-4d98-8bb4-7f1ce88d5e9d"
      },
      "outputs": [
        {
          "output_type": "execute_result",
          "data": {
            "text/plain": [
              "-6.0"
            ]
          },
          "metadata": {},
          "execution_count": 18
        }
      ],
      "source": [
        "M[1,2]"
      ]
    },
    {
      "cell_type": "code",
      "source": [
        "M[1][2]"
      ],
      "metadata": {
        "colab": {
          "base_uri": "https://localhost:8080/"
        },
        "id": "UZYZB-UjpnIM",
        "outputId": "87fc0b2b-c7b5-41f7-e393-cce23f571fc2"
      },
      "execution_count": 19,
      "outputs": [
        {
          "output_type": "execute_result",
          "data": {
            "text/plain": [
              "-6.0"
            ]
          },
          "metadata": {},
          "execution_count": 19
        }
      ]
    },
    {
      "cell_type": "code",
      "execution_count": 20,
      "metadata": {
        "id": "l1pAf5ixK69t",
        "colab": {
          "base_uri": "https://localhost:8080/"
        },
        "outputId": "84e7fed7-1677-4e3a-939c-8d307cb0dad4"
      },
      "outputs": [
        {
          "output_type": "execute_result",
          "data": {
            "text/plain": [
              "array([ 0.2, -0.3,  0.6])"
            ]
          },
          "metadata": {},
          "execution_count": 20
        }
      ],
      "source": [
        "M[-1]"
      ]
    },
    {
      "cell_type": "code",
      "execution_count": 21,
      "metadata": {
        "id": "OXMbrJJZK69u",
        "colab": {
          "base_uri": "https://localhost:8080/"
        },
        "outputId": "5b883744-a6d2-408d-8889-846a5e1831d0"
      },
      "outputs": [
        {
          "output_type": "execute_result",
          "data": {
            "text/plain": [
              "array([[ 0.2, -0.3,  0.6],\n",
              "       [-2. , -4. , -6. ],\n",
              "       [ 1. ,  3. ,  5. ]])"
            ]
          },
          "metadata": {},
          "execution_count": 21
        }
      ],
      "source": [
        "M[::-1]"
      ]
    },
    {
      "cell_type": "code",
      "execution_count": 22,
      "metadata": {
        "id": "7bNidj2XK69w",
        "colab": {
          "base_uri": "https://localhost:8080/"
        },
        "outputId": "2b20d5b5-1db9-4d4a-88c5-2c917da76a30"
      },
      "outputs": [
        {
          "output_type": "execute_result",
          "data": {
            "text/plain": [
              "array([[0.        , 1.73205081, 2.44948974]])"
            ]
          },
          "metadata": {},
          "execution_count": 22
        }
      ],
      "source": [
        "np.sqrt(z)"
      ]
    },
    {
      "cell_type": "code",
      "execution_count": 23,
      "metadata": {
        "id": "HiTcJN-HK69w",
        "colab": {
          "base_uri": "https://localhost:8080/"
        },
        "outputId": "0c32ff4c-a4fd-4f77-968f-44b1a2fc5cb4"
      },
      "outputs": [
        {
          "output_type": "execute_result",
          "data": {
            "text/plain": [
              "array([[ True, False,  True]])"
            ]
          },
          "metadata": {},
          "execution_count": 23
        }
      ],
      "source": [
        "x>0"
      ]
    },
    {
      "cell_type": "code",
      "source": [
        "x"
      ],
      "metadata": {
        "colab": {
          "base_uri": "https://localhost:8080/"
        },
        "id": "I1282pwkZM1X",
        "outputId": "71dee5bb-b941-4e3e-f339-fc29e03bc0e0"
      },
      "execution_count": 24,
      "outputs": [
        {
          "output_type": "execute_result",
          "data": {
            "text/plain": [
              "array([[ 4, -5,  3]])"
            ]
          },
          "metadata": {},
          "execution_count": 24
        }
      ]
    },
    {
      "cell_type": "code",
      "source": [
        "M>0"
      ],
      "metadata": {
        "colab": {
          "base_uri": "https://localhost:8080/"
        },
        "id": "hJ7yejYdpyZc",
        "outputId": "3fc7888c-cbe7-46fd-ded1-3cca65383283"
      },
      "execution_count": 25,
      "outputs": [
        {
          "output_type": "execute_result",
          "data": {
            "text/plain": [
              "array([[ True,  True,  True],\n",
              "       [False, False, False],\n",
              "       [ True, False,  True]])"
            ]
          },
          "metadata": {},
          "execution_count": 25
        }
      ]
    },
    {
      "cell_type": "code",
      "execution_count": null,
      "metadata": {
        "id": "iVyEpvBmK69y"
      },
      "outputs": [],
      "source": [
        ""
      ]
    },
    {
      "cell_type": "markdown",
      "metadata": {
        "id": "5KbQpTNuK69y"
      },
      "source": [
        "# Funciones"
      ]
    },
    {
      "cell_type": "code",
      "execution_count": 26,
      "metadata": {
        "id": "E7ngT4gKK69z"
      },
      "outputs": [],
      "source": [
        "def suma(a,b):\n",
        "    return a+b"
      ]
    },
    {
      "cell_type": "markdown",
      "metadata": {
        "id": "NFdgDAjPK690"
      },
      "source": [
        "def suma(a,b): encabezado de la función (nombre y variables)"
      ]
    },
    {
      "cell_type": "code",
      "execution_count": 27,
      "metadata": {
        "id": "S8IWDKlDK690",
        "colab": {
          "base_uri": "https://localhost:8080/"
        },
        "outputId": "7f83d29e-443d-4249-f759-c882603385bb"
      },
      "outputs": [
        {
          "output_type": "execute_result",
          "data": {
            "text/plain": [
              "7"
            ]
          },
          "metadata": {},
          "execution_count": 27
        }
      ],
      "source": [
        "suma(1,6)"
      ]
    },
    {
      "cell_type": "code",
      "source": [
        "suma(1,6,7)"
      ],
      "metadata": {
        "colab": {
          "base_uri": "https://localhost:8080/",
          "height": 166
        },
        "id": "-uEQkxTvql26",
        "outputId": "8aee049e-36c7-4f79-c68c-d6974a0111f0"
      },
      "execution_count": 28,
      "outputs": [
        {
          "output_type": "error",
          "ename": "TypeError",
          "evalue": "ignored",
          "traceback": [
            "\u001b[0;31m---------------------------------------------------------------------------\u001b[0m",
            "\u001b[0;31mTypeError\u001b[0m                                 Traceback (most recent call last)",
            "\u001b[0;32m<ipython-input-28-49b0af3c0a7b>\u001b[0m in \u001b[0;36m<module>\u001b[0;34m()\u001b[0m\n\u001b[0;32m----> 1\u001b[0;31m \u001b[0msuma\u001b[0m\u001b[0;34m(\u001b[0m\u001b[0;36m1\u001b[0m\u001b[0;34m,\u001b[0m\u001b[0;36m6\u001b[0m\u001b[0;34m,\u001b[0m\u001b[0;36m7\u001b[0m\u001b[0;34m)\u001b[0m\u001b[0;34m\u001b[0m\u001b[0;34m\u001b[0m\u001b[0m\n\u001b[0m",
            "\u001b[0;31mTypeError\u001b[0m: suma() takes 2 positional arguments but 3 were given"
          ]
        }
      ]
    },
    {
      "cell_type": "code",
      "execution_count": 29,
      "metadata": {
        "id": "8kGsB6YVK691"
      },
      "outputs": [],
      "source": [
        "def cuadsuma(x,y):\n",
        "    return pow(x,2)+pow(y,2)"
      ]
    },
    {
      "cell_type": "code",
      "execution_count": 30,
      "metadata": {
        "id": "vC2RHs8gK691",
        "colab": {
          "base_uri": "https://localhost:8080/"
        },
        "outputId": "f2107bbb-c268-4893-c4a3-366d26db87c6"
      },
      "outputs": [
        {
          "output_type": "execute_result",
          "data": {
            "text/plain": [
              "13"
            ]
          },
          "metadata": {},
          "execution_count": 30
        }
      ],
      "source": [
        "cuadsuma(2,3)"
      ]
    },
    {
      "cell_type": "code",
      "execution_count": 31,
      "metadata": {
        "id": "CIv8u-kTK692"
      },
      "outputs": [],
      "source": [
        "def parimp(x):\n",
        "    if x%2 == 0:\n",
        "        return \"es par\"\n",
        "    else:\n",
        "        return \"es impar\""
      ]
    },
    {
      "cell_type": "code",
      "execution_count": 32,
      "metadata": {
        "id": "94kXa7rSK693",
        "colab": {
          "base_uri": "https://localhost:8080/",
          "height": 35
        },
        "outputId": "5e6fbbcb-bdae-40e0-af7d-c1965b7f6624"
      },
      "outputs": [
        {
          "output_type": "execute_result",
          "data": {
            "application/vnd.google.colaboratory.intrinsic+json": {
              "type": "string"
            },
            "text/plain": [
              "'es par'"
            ]
          },
          "metadata": {},
          "execution_count": 32
        }
      ],
      "source": [
        "parimp(2)"
      ]
    },
    {
      "cell_type": "code",
      "execution_count": 33,
      "metadata": {
        "id": "H_NP_FU3K694",
        "colab": {
          "base_uri": "https://localhost:8080/",
          "height": 35
        },
        "outputId": "10bd6546-1998-4898-d59a-583da404fb94"
      },
      "outputs": [
        {
          "output_type": "execute_result",
          "data": {
            "application/vnd.google.colaboratory.intrinsic+json": {
              "type": "string"
            },
            "text/plain": [
              "'es impar'"
            ]
          },
          "metadata": {},
          "execution_count": 33
        }
      ],
      "source": [
        "parimp(7787)"
      ]
    },
    {
      "cell_type": "code",
      "execution_count": 34,
      "metadata": {
        "id": "a_5z-zp4K6-I"
      },
      "outputs": [],
      "source": [
        "horas_trabajo = [(\"Andrea\",1000), (\"Andrés\",4000), (\"Carla\",3500)]"
      ]
    },
    {
      "cell_type": "code",
      "execution_count": 35,
      "metadata": {
        "id": "FHpt3acSK6-J"
      },
      "outputs": [],
      "source": [
        "def empleados_horas(horas_trabajo):\n",
        "    \n",
        "    maximo = 0\n",
        "    mejor_emp = ''\n",
        "    \n",
        "    for empleado,horas in horas_trabajo:\n",
        "        if horas > maximo:\n",
        "            maximo = horas\n",
        "            mejor_emp = empleado\n",
        "        else:\n",
        "                pass\n",
        "    \n",
        "    return (mejor_emp,maximo)"
      ]
    },
    {
      "cell_type": "code",
      "execution_count": 36,
      "metadata": {
        "id": "4KRAZ2vcK6-K",
        "colab": {
          "base_uri": "https://localhost:8080/"
        },
        "outputId": "b40ea4f6-d89e-44c3-b5de-d8b1cdaccde6"
      },
      "outputs": [
        {
          "output_type": "execute_result",
          "data": {
            "text/plain": [
              "('Andrés', 4000)"
            ]
          },
          "metadata": {},
          "execution_count": 36
        }
      ],
      "source": [
        "empleados_horas(horas_trabajo)"
      ]
    },
    {
      "cell_type": "markdown",
      "metadata": {
        "id": "71pqhn0WK6-K"
      },
      "source": [
        "Expresiones lambda:"
      ]
    },
    {
      "cell_type": "code",
      "execution_count": 37,
      "metadata": {
        "id": "B72JnKNcK6-L"
      },
      "outputs": [],
      "source": [
        "def cuadrado(n):\n",
        "    return pow(n,2)"
      ]
    },
    {
      "cell_type": "code",
      "execution_count": 38,
      "metadata": {
        "id": "SERL_kS4K6-M",
        "colab": {
          "base_uri": "https://localhost:8080/"
        },
        "outputId": "a13e292d-0e93-4780-e229-d56b7e6912c3"
      },
      "outputs": [
        {
          "output_type": "execute_result",
          "data": {
            "text/plain": [
              "16"
            ]
          },
          "metadata": {},
          "execution_count": 38
        }
      ],
      "source": [
        "cuadrado(4)"
      ]
    },
    {
      "cell_type": "code",
      "execution_count": 39,
      "metadata": {
        "id": "Snt7yqVVK6-N"
      },
      "outputs": [],
      "source": [
        "cuadrado1 = lambda n: pow(n,2)"
      ]
    },
    {
      "cell_type": "code",
      "execution_count": 40,
      "metadata": {
        "id": "MdA4ZRyJK6-N",
        "colab": {
          "base_uri": "https://localhost:8080/"
        },
        "outputId": "a07ebd9a-180b-48b5-b74e-67b96b0b255b"
      },
      "outputs": [
        {
          "output_type": "execute_result",
          "data": {
            "text/plain": [
              "16"
            ]
          },
          "metadata": {},
          "execution_count": 40
        }
      ],
      "source": [
        "cuadrado1(4)"
      ]
    },
    {
      "cell_type": "markdown",
      "source": [
        "#Ejercicio: \n",
        "\n",
        "1. Escribir una función que regrese el determinante de una matriz 2x2 y que diga si tal matriz es invertible o no."
      ],
      "metadata": {
        "id": "7G28QiWNAXXQ"
      }
    },
    {
      "cell_type": "code",
      "source": [
        "def det_mat(M):\n",
        "\n",
        "  det = M[0][0]*M[1][1]-M[1][0]*M[0][1]\n",
        "\n",
        "  if det != 0:\n",
        "    print(\"Es invertible. Determinante = \", det)\n",
        "  else:\n",
        "    print(\"No es invertible. Determinante = \",det)"
      ],
      "metadata": {
        "id": "XJP5cCWmkRjg"
      },
      "execution_count": 41,
      "outputs": []
    },
    {
      "cell_type": "code",
      "source": [
        "M1 = np.array([[1, 3], [5, -3]])\n",
        "M1"
      ],
      "metadata": {
        "colab": {
          "base_uri": "https://localhost:8080/"
        },
        "id": "W5kAl0sulUpH",
        "outputId": "04b0134b-e3d8-485d-b01b-fe098985bd98"
      },
      "execution_count": 42,
      "outputs": [
        {
          "output_type": "execute_result",
          "data": {
            "text/plain": [
              "array([[ 1,  3],\n",
              "       [ 5, -3]])"
            ]
          },
          "metadata": {},
          "execution_count": 42
        }
      ]
    },
    {
      "cell_type": "code",
      "source": [
        "det_mat(M1)"
      ],
      "metadata": {
        "colab": {
          "base_uri": "https://localhost:8080/"
        },
        "id": "3ElKR3ptlefl",
        "outputId": "cf7ea682-8077-4d54-b556-d4b440b09cc9"
      },
      "execution_count": 43,
      "outputs": [
        {
          "output_type": "stream",
          "name": "stdout",
          "text": [
            "Es invertible. Determinante =  -18\n"
          ]
        }
      ]
    },
    {
      "cell_type": "code",
      "source": [
        "M2 = np.array([[1,1], [1,1]])\n",
        "M2"
      ],
      "metadata": {
        "colab": {
          "base_uri": "https://localhost:8080/"
        },
        "id": "FEvcXoS_lixV",
        "outputId": "01a1f721-146f-46aa-cffb-0c026aa5b5e9"
      },
      "execution_count": 44,
      "outputs": [
        {
          "output_type": "execute_result",
          "data": {
            "text/plain": [
              "array([[1, 1],\n",
              "       [1, 1]])"
            ]
          },
          "metadata": {},
          "execution_count": 44
        }
      ]
    },
    {
      "cell_type": "code",
      "source": [
        "det_mat(M2)"
      ],
      "metadata": {
        "id": "nFTcHO2llpwn",
        "outputId": "64287442-a3df-400c-f64d-1f0c407910c8",
        "colab": {
          "base_uri": "https://localhost:8080/"
        }
      },
      "execution_count": 45,
      "outputs": [
        {
          "output_type": "stream",
          "name": "stdout",
          "text": [
            "No es invertible. Determinante =  0\n"
          ]
        }
      ]
    },
    {
      "cell_type": "markdown",
      "source": [
        ""
      ],
      "metadata": {
        "id": "vgU1W0a6MaZ7"
      }
    },
    {
      "cell_type": "markdown",
      "source": [
        "#Objetos"
      ],
      "metadata": {
        "id": "DTruSLqlEUmz"
      }
    },
    {
      "cell_type": "markdown",
      "source": [
        "Clases\n",
        "\n",
        "Agrupamiento de datos y funciones"
      ],
      "metadata": {
        "id": "r5OxwZ2dEbDM"
      }
    },
    {
      "cell_type": "code",
      "source": [
        "class Car():\n",
        "     \n",
        "    # atributos clase\n",
        "    def __init__(self, model, color):\n",
        "        self.model = model\n",
        "        self.color = color\n",
        "\n",
        "    #método o función\n",
        "         \n",
        "    def show(self):\n",
        "        print(\"Model is\", self.model )\n",
        "        print(\"color is\", self.color )\n",
        "         \n",
        "# creación objetos\n",
        "audi = Car(\"audi a4\", \"blue\")\n",
        "ferrari = Car(\"ferrari 488\", \"green\")\n",
        " \n",
        "audi.show()     \n",
        "ferrari.show()"
      ],
      "metadata": {
        "colab": {
          "base_uri": "https://localhost:8080/"
        },
        "id": "ZA6FdZZrGZE7",
        "outputId": "f6a4201d-0bf2-487e-95b8-5bd3836020e1"
      },
      "execution_count": 46,
      "outputs": [
        {
          "output_type": "stream",
          "name": "stdout",
          "text": [
            "Model is audi a4\n",
            "color is blue\n",
            "Model is ferrari 488\n",
            "color is green\n"
          ]
        }
      ]
    },
    {
      "cell_type": "code",
      "source": [
        "Car.show(ferrari)"
      ],
      "metadata": {
        "colab": {
          "base_uri": "https://localhost:8080/"
        },
        "id": "WqRdXlMdG0nC",
        "outputId": "0bf2a44f-01ae-453d-addb-25e1dec5fd39"
      },
      "execution_count": 47,
      "outputs": [
        {
          "output_type": "stream",
          "name": "stdout",
          "text": [
            "Model is ferrari 488\n",
            "color is green\n"
          ]
        }
      ]
    },
    {
      "cell_type": "markdown",
      "source": [
        "Fuente: https://www.geeksforgeeks.org/self-in-python-class/"
      ],
      "metadata": {
        "id": "EZF4dk54Gfr8"
      }
    },
    {
      "cell_type": "code",
      "source": [
        "class Student():\n",
        "    \n",
        "    def __init__(self, sid, name, gender):\n",
        "        self.sid = sid\n",
        "        self.name = name\n",
        "        self.gender = gender\n",
        "        self.type = 'learning' #valor fijo\n",
        "        \n",
        "    def say_name(self):\n",
        "        print(\"My name is \" + self.name)\n",
        "        \n",
        "    def report(self, score):\n",
        "        self.say_name()\n",
        "        print(\"My id is: \" + self.sid)\n",
        "        print(\"My score is: \" + str(score))"
      ],
      "metadata": {
        "id": "npQkjdTNETvm"
      },
      "execution_count": 48,
      "outputs": []
    },
    {
      "cell_type": "code",
      "source": [
        "student1 = Student(\"001\", \"Susan\", \"F\")\n",
        "student2 = Student(\"002\", \"Mike\", \"M\")\n",
        "\n",
        "student1.say_name()\n",
        "student2.say_name()\n",
        "print(student1.type)\n",
        "print(student1.gender)"
      ],
      "metadata": {
        "colab": {
          "base_uri": "https://localhost:8080/"
        },
        "id": "CCkM2XqKHD4z",
        "outputId": "be5c6954-e96e-4f72-92c4-d82fea898323"
      },
      "execution_count": 49,
      "outputs": [
        {
          "output_type": "stream",
          "name": "stdout",
          "text": [
            "My name is Susan\n",
            "My name is Mike\n",
            "learning\n",
            "F\n"
          ]
        }
      ]
    },
    {
      "cell_type": "code",
      "source": [
        "student1.report(95)\n",
        "student2.report(90)"
      ],
      "metadata": {
        "colab": {
          "base_uri": "https://localhost:8080/"
        },
        "id": "n5bRabqnHE1Q",
        "outputId": "be6e2ff7-f3ee-43ca-a511-bfb86e4713a1"
      },
      "execution_count": 51,
      "outputs": [
        {
          "output_type": "stream",
          "name": "stdout",
          "text": [
            "My name is Susan\n",
            "My id is: 001\n",
            "My score is: 95\n",
            "My name is Mike\n",
            "My id is: 002\n",
            "My score is: 90\n"
          ]
        }
      ]
    },
    {
      "cell_type": "code",
      "source": [
        "student1"
      ],
      "metadata": {
        "colab": {
          "base_uri": "https://localhost:8080/"
        },
        "id": "KBd9N5L8Hspe",
        "outputId": "5bfc71bc-3772-4ab9-8cf7-c385988b0bbe"
      },
      "execution_count": 52,
      "outputs": [
        {
          "output_type": "execute_result",
          "data": {
            "text/plain": [
              "<__main__.Student at 0x7f82dc299fd0>"
            ]
          },
          "metadata": {},
          "execution_count": 52
        }
      ]
    },
    {
      "cell_type": "code",
      "source": [
        "import math"
      ],
      "metadata": {
        "id": "YgLwQmrbLFaf"
      },
      "execution_count": 53,
      "outputs": []
    },
    {
      "cell_type": "code",
      "source": [
        "class Circulo():\n",
        "    \n",
        "    def __init__(self,radio=1):\n",
        "        \n",
        "        self.radio = radio\n",
        "        self.area = pow(self.radio,2)*math.pi\n",
        "        \n",
        "    def circunf(self):\n",
        "        \n",
        "        return 2*math.pi*self.radio"
      ],
      "metadata": {
        "id": "m-whaqQyKKxq"
      },
      "execution_count": 54,
      "outputs": []
    },
    {
      "cell_type": "code",
      "source": [
        "Circulo(10)"
      ],
      "metadata": {
        "colab": {
          "base_uri": "https://localhost:8080/"
        },
        "id": "htUrh5AvK4hP",
        "outputId": "a8b0af3a-0576-45ba-e729-35c6e2bad79d"
      },
      "execution_count": 55,
      "outputs": [
        {
          "output_type": "execute_result",
          "data": {
            "text/plain": [
              "<__main__.Circulo at 0x7f82dc202f10>"
            ]
          },
          "metadata": {},
          "execution_count": 55
        }
      ]
    },
    {
      "cell_type": "code",
      "source": [
        "Circulo(10).area"
      ],
      "metadata": {
        "colab": {
          "base_uri": "https://localhost:8080/"
        },
        "id": "r5__jI1CLMBK",
        "outputId": "2246b32c-63da-4363-ff7f-fbcdef605a12"
      },
      "execution_count": 56,
      "outputs": [
        {
          "output_type": "execute_result",
          "data": {
            "text/plain": [
              "314.1592653589793"
            ]
          },
          "metadata": {},
          "execution_count": 56
        }
      ]
    },
    {
      "cell_type": "code",
      "source": [
        "Circulo(10).radio"
      ],
      "metadata": {
        "colab": {
          "base_uri": "https://localhost:8080/"
        },
        "id": "Kr4IOO20tjjw",
        "outputId": "3f92ef78-afbf-4700-f71d-8fb3920ace6b"
      },
      "execution_count": 57,
      "outputs": [
        {
          "output_type": "execute_result",
          "data": {
            "text/plain": [
              "10"
            ]
          },
          "metadata": {},
          "execution_count": 57
        }
      ]
    },
    {
      "cell_type": "code",
      "source": [
        "math.pi*pow(10,2)"
      ],
      "metadata": {
        "colab": {
          "base_uri": "https://localhost:8080/"
        },
        "id": "NFQJ9oB6LUfJ",
        "outputId": "9f7ce10d-71cd-4fa0-ab8a-d01e0707e9b0"
      },
      "execution_count": 58,
      "outputs": [
        {
          "output_type": "execute_result",
          "data": {
            "text/plain": [
              "314.1592653589793"
            ]
          },
          "metadata": {},
          "execution_count": 58
        }
      ]
    },
    {
      "cell_type": "code",
      "source": [
        "Circulo(10).circunf()"
      ],
      "metadata": {
        "colab": {
          "base_uri": "https://localhost:8080/"
        },
        "id": "4m3uIyBBLUXf",
        "outputId": "fa5ae6cf-841e-4355-ec28-d6afee8aa8e1"
      },
      "execution_count": 59,
      "outputs": [
        {
          "output_type": "execute_result",
          "data": {
            "text/plain": [
              "62.83185307179586"
            ]
          },
          "metadata": {},
          "execution_count": 59
        }
      ]
    },
    {
      "cell_type": "code",
      "source": [
        "2*math.pi*10"
      ],
      "metadata": {
        "colab": {
          "base_uri": "https://localhost:8080/"
        },
        "id": "jlsjm4X4LUGu",
        "outputId": "8c2c31fe-d641-49d4-f9c6-b3357ddd82da"
      },
      "execution_count": 60,
      "outputs": [
        {
          "output_type": "execute_result",
          "data": {
            "text/plain": [
              "62.83185307179586"
            ]
          },
          "metadata": {},
          "execution_count": 60
        }
      ]
    },
    {
      "cell_type": "code",
      "source": [
        ""
      ],
      "metadata": {
        "id": "XXuLf2sAOfBQ"
      },
      "execution_count": null,
      "outputs": []
    },
    {
      "cell_type": "markdown",
      "source": [
        "Herencia:"
      ],
      "metadata": {
        "id": "ck_AXahCR3MY"
      }
    },
    {
      "cell_type": "code",
      "source": [
        "class Sensor():\n",
        "    def __init__(self, name, location, record_date):\n",
        "        self.name = name\n",
        "        self.location = location\n",
        "        self.record_date = record_date\n",
        "        self.data = {}\n",
        "        \n",
        "    def add_data(self, t, data):\n",
        "        self.data['time'] = t\n",
        "        self.data['data'] = data\n",
        "        print(f'We have {len(data)} points saved')        \n",
        "        \n",
        "    def clear_data(self):\n",
        "        self.data = {}\n",
        "        print('Data cleared!')"
      ],
      "metadata": {
        "id": "Sc0l1VwaREVZ"
      },
      "execution_count": 61,
      "outputs": []
    },
    {
      "cell_type": "code",
      "source": [
        "import numpy as np\n",
        "\n",
        "sensor1 = Sensor('sensor1', 'Berkeley', '2019-01-01')\n",
        "data = np.random.randint(-10, 10, 10)\n",
        "sensor1.add_data(np.arange(10), data)\n",
        "sensor1.data"
      ],
      "metadata": {
        "colab": {
          "base_uri": "https://localhost:8080/"
        },
        "id": "014hT2eRREP5",
        "outputId": "ec2e5956-d373-4a79-db41-c5b513d6e421"
      },
      "execution_count": 62,
      "outputs": [
        {
          "output_type": "stream",
          "name": "stdout",
          "text": [
            "We have 10 points saved\n"
          ]
        },
        {
          "output_type": "execute_result",
          "data": {
            "text/plain": [
              "{'data': array([ -1,   4, -10,  -3,  -7,  -6,   8,  -7,  -5,   5]),\n",
              " 'time': array([0, 1, 2, 3, 4, 5, 6, 7, 8, 9])}"
            ]
          },
          "metadata": {},
          "execution_count": 62
        }
      ]
    },
    {
      "cell_type": "code",
      "source": [
        "class Accelerometer(Sensor):\n",
        "    \n",
        "    def show_type(self):\n",
        "        print('I am an accelerometer!')\n",
        "        \n",
        "acc = Accelerometer('acc1', 'Oakland', '2019-02-01')\n",
        "acc.show_type()\n",
        "data = np.random.randint(-10, 10, 10)\n",
        "acc.add_data(np.arange(10), data)\n",
        "acc.data"
      ],
      "metadata": {
        "colab": {
          "base_uri": "https://localhost:8080/"
        },
        "id": "1Q7Ds0uROC6U",
        "outputId": "20039658-b189-4d27-c8c9-5e5df0265ef7"
      },
      "execution_count": 63,
      "outputs": [
        {
          "output_type": "stream",
          "name": "stdout",
          "text": [
            "I am an accelerometer!\n",
            "We have 10 points saved\n"
          ]
        },
        {
          "output_type": "execute_result",
          "data": {
            "text/plain": [
              "{'data': array([-8, -8,  3,  8,  0,  1,  5,  8, -3, -2]),\n",
              " 'time': array([0, 1, 2, 3, 4, 5, 6, 7, 8, 9])}"
            ]
          },
          "metadata": {},
          "execution_count": 63
        }
      ]
    },
    {
      "cell_type": "markdown",
      "source": [
        "Encapsulamiento:"
      ],
      "metadata": {
        "id": "iZNgJDm_S32H"
      }
    },
    {
      "cell_type": "code",
      "source": [
        "class Sensor():\n",
        "    def __init__(self, name, location):\n",
        "        self.name = name\n",
        "        self._location = location\n",
        "        self.__version = '1.0'\n",
        "    \n",
        "    # a getter function\n",
        "    def get_version(self):\n",
        "        print(f'The sensor version is {self.__version}')\n",
        "    \n",
        "    # a setter function\n",
        "    def set_version(self, version):\n",
        "        self.__version = version"
      ],
      "metadata": {
        "id": "_JENcKdCS3Jx"
      },
      "execution_count": 64,
      "outputs": []
    },
    {
      "cell_type": "code",
      "source": [
        "sensor1 = Sensor('Acc', 'Berkeley')\n",
        "print(sensor1.name)\n",
        "print(sensor1._location)\n",
        "print(sensor1.__version)"
      ],
      "metadata": {
        "colab": {
          "base_uri": "https://localhost:8080/",
          "height": 235
        },
        "id": "KYoDWJfFS3Gu",
        "outputId": "8de95f14-e6d2-4be1-d48d-3172a253c453"
      },
      "execution_count": 65,
      "outputs": [
        {
          "output_type": "stream",
          "name": "stdout",
          "text": [
            "Acc\n",
            "Berkeley\n"
          ]
        },
        {
          "output_type": "error",
          "ename": "AttributeError",
          "evalue": "ignored",
          "traceback": [
            "\u001b[0;31m---------------------------------------------------------------------------\u001b[0m",
            "\u001b[0;31mAttributeError\u001b[0m                            Traceback (most recent call last)",
            "\u001b[0;32m<ipython-input-65-ca9b481690ba>\u001b[0m in \u001b[0;36m<module>\u001b[0;34m()\u001b[0m\n\u001b[1;32m      2\u001b[0m \u001b[0mprint\u001b[0m\u001b[0;34m(\u001b[0m\u001b[0msensor1\u001b[0m\u001b[0;34m.\u001b[0m\u001b[0mname\u001b[0m\u001b[0;34m)\u001b[0m\u001b[0;34m\u001b[0m\u001b[0;34m\u001b[0m\u001b[0m\n\u001b[1;32m      3\u001b[0m \u001b[0mprint\u001b[0m\u001b[0;34m(\u001b[0m\u001b[0msensor1\u001b[0m\u001b[0;34m.\u001b[0m\u001b[0m_location\u001b[0m\u001b[0;34m)\u001b[0m\u001b[0;34m\u001b[0m\u001b[0;34m\u001b[0m\u001b[0m\n\u001b[0;32m----> 4\u001b[0;31m \u001b[0mprint\u001b[0m\u001b[0;34m(\u001b[0m\u001b[0msensor1\u001b[0m\u001b[0;34m.\u001b[0m\u001b[0m__version\u001b[0m\u001b[0;34m)\u001b[0m\u001b[0;34m\u001b[0m\u001b[0;34m\u001b[0m\u001b[0m\n\u001b[0m",
            "\u001b[0;31mAttributeError\u001b[0m: 'Sensor' object has no attribute '__version'"
          ]
        }
      ]
    },
    {
      "cell_type": "code",
      "source": [
        "sensor1.get_version()"
      ],
      "metadata": {
        "colab": {
          "base_uri": "https://localhost:8080/"
        },
        "id": "yTMjbaevTBs3",
        "outputId": "605d768c-6b4c-41c6-85f8-5849a3691ac1"
      },
      "execution_count": 66,
      "outputs": [
        {
          "output_type": "stream",
          "name": "stdout",
          "text": [
            "The sensor version is 1.0\n"
          ]
        }
      ]
    },
    {
      "cell_type": "code",
      "source": [
        ""
      ],
      "metadata": {
        "id": "n9Y3PLLnS3D_"
      },
      "execution_count": null,
      "outputs": []
    },
    {
      "cell_type": "markdown",
      "source": [
        "# Gráficas"
      ],
      "metadata": {
        "id": "7_6AYH_zMbOC"
      }
    },
    {
      "cell_type": "code",
      "source": [
        "%matplotlib inline"
      ],
      "metadata": {
        "id": "KkVeHIxUMewW"
      },
      "execution_count": 67,
      "outputs": []
    },
    {
      "cell_type": "code",
      "source": [
        "import matplotlib as mpl\n",
        "import matplotlib.pyplot as plt"
      ],
      "metadata": {
        "id": "2l-YE-GMMhMV"
      },
      "execution_count": 68,
      "outputs": []
    },
    {
      "cell_type": "code",
      "source": [
        "plt.plot(3, 2)"
      ],
      "metadata": {
        "id": "S1RWWPkSMmpo",
        "outputId": "13f559c0-a9f8-4c77-e4cf-866d9b563cfc",
        "colab": {
          "base_uri": "https://localhost:8080/",
          "height": 282
        }
      },
      "execution_count": 69,
      "outputs": [
        {
          "output_type": "execute_result",
          "data": {
            "text/plain": [
              "[<matplotlib.lines.Line2D at 0x7f82dc0f54d0>]"
            ]
          },
          "metadata": {},
          "execution_count": 69
        },
        {
          "output_type": "display_data",
          "data": {
            "image/png": "[encoded data removed]",
            "text/plain": [
              "<Figure size 432x288 with 1 Axes>"
            ]
          },
          "metadata": {
            "needs_background": "light"
          }
        }
      ]
    },
    {
      "cell_type": "code",
      "source": [
        "plt.plot(3, 2, '.');"
      ],
      "metadata": {
        "id": "lOfA-vPyMqmE",
        "outputId": "fc6ed43c-4fa2-4ec2-9956-cab657e0052d",
        "colab": {
          "base_uri": "https://localhost:8080/",
          "height": 265
        }
      },
      "execution_count": 70,
      "outputs": [
        {
          "output_type": "display_data",
          "data": {
            "image/png": "[encoded data removed]",
            "text/plain": [
              "<Figure size 432x288 with 1 Axes>"
            ]
          },
          "metadata": {
            "needs_background": "light"
          }
        }
      ]
    },
    {
      "cell_type": "code",
      "source": [
        "plt.figure()\n",
        "\n",
        "plt.plot(3, 2, 'o');\n",
        "\n",
        "ax = plt.gca()\n",
        "\n",
        "ax.axis([0,6,0,10])"
      ],
      "metadata": {
        "id": "DU0bmWyRMtD0",
        "outputId": "5b752efd-7e9c-4326-ad4e-22769fced1fa",
        "colab": {
          "base_uri": "https://localhost:8080/",
          "height": 286
        }
      },
      "execution_count": 71,
      "outputs": [
        {
          "output_type": "execute_result",
          "data": {
            "text/plain": [
              "(0.0, 6.0, 0.0, 10.0)"
            ]
          },
          "metadata": {},
          "execution_count": 71
        },
        {
          "output_type": "display_data",
          "data": {
            "image/png": "[encoded data removed]",
            "text/plain": [
              "<Figure size 432x288 with 1 Axes>"
            ]
          },
          "metadata": {
            "needs_background": "light"
          }
        }
      ]
    },
    {
      "cell_type": "code",
      "source": [
        "# nueva figura\n",
        "plt.figure()\n",
        "\n",
        "# puntos usando círculos\n",
        "plt.plot(1.5, 1.5, 'o');\n",
        "\n",
        "plt.plot(2, 2, 'o');\n",
        "\n",
        "plt.plot(2.5, 2.5, 'o');"
      ],
      "metadata": {
        "id": "EWZw8hBwM2y2",
        "outputId": "2c4ce32f-6a7e-498d-cc35-4a2a490bac4b",
        "colab": {
          "base_uri": "https://localhost:8080/",
          "height": 265
        }
      },
      "execution_count": 72,
      "outputs": [
        {
          "output_type": "display_data",
          "data": {
            "image/png": "[encoded data removed]",
            "text/plain": [
              "<Figure size 432x288 with 1 Axes>"
            ]
          },
          "metadata": {
            "needs_background": "light"
          }
        }
      ]
    },
    {
      "cell_type": "code",
      "source": [
        "plt.plot?"
      ],
      "metadata": {
        "id": "5GSugvq1R4Nk"
      },
      "execution_count": 73,
      "outputs": []
    },
    {
      "cell_type": "code",
      "source": [
        ""
      ],
      "metadata": {
        "id": "PFmsMyijSr6Z"
      },
      "execution_count": null,
      "outputs": []
    },
    {
      "cell_type": "code",
      "source": [
        "#import numpy as np"
      ],
      "metadata": {
        "id": "7M45h7YnNYFW"
      },
      "execution_count": null,
      "outputs": []
    },
    {
      "cell_type": "code",
      "source": [
        "np.sin(0)"
      ],
      "metadata": {
        "id": "V3jmsrnZNfxR",
        "outputId": "5d0c246b-a2ce-4aab-b6c1-09454d71a17d",
        "colab": {
          "base_uri": "https://localhost:8080/"
        }
      },
      "execution_count": 74,
      "outputs": [
        {
          "output_type": "execute_result",
          "data": {
            "text/plain": [
              "0.0"
            ]
          },
          "metadata": {},
          "execution_count": 74
        }
      ]
    },
    {
      "cell_type": "code",
      "source": [
        "x = np.linspace(0, 10, 100)\n",
        "\n",
        "plt.plot(x, np.sin(x))\n",
        "plt.plot(x, np.cos(x))\n",
        "\n",
        "plt.show()"
      ],
      "metadata": {
        "id": "ggETK4KNNic_",
        "outputId": "ace12f4e-4089-41d2-ca31-7bae605458c4",
        "colab": {
          "base_uri": "https://localhost:8080/",
          "height": 265
        }
      },
      "execution_count": 75,
      "outputs": [
        {
          "output_type": "display_data",
          "data": {
            "image/png": "[encoded data removed]",
            "text/plain": [
              "<Figure size 432x288 with 1 Axes>"
            ]
          },
          "metadata": {
            "needs_background": "light"
          }
        }
      ]
    },
    {
      "cell_type": "markdown",
      "source": [
        "Scatterplots/dispersiones"
      ],
      "metadata": {
        "id": "cOfw35KNTDTo"
      }
    },
    {
      "cell_type": "code",
      "source": [
        "x = np.array([1,2,3,4,5,6,7,8])\n",
        "y = x\n",
        "\n",
        "plt.figure()\n",
        "plt.scatter(x, y) #s=100, c='red' (opciones estéticas)"
      ],
      "metadata": {
        "id": "m0j0wgGLTGEB",
        "outputId": "7efb4882-dae0-4e80-bac0-2992b0fdd7fd",
        "colab": {
          "base_uri": "https://localhost:8080/",
          "height": 282
        }
      },
      "execution_count": 78,
      "outputs": [
        {
          "output_type": "execute_result",
          "data": {
            "text/plain": [
              "<matplotlib.collections.PathCollection at 0x7f82db8f3b50>"
            ]
          },
          "metadata": {},
          "execution_count": 78
        },
        {
          "output_type": "display_data",
          "data": {
            "image/png": "[encoded data removed]",
            "text/plain": [
              "<Figure size 432x288 with 1 Axes>"
            ]
          },
          "metadata": {
            "needs_background": "light"
          }
        }
      ]
    },
    {
      "cell_type": "code",
      "source": [
        "plt.figure()\n",
        "\n",
        "plt.xlabel('N° estudiantes')\n",
        "\n",
        "plt.ylabel('Nota')\n",
        "\n",
        "\n",
        "plt.scatter(x[4:], y[4:], s=100, c='red') \n",
        "plt.scatter(x[:4], y[:4], s=100, c='blue')"
      ],
      "metadata": {
        "id": "1wrmNCj1TlIB",
        "colab": {
          "base_uri": "https://localhost:8080/",
          "height": 296
        },
        "outputId": "0d6989aa-45b5-4b2c-d346-0da1a9ce6acd"
      },
      "execution_count": 79,
      "outputs": [
        {
          "output_type": "execute_result",
          "data": {
            "text/plain": [
              "<matplotlib.collections.PathCollection at 0x7f82db852c50>"
            ]
          },
          "metadata": {},
          "execution_count": 79
        },
        {
          "output_type": "display_data",
          "data": {
            "image/png": "[encoded data removed]",
            "text/plain": [
              "<Figure size 432x288 with 1 Axes>"
            ]
          },
          "metadata": {
            "needs_background": "light"
          }
        }
      ]
    },
    {
      "cell_type": "code",
      "source": [
        ""
      ],
      "metadata": {
        "id": "9GSGMtMzW60p"
      },
      "execution_count": null,
      "outputs": []
    },
    {
      "cell_type": "markdown",
      "source": [
        "#Line Plots"
      ],
      "metadata": {
        "id": "NQmRhTOAXNQ6"
      }
    },
    {
      "cell_type": "code",
      "source": [
        "lineald = np.array([1,2,3,4,5,6,7,8])\n",
        "cuad = lineald**2\n",
        "\n",
        "plt.figure()\n",
        "\n",
        "plt.plot(lineald, '-o', cuad, '-o')"
      ],
      "metadata": {
        "colab": {
          "base_uri": "https://localhost:8080/",
          "height": 300
        },
        "id": "IwZ7cq54XQyI",
        "outputId": "0f4c9615-9735-408c-bdbc-895ae5edc8f8"
      },
      "execution_count": 80,
      "outputs": [
        {
          "output_type": "execute_result",
          "data": {
            "text/plain": [
              "[<matplotlib.lines.Line2D at 0x7f82db7b9ed0>,\n",
              " <matplotlib.lines.Line2D at 0x7f82db852f90>]"
            ]
          },
          "metadata": {},
          "execution_count": 80
        },
        {
          "output_type": "display_data",
          "data": {
            "image/png": "[encoded data removed]",
            "text/plain": [
              "<Figure size 432x288 with 1 Axes>"
            ]
          },
          "metadata": {
            "needs_background": "light"
          }
        }
      ]
    },
    {
      "cell_type": "code",
      "source": [
        "plt.figure()\n",
        "\n",
        "plt.plot(lineald, '-o', cuad, '-o')\n",
        "plt.plot([22,44,55], '--r')"
      ],
      "metadata": {
        "colab": {
          "base_uri": "https://localhost:8080/",
          "height": 282
        },
        "id": "7Ph9LPwTXpHP",
        "outputId": "6f83970f-af47-4134-c166-3106371e19fe"
      },
      "execution_count": 81,
      "outputs": [
        {
          "output_type": "execute_result",
          "data": {
            "text/plain": [
              "[<matplotlib.lines.Line2D at 0x7f82db745c10>]"
            ]
          },
          "metadata": {},
          "execution_count": 81
        },
        {
          "output_type": "display_data",
          "data": {
            "image/png": "[encoded data removed]",
            "text/plain": [
              "<Figure size 432x288 with 1 Axes>"
            ]
          },
          "metadata": {
            "needs_background": "light"
          }
        }
      ]
    },
    {
      "cell_type": "code",
      "source": [
        "type(lineald)"
      ],
      "metadata": {
        "colab": {
          "base_uri": "https://localhost:8080/"
        },
        "id": "Tj50DdCXYSl-",
        "outputId": "7f32055e-2d2c-4813-9569-7bd02db8240e"
      },
      "execution_count": 82,
      "outputs": [
        {
          "output_type": "execute_result",
          "data": {
            "text/plain": [
              "numpy.ndarray"
            ]
          },
          "metadata": {},
          "execution_count": 82
        }
      ]
    },
    {
      "cell_type": "code",
      "source": [
        "type(cuad)"
      ],
      "metadata": {
        "colab": {
          "base_uri": "https://localhost:8080/"
        },
        "id": "0WHvjS8hYdBI",
        "outputId": "e7437b9a-ed7e-4364-fee3-dadea8a65b9b"
      },
      "execution_count": 83,
      "outputs": [
        {
          "output_type": "execute_result",
          "data": {
            "text/plain": [
              "numpy.ndarray"
            ]
          },
          "metadata": {},
          "execution_count": 83
        }
      ]
    },
    {
      "cell_type": "code",
      "source": [
        "plt.figure()\n",
        "\n",
        "plt.xlabel('Datos')\n",
        "plt.ylabel('Otros datos')\n",
        "plt.title('Título')\n",
        "\n",
        "plt.plot(lineald, '-o', cuad, '-o')\n",
        "plt.plot([22,44,55], '--r')"
      ],
      "metadata": {
        "colab": {
          "base_uri": "https://localhost:8080/",
          "height": 312
        },
        "id": "RCb2zAt7Ygrj",
        "outputId": "dcd3fc4b-0d15-4beb-ef12-c22cb51a9ae6"
      },
      "execution_count": 84,
      "outputs": [
        {
          "output_type": "execute_result",
          "data": {
            "text/plain": [
              "[<matplotlib.lines.Line2D at 0x7f82db6b8e10>]"
            ]
          },
          "metadata": {},
          "execution_count": 84
        },
        {
          "output_type": "display_data",
          "data": {
            "image/png": "[encoded data removed]",
            "text/plain": [
              "<Figure size 432x288 with 1 Axes>"
            ]
          },
          "metadata": {
            "needs_background": "light"
          }
        }
      ]
    },
    {
      "cell_type": "code",
      "source": [
        "fig, ax = plt.subplots()\n",
        "\n",
        "ax.plot(lineald, '-o', label='Muestra 1')\n",
        "ax.plot(cuad, '-X', label='Muestra 2')\n",
        "ax.plot([22,44,55], '--r', label='Aleatoria')\n",
        "leg = ax.legend()"
      ],
      "metadata": {
        "colab": {
          "base_uri": "https://localhost:8080/",
          "height": 265
        },
        "id": "9sOLvNQikhrk",
        "outputId": "0576b279-2d9f-42f2-8153-ea84ef3e6ba4"
      },
      "execution_count": 85,
      "outputs": [
        {
          "output_type": "display_data",
          "data": {
            "image/png": "[encoded data removed]",
            "text/plain": [
              "<Figure size 432x288 with 1 Axes>"
            ]
          },
          "metadata": {
            "needs_background": "light"
          }
        }
      ]
    },
    {
      "cell_type": "code",
      "source": [
        "plt.figure()\n",
        "\n",
        "plt.xlabel('Datos')\n",
        "plt.ylabel('Otros datos')\n",
        "plt.title('Título')\n",
        "\n",
        "plt.plot(lineald, '-o', cuad, '-o')\n",
        "plt.plot([22,44,55], '--r')\n",
        "\n",
        "plt.gca().fill_between(range(len(lineald)), \n",
        "                       lineald, cuad, \n",
        "                       facecolor='blue', \n",
        "                       alpha=0.25)"
      ],
      "metadata": {
        "colab": {
          "base_uri": "https://localhost:8080/",
          "height": 312
        },
        "id": "mJ3fvEVSZD8X",
        "outputId": "b1fb6fb4-0220-408b-fb2e-b19c7f2de223"
      },
      "execution_count": 86,
      "outputs": [
        {
          "output_type": "execute_result",
          "data": {
            "text/plain": [
              "<matplotlib.collections.PolyCollection at 0x7f82dba95a90>"
            ]
          },
          "metadata": {},
          "execution_count": 86
        },
        {
          "output_type": "display_data",
          "data": {
            "image/png": "[encoded data removed]",
            "text/plain": [
              "<Figure size 432x288 with 1 Axes>"
            ]
          },
          "metadata": {
            "needs_background": "light"
          }
        }
      ]
    },
    {
      "cell_type": "code",
      "source": [
        "x = np.linspace(1, 10, 1000)\n",
        "fig, ax = plt.subplots()\n",
        "ax.plot(x, np.log(x), '-b', label='ln')\n",
        "ax.plot(x, np.log10(x), '--r', label='log')\n",
        "leg = ax.legend() #loc='upper center', frameon=False"
      ],
      "metadata": {
        "colab": {
          "base_uri": "https://localhost:8080/",
          "height": 265
        },
        "id": "tiEuLlrfYvSP",
        "outputId": "0954b9ce-df2d-4131-e0a1-e199f771f209"
      },
      "execution_count": 89,
      "outputs": [
        {
          "output_type": "display_data",
          "data": {
            "image/png": "[encoded data removed]",
            "text/plain": [
              "<Figure size 432x288 with 1 Axes>"
            ]
          },
          "metadata": {
            "needs_background": "light"
          }
        }
      ]
    },
    {
      "cell_type": "code",
      "source": [
        "fig, ((ax1,ax2,ax3), (ax4,ax5,ax6), (ax7,ax8,ax9)) = plt.subplots(3, 3, sharex=True, sharey=True)\n",
        "# grilla de 3x3 gráficas \n",
        "ax5.plot(lineald, '-', color='black') #gráfica lineal en la 5ta posición\n",
        "ax8.plot(cuad, '-', color='red') #gráfica cuadrática en la 8va posición"
      ],
      "metadata": {
        "colab": {
          "base_uri": "https://localhost:8080/",
          "height": 282
        },
        "id": "hsce6vAaqrXh",
        "outputId": "605d44da-5118-4ad1-933a-ac856a7ec1bf"
      },
      "execution_count": 90,
      "outputs": [
        {
          "output_type": "execute_result",
          "data": {
            "text/plain": [
              "[<matplotlib.lines.Line2D at 0x7f82db307ed0>]"
            ]
          },
          "metadata": {},
          "execution_count": 90
        },
        {
          "output_type": "display_data",
          "data": {
            "image/png": "[encoded data removed]",
            "text/plain": [
              "<Figure size 432x288 with 9 Axes>"
            ]
          },
          "metadata": {
            "needs_background": "light"
          }
        }
      ]
    },
    {
      "cell_type": "code",
      "source": [
        ""
      ],
      "metadata": {
        "id": "nnjnA3a5ZCPv"
      },
      "execution_count": null,
      "outputs": []
    },
    {
      "cell_type": "markdown",
      "source": [
        "#Gráficos de Barras"
      ],
      "metadata": {
        "id": "s2-Q781SZ16u"
      }
    },
    {
      "cell_type": "code",
      "source": [
        "plt.figure()\n",
        "xvals = range(len(lineald))\n",
        "plt.bar(xvals, lineald, width = 0.3, color=\"red\")"
      ],
      "metadata": {
        "colab": {
          "base_uri": "https://localhost:8080/",
          "height": 282
        },
        "id": "_CHbZmSeZ36L",
        "outputId": "58c4edf5-adcd-47d4-b132-21f7868f0035"
      },
      "execution_count": 91,
      "outputs": [
        {
          "output_type": "execute_result",
          "data": {
            "text/plain": [
              "<BarContainer object of 8 artists>"
            ]
          },
          "metadata": {},
          "execution_count": 91
        },
        {
          "output_type": "display_data",
          "data": {
            "image/png": "[encoded data removed]",
            "text/plain": [
              "<Figure size 432x288 with 1 Axes>"
            ]
          },
          "metadata": {
            "needs_background": "light"
          }
        }
      ]
    },
    {
      "cell_type": "code",
      "source": [
        "#Gráficas con errores\n",
        "\n",
        "import random\n",
        "\n",
        "error = [random.randint(0,15) for x in range(len(lineald))] \n",
        "\n",
        "plt.figure()\n",
        "xvals = range(len(lineald))\n",
        "plt.bar(xvals, lineald, width = 0.3, yerr=error, color='green')"
      ],
      "metadata": {
        "colab": {
          "base_uri": "https://localhost:8080/",
          "height": 282
        },
        "id": "c_7uINcQdA-V",
        "outputId": "d3479758-ca89-4924-ad85-c96df2c908d7"
      },
      "execution_count": 92,
      "outputs": [
        {
          "output_type": "execute_result",
          "data": {
            "text/plain": [
              "<BarContainer object of 8 artists>"
            ]
          },
          "metadata": {},
          "execution_count": 92
        },
        {
          "output_type": "display_data",
          "data": {
            "image/png": "[encoded data removed]",
            "text/plain": [
              "<Figure size 432x288 with 1 Axes>"
            ]
          },
          "metadata": {
            "needs_background": "light"
          }
        }
      ]
    },
    {
      "cell_type": "code",
      "source": [
        "plt.figure()\n",
        "xvals = range(len(lineald))\n",
        "plt.barh(xvals, lineald, height = 0.3, color='b')"
      ],
      "metadata": {
        "colab": {
          "base_uri": "https://localhost:8080/",
          "height": 282
        },
        "id": "g3Sh2wtwdYlQ",
        "outputId": "7a2a9fe3-7a6e-4134-f491-c2885e409d74"
      },
      "execution_count": 93,
      "outputs": [
        {
          "output_type": "execute_result",
          "data": {
            "text/plain": [
              "<BarContainer object of 8 artists>"
            ]
          },
          "metadata": {},
          "execution_count": 93
        },
        {
          "output_type": "display_data",
          "data": {
            "image/png": "[encoded data removed]",
            "text/plain": [
              "<Figure size 432x288 with 1 Axes>"
            ]
          },
          "metadata": {
            "needs_background": "light"
          }
        }
      ]
    },
    {
      "cell_type": "code",
      "source": [
        "plt.figure()\n",
        "xvals = range(len(lineald))\n",
        "plt.bar(xvals, lineald, width = 0.3, color='b')\n",
        "plt.bar(xvals, cuad, width = 0.3, bottom=lineald, color='r')"
      ],
      "metadata": {
        "colab": {
          "base_uri": "https://localhost:8080/",
          "height": 282
        },
        "id": "_GEHPx_cfRmx",
        "outputId": "99ff28b9-24d0-4f24-806f-99006d615f7f"
      },
      "execution_count": 94,
      "outputs": [
        {
          "output_type": "execute_result",
          "data": {
            "text/plain": [
              "<BarContainer object of 8 artists>"
            ]
          },
          "metadata": {},
          "execution_count": 94
        },
        {
          "output_type": "display_data",
          "data": {
            "image/png": "[encoded data removed]",
            "text/plain": [
              "<Figure size 432x288 with 1 Axes>"
            ]
          },
          "metadata": {
            "needs_background": "light"
          }
        }
      ]
    },
    {
      "cell_type": "code",
      "source": [
        "x1 = []\n",
        "\n",
        "# 2 plots de barras pegados\n",
        "for item in xvals:\n",
        "    x1.append(item+0.3)\n",
        "\n",
        "plt.figure()\n",
        "xvals = range(len(lineald))\n",
        "plt.bar(xvals, lineald, width = 0.3)\n",
        "plt.bar(x1, cuad, width = 0.3 ,color='red')"
      ],
      "metadata": {
        "colab": {
          "base_uri": "https://localhost:8080/",
          "height": 282
        },
        "id": "Jun6lDYzfYVD",
        "outputId": "bebf3038-fc32-4bc7-d937-2b56d37f1771"
      },
      "execution_count": 95,
      "outputs": [
        {
          "output_type": "execute_result",
          "data": {
            "text/plain": [
              "<BarContainer object of 8 artists>"
            ]
          },
          "metadata": {},
          "execution_count": 95
        },
        {
          "output_type": "display_data",
          "data": {
            "image/png": "[encoded data removed]",
            "text/plain": [
              "<Figure size 432x288 with 1 Axes>"
            ]
          },
          "metadata": {
            "needs_background": "light"
          }
        }
      ]
    },
    {
      "cell_type": "code",
      "source": [
        ""
      ],
      "metadata": {
        "id": "QyyW4Uh9fwIV"
      },
      "execution_count": null,
      "outputs": []
    },
    {
      "cell_type": "markdown",
      "source": [
        "#Subplots"
      ],
      "metadata": {
        "id": "EC-gVTJvgDXA"
      }
    },
    {
      "cell_type": "code",
      "source": [
        "plt.figure()\n",
        "# subplot con 1 fila, 2 columnas, y el eje 1 es el eje común\n",
        "plt.subplot(1, 2, 1)\n",
        "\n",
        "datoslin = np.array([1,2,3,4,5,6,7,8])\n",
        "\n",
        "datoscuad = datoslin**2 \n",
        "\n",
        "plt.plot(datoslin, '-o')\n",
        "\n",
        "plt.subplot(1, 2, 2)\n",
        "plt.plot(datoscuad, '-o')"
      ],
      "metadata": {
        "colab": {
          "base_uri": "https://localhost:8080/",
          "height": 282
        },
        "id": "RILAJF9rgEZ-",
        "outputId": "a31917e0-8f53-4928-982e-3e8d33c7a234"
      },
      "execution_count": 96,
      "outputs": [
        {
          "output_type": "execute_result",
          "data": {
            "text/plain": [
              "[<matplotlib.lines.Line2D at 0x7f82db726b90>]"
            ]
          },
          "metadata": {},
          "execution_count": 96
        },
        {
          "output_type": "display_data",
          "data": {
            "image/png": "[encoded data removed]",
            "text/plain": [
              "<Figure size 432x288 with 2 Axes>"
            ]
          },
          "metadata": {
            "needs_background": "light"
          }
        }
      ]
    },
    {
      "cell_type": "code",
      "source": [
        "plt.figure()\n",
        "plt.subplot(1, 2, 1)\n",
        "\n",
        "datoslin = np.array([1,2,3,4,5,6,7,8])\n",
        "\n",
        "datoscuad = datoslin**2 \n",
        "\n",
        "plt.plot(datoslin, '-o')\n",
        "plt.plot(datoscuad, '-x')\n",
        "\n",
        "plt.subplot(1, 2, 2)\n",
        "plt.plot(datoscuad, '-o')"
      ],
      "metadata": {
        "colab": {
          "base_uri": "https://localhost:8080/",
          "height": 282
        },
        "id": "QjcP9VFDgFqu",
        "outputId": "6ac62cb1-0743-4127-9970-d9c07598e954"
      },
      "execution_count": 97,
      "outputs": [
        {
          "output_type": "execute_result",
          "data": {
            "text/plain": [
              "[<matplotlib.lines.Line2D at 0x7f82dafdd1d0>]"
            ]
          },
          "metadata": {},
          "execution_count": 97
        },
        {
          "output_type": "display_data",
          "data": {
            "image/png": "[encoded data removed]",
            "text/plain": [
              "<Figure size 432x288 with 2 Axes>"
            ]
          },
          "metadata": {
            "needs_background": "light"
          }
        }
      ]
    },
    {
      "cell_type": "code",
      "source": [
        "plt.figure()\n",
        "ax1 = plt.subplot(1, 2, 1)\n",
        "plt.plot(datoslin, '-o')\n",
        "# pass sharey=ax1 to ensure the two subplots share the same y axis\n",
        "ax2 = plt.subplot(1, 2, 2, sharey=ax1)\n",
        "plt.plot(datoscuad, '-x')"
      ],
      "metadata": {
        "colab": {
          "base_uri": "https://localhost:8080/",
          "height": 282
        },
        "id": "5SeEjy2AgpnS",
        "outputId": "8739f3b6-e5c6-4a9e-dc18-1525502a3b61"
      },
      "execution_count": 98,
      "outputs": [
        {
          "output_type": "execute_result",
          "data": {
            "text/plain": [
              "[<matplotlib.lines.Line2D at 0x7f82daf97fd0>]"
            ]
          },
          "metadata": {},
          "execution_count": 98
        },
        {
          "output_type": "display_data",
          "data": {
            "image/png": "[encoded data removed]",
            "text/plain": [
              "<Figure size 432x288 with 2 Axes>"
            ]
          },
          "metadata": {
            "needs_background": "light"
          }
        }
      ]
    },
    {
      "cell_type": "code",
      "source": [
        ""
      ],
      "metadata": {
        "id": "NzIskSQPhysx"
      },
      "execution_count": null,
      "outputs": []
    },
    {
      "cell_type": "code",
      "source": [
        ""
      ],
      "metadata": {
        "id": "m4tJf_9EsTUQ"
      },
      "execution_count": null,
      "outputs": []
    }
  ],
  "metadata": {
    "kernelspec": {
      "display_name": "Python 3",
      "language": "python",
      "name": "python3"
    },
    "language_info": {
      "codemirror_mode": {
        "name": "ipython",
        "version": 3
      },
      "file_extension": ".py",
      "mimetype": "text/x-python",
      "name": "python",
      "nbconvert_exporter": "python",
      "pygments_lexer": "ipython3",
      "version": "3.8.5"
    },
    "colab": {
      "name": "Copia de Semana1.ipynb",
      "provenance": [],
      "collapsed_sections": []
    }
  },
  "nbformat": 4,
  "nbformat_minor": 0
}